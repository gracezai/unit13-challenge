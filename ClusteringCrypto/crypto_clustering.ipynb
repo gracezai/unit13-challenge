{
 "cells": [
  {
   "cell_type": "markdown",
   "metadata": {},
   "source": [
    "# Clustering Crypto"
   ]
  },
  {
   "cell_type": "code",
   "execution_count": 25,
   "metadata": {},
   "outputs": [],
   "source": [
    "# Initial imports\n",
    "import requests\n",
    "import pandas as pd\n",
    "import matplotlib.pyplot as plt\n",
    "import hvplot.pandas\n",
    "import plotly.express as px\n",
    "from pathlib import Path\n",
    "from sklearn.preprocessing import StandardScaler, MinMaxScaler\n",
    "from sklearn.decomposition import PCA\n",
    "from sklearn.cluster import KMeans\n"
   ]
  },
  {
   "cell_type": "markdown",
   "metadata": {},
   "source": [
    "### Fetching Cryptocurrency Data"
   ]
  },
  {
   "cell_type": "code",
   "execution_count": 26,
   "metadata": {},
   "outputs": [],
   "source": [
    "# Use the following endpoint to fetch json data\n",
    "url = \"https://min-api.cryptocompare.com/data/all/coinlist\"\n",
    "# data = requests.get(url).json()\n",
    "# list(data.keys())"
   ]
  },
  {
   "cell_type": "code",
   "execution_count": 27,
   "metadata": {},
   "outputs": [],
   "source": [
    "# Create a DataFrame \n",
    "# data_df = pd.DataFrame(data[\"Data\"]).T\n",
    "# data_df.head()"
   ]
  },
  {
   "cell_type": "code",
   "execution_count": 28,
   "metadata": {},
   "outputs": [
    {
     "data": {
      "text/html": [
       "<div>\n",
       "<style scoped>\n",
       "    .dataframe tbody tr th:only-of-type {\n",
       "        vertical-align: middle;\n",
       "    }\n",
       "\n",
       "    .dataframe tbody tr th {\n",
       "        vertical-align: top;\n",
       "    }\n",
       "\n",
       "    .dataframe thead th {\n",
       "        text-align: right;\n",
       "    }\n",
       "</style>\n",
       "<table border=\"1\" class=\"dataframe\">\n",
       "  <thead>\n",
       "    <tr style=\"text-align: right;\">\n",
       "      <th></th>\n",
       "      <th>CoinName</th>\n",
       "      <th>Algorithm</th>\n",
       "      <th>IsTrading</th>\n",
       "      <th>ProofType</th>\n",
       "      <th>TotalCoinsMined</th>\n",
       "      <th>TotalCoinSupply</th>\n",
       "    </tr>\n",
       "  </thead>\n",
       "  <tbody>\n",
       "    <tr>\n",
       "      <th>42</th>\n",
       "      <td>42 Coin</td>\n",
       "      <td>Scrypt</td>\n",
       "      <td>True</td>\n",
       "      <td>PoW/PoS</td>\n",
       "      <td>4.199995e+01</td>\n",
       "      <td>42</td>\n",
       "    </tr>\n",
       "    <tr>\n",
       "      <th>365</th>\n",
       "      <td>365Coin</td>\n",
       "      <td>X11</td>\n",
       "      <td>True</td>\n",
       "      <td>PoW/PoS</td>\n",
       "      <td>NaN</td>\n",
       "      <td>2300000000</td>\n",
       "    </tr>\n",
       "    <tr>\n",
       "      <th>404</th>\n",
       "      <td>404Coin</td>\n",
       "      <td>Scrypt</td>\n",
       "      <td>True</td>\n",
       "      <td>PoW/PoS</td>\n",
       "      <td>1.055185e+09</td>\n",
       "      <td>532000000</td>\n",
       "    </tr>\n",
       "    <tr>\n",
       "      <th>611</th>\n",
       "      <td>SixEleven</td>\n",
       "      <td>SHA-256</td>\n",
       "      <td>True</td>\n",
       "      <td>PoW</td>\n",
       "      <td>NaN</td>\n",
       "      <td>611000</td>\n",
       "    </tr>\n",
       "    <tr>\n",
       "      <th>808</th>\n",
       "      <td>808</td>\n",
       "      <td>SHA-256</td>\n",
       "      <td>True</td>\n",
       "      <td>PoW/PoS</td>\n",
       "      <td>0.000000e+00</td>\n",
       "      <td>0</td>\n",
       "    </tr>\n",
       "  </tbody>\n",
       "</table>\n",
       "</div>"
      ],
      "text/plain": [
       "      CoinName Algorithm  IsTrading ProofType  TotalCoinsMined TotalCoinSupply\n",
       "42     42 Coin    Scrypt       True   PoW/PoS     4.199995e+01              42\n",
       "365    365Coin       X11       True   PoW/PoS              NaN      2300000000\n",
       "404    404Coin    Scrypt       True   PoW/PoS     1.055185e+09       532000000\n",
       "611  SixEleven   SHA-256       True       PoW              NaN          611000\n",
       "808        808   SHA-256       True   PoW/PoS     0.000000e+00               0"
      ]
     },
     "execution_count": 28,
     "metadata": {},
     "output_type": "execute_result"
    }
   ],
   "source": [
    "# Alternatively, use the provided csv file:\n",
    "# file_path = Path(\"Resources/crypto_data.csv\")\n",
    "file_path = Path(\"data/crypto_data.csv\")\n",
    "\n",
    "# Create a DataFrame\n",
    "crypto_df = pd.read_csv(file_path,index_col=0)\n",
    "crypto_df.head()"
   ]
  },
  {
   "cell_type": "markdown",
   "metadata": {},
   "source": [
    "### Data Preprocessing"
   ]
  },
  {
   "cell_type": "code",
   "execution_count": 29,
   "metadata": {},
   "outputs": [
    {
     "data": {
      "text/html": [
       "<div>\n",
       "<style scoped>\n",
       "    .dataframe tbody tr th:only-of-type {\n",
       "        vertical-align: middle;\n",
       "    }\n",
       "\n",
       "    .dataframe tbody tr th {\n",
       "        vertical-align: top;\n",
       "    }\n",
       "\n",
       "    .dataframe thead th {\n",
       "        text-align: right;\n",
       "    }\n",
       "</style>\n",
       "<table border=\"1\" class=\"dataframe\">\n",
       "  <thead>\n",
       "    <tr style=\"text-align: right;\">\n",
       "      <th></th>\n",
       "      <th>CoinName</th>\n",
       "      <th>Algorithm</th>\n",
       "      <th>IsTrading</th>\n",
       "      <th>ProofType</th>\n",
       "      <th>TotalCoinsMined</th>\n",
       "      <th>TotalCoinSupply</th>\n",
       "    </tr>\n",
       "  </thead>\n",
       "  <tbody>\n",
       "    <tr>\n",
       "      <th>42</th>\n",
       "      <td>42 Coin</td>\n",
       "      <td>Scrypt</td>\n",
       "      <td>True</td>\n",
       "      <td>PoW/PoS</td>\n",
       "      <td>4.199995e+01</td>\n",
       "      <td>42</td>\n",
       "    </tr>\n",
       "    <tr>\n",
       "      <th>365</th>\n",
       "      <td>365Coin</td>\n",
       "      <td>X11</td>\n",
       "      <td>True</td>\n",
       "      <td>PoW/PoS</td>\n",
       "      <td>NaN</td>\n",
       "      <td>2300000000</td>\n",
       "    </tr>\n",
       "    <tr>\n",
       "      <th>404</th>\n",
       "      <td>404Coin</td>\n",
       "      <td>Scrypt</td>\n",
       "      <td>True</td>\n",
       "      <td>PoW/PoS</td>\n",
       "      <td>1.055185e+09</td>\n",
       "      <td>532000000</td>\n",
       "    </tr>\n",
       "    <tr>\n",
       "      <th>611</th>\n",
       "      <td>SixEleven</td>\n",
       "      <td>SHA-256</td>\n",
       "      <td>True</td>\n",
       "      <td>PoW</td>\n",
       "      <td>NaN</td>\n",
       "      <td>611000</td>\n",
       "    </tr>\n",
       "    <tr>\n",
       "      <th>808</th>\n",
       "      <td>808</td>\n",
       "      <td>SHA-256</td>\n",
       "      <td>True</td>\n",
       "      <td>PoW/PoS</td>\n",
       "      <td>0.000000e+00</td>\n",
       "      <td>0</td>\n",
       "    </tr>\n",
       "    <tr>\n",
       "      <th>1337</th>\n",
       "      <td>EliteCoin</td>\n",
       "      <td>X13</td>\n",
       "      <td>True</td>\n",
       "      <td>PoW/PoS</td>\n",
       "      <td>2.927942e+10</td>\n",
       "      <td>314159265359</td>\n",
       "    </tr>\n",
       "    <tr>\n",
       "      <th>2015</th>\n",
       "      <td>2015 coin</td>\n",
       "      <td>X11</td>\n",
       "      <td>True</td>\n",
       "      <td>PoW/PoS</td>\n",
       "      <td>NaN</td>\n",
       "      <td>0</td>\n",
       "    </tr>\n",
       "    <tr>\n",
       "      <th>BTC</th>\n",
       "      <td>Bitcoin</td>\n",
       "      <td>SHA-256</td>\n",
       "      <td>True</td>\n",
       "      <td>PoW</td>\n",
       "      <td>1.792718e+07</td>\n",
       "      <td>21000000</td>\n",
       "    </tr>\n",
       "    <tr>\n",
       "      <th>ETH</th>\n",
       "      <td>Ethereum</td>\n",
       "      <td>Ethash</td>\n",
       "      <td>True</td>\n",
       "      <td>PoW</td>\n",
       "      <td>1.076842e+08</td>\n",
       "      <td>0</td>\n",
       "    </tr>\n",
       "    <tr>\n",
       "      <th>LTC</th>\n",
       "      <td>Litecoin</td>\n",
       "      <td>Scrypt</td>\n",
       "      <td>True</td>\n",
       "      <td>PoW</td>\n",
       "      <td>6.303924e+07</td>\n",
       "      <td>84000000</td>\n",
       "    </tr>\n",
       "  </tbody>\n",
       "</table>\n",
       "</div>"
      ],
      "text/plain": [
       "       CoinName Algorithm  IsTrading ProofType  TotalCoinsMined  \\\n",
       "42      42 Coin    Scrypt       True   PoW/PoS     4.199995e+01   \n",
       "365     365Coin       X11       True   PoW/PoS              NaN   \n",
       "404     404Coin    Scrypt       True   PoW/PoS     1.055185e+09   \n",
       "611   SixEleven   SHA-256       True       PoW              NaN   \n",
       "808         808   SHA-256       True   PoW/PoS     0.000000e+00   \n",
       "1337  EliteCoin       X13       True   PoW/PoS     2.927942e+10   \n",
       "2015  2015 coin       X11       True   PoW/PoS              NaN   \n",
       "BTC     Bitcoin   SHA-256       True       PoW     1.792718e+07   \n",
       "ETH    Ethereum    Ethash       True       PoW     1.076842e+08   \n",
       "LTC    Litecoin    Scrypt       True       PoW     6.303924e+07   \n",
       "\n",
       "     TotalCoinSupply  \n",
       "42                42  \n",
       "365       2300000000  \n",
       "404        532000000  \n",
       "611           611000  \n",
       "808                0  \n",
       "1337    314159265359  \n",
       "2015               0  \n",
       "BTC         21000000  \n",
       "ETH                0  \n",
       "LTC         84000000  "
      ]
     },
     "execution_count": 29,
     "metadata": {},
     "output_type": "execute_result"
    }
   ],
   "source": [
    "# Keep only necessary columns:\n",
    "# 'CoinName','Algorithm','IsTrading','ProofType','TotalCoinsMined','TotalCoinSupply'\n",
    "crypto_df = crypto_df.loc[:,['CoinName','Algorithm','IsTrading','ProofType','TotalCoinsMined','TotalCoinSupply']]\n",
    "crypto_df.head(10)"
   ]
  },
  {
   "cell_type": "code",
   "execution_count": 30,
   "metadata": {},
   "outputs": [
    {
     "data": {
      "text/html": [
       "<div>\n",
       "<style scoped>\n",
       "    .dataframe tbody tr th:only-of-type {\n",
       "        vertical-align: middle;\n",
       "    }\n",
       "\n",
       "    .dataframe tbody tr th {\n",
       "        vertical-align: top;\n",
       "    }\n",
       "\n",
       "    .dataframe thead th {\n",
       "        text-align: right;\n",
       "    }\n",
       "</style>\n",
       "<table border=\"1\" class=\"dataframe\">\n",
       "  <thead>\n",
       "    <tr style=\"text-align: right;\">\n",
       "      <th></th>\n",
       "      <th>CoinName</th>\n",
       "      <th>Algorithm</th>\n",
       "      <th>IsTrading</th>\n",
       "      <th>ProofType</th>\n",
       "      <th>TotalCoinsMined</th>\n",
       "      <th>TotalCoinSupply</th>\n",
       "    </tr>\n",
       "  </thead>\n",
       "  <tbody>\n",
       "    <tr>\n",
       "      <th>42</th>\n",
       "      <td>42 Coin</td>\n",
       "      <td>Scrypt</td>\n",
       "      <td>True</td>\n",
       "      <td>PoW/PoS</td>\n",
       "      <td>4.199995e+01</td>\n",
       "      <td>42</td>\n",
       "    </tr>\n",
       "    <tr>\n",
       "      <th>365</th>\n",
       "      <td>365Coin</td>\n",
       "      <td>X11</td>\n",
       "      <td>True</td>\n",
       "      <td>PoW/PoS</td>\n",
       "      <td>NaN</td>\n",
       "      <td>2300000000</td>\n",
       "    </tr>\n",
       "    <tr>\n",
       "      <th>404</th>\n",
       "      <td>404Coin</td>\n",
       "      <td>Scrypt</td>\n",
       "      <td>True</td>\n",
       "      <td>PoW/PoS</td>\n",
       "      <td>1.055185e+09</td>\n",
       "      <td>532000000</td>\n",
       "    </tr>\n",
       "    <tr>\n",
       "      <th>611</th>\n",
       "      <td>SixEleven</td>\n",
       "      <td>SHA-256</td>\n",
       "      <td>True</td>\n",
       "      <td>PoW</td>\n",
       "      <td>NaN</td>\n",
       "      <td>611000</td>\n",
       "    </tr>\n",
       "    <tr>\n",
       "      <th>808</th>\n",
       "      <td>808</td>\n",
       "      <td>SHA-256</td>\n",
       "      <td>True</td>\n",
       "      <td>PoW/PoS</td>\n",
       "      <td>0.000000e+00</td>\n",
       "      <td>0</td>\n",
       "    </tr>\n",
       "  </tbody>\n",
       "</table>\n",
       "</div>"
      ],
      "text/plain": [
       "      CoinName Algorithm  IsTrading ProofType  TotalCoinsMined TotalCoinSupply\n",
       "42     42 Coin    Scrypt       True   PoW/PoS     4.199995e+01              42\n",
       "365    365Coin       X11       True   PoW/PoS              NaN      2300000000\n",
       "404    404Coin    Scrypt       True   PoW/PoS     1.055185e+09       532000000\n",
       "611  SixEleven   SHA-256       True       PoW              NaN          611000\n",
       "808        808   SHA-256       True   PoW/PoS     0.000000e+00               0"
      ]
     },
     "execution_count": 30,
     "metadata": {},
     "output_type": "execute_result"
    }
   ],
   "source": [
    "# Keep only cryptocurrencies that are trading\n",
    "crypto_df = crypto_df[crypto_df[\"IsTrading\"]==True]\n",
    "crypto_df.head()\n"
   ]
  },
  {
   "cell_type": "code",
   "execution_count": 31,
   "metadata": {},
   "outputs": [
    {
     "data": {
      "text/html": [
       "<div>\n",
       "<style scoped>\n",
       "    .dataframe tbody tr th:only-of-type {\n",
       "        vertical-align: middle;\n",
       "    }\n",
       "\n",
       "    .dataframe tbody tr th {\n",
       "        vertical-align: top;\n",
       "    }\n",
       "\n",
       "    .dataframe thead th {\n",
       "        text-align: right;\n",
       "    }\n",
       "</style>\n",
       "<table border=\"1\" class=\"dataframe\">\n",
       "  <thead>\n",
       "    <tr style=\"text-align: right;\">\n",
       "      <th></th>\n",
       "      <th>CoinName</th>\n",
       "      <th>Algorithm</th>\n",
       "      <th>IsTrading</th>\n",
       "      <th>ProofType</th>\n",
       "      <th>TotalCoinsMined</th>\n",
       "      <th>TotalCoinSupply</th>\n",
       "    </tr>\n",
       "  </thead>\n",
       "  <tbody>\n",
       "    <tr>\n",
       "      <th>42</th>\n",
       "      <td>42 Coin</td>\n",
       "      <td>Scrypt</td>\n",
       "      <td>True</td>\n",
       "      <td>PoW/PoS</td>\n",
       "      <td>4.199995e+01</td>\n",
       "      <td>42</td>\n",
       "    </tr>\n",
       "    <tr>\n",
       "      <th>365</th>\n",
       "      <td>365Coin</td>\n",
       "      <td>X11</td>\n",
       "      <td>True</td>\n",
       "      <td>PoW/PoS</td>\n",
       "      <td>NaN</td>\n",
       "      <td>2300000000</td>\n",
       "    </tr>\n",
       "    <tr>\n",
       "      <th>404</th>\n",
       "      <td>404Coin</td>\n",
       "      <td>Scrypt</td>\n",
       "      <td>True</td>\n",
       "      <td>PoW/PoS</td>\n",
       "      <td>1.055185e+09</td>\n",
       "      <td>532000000</td>\n",
       "    </tr>\n",
       "    <tr>\n",
       "      <th>611</th>\n",
       "      <td>SixEleven</td>\n",
       "      <td>SHA-256</td>\n",
       "      <td>True</td>\n",
       "      <td>PoW</td>\n",
       "      <td>NaN</td>\n",
       "      <td>611000</td>\n",
       "    </tr>\n",
       "    <tr>\n",
       "      <th>808</th>\n",
       "      <td>808</td>\n",
       "      <td>SHA-256</td>\n",
       "      <td>True</td>\n",
       "      <td>PoW/PoS</td>\n",
       "      <td>0.000000e+00</td>\n",
       "      <td>0</td>\n",
       "    </tr>\n",
       "  </tbody>\n",
       "</table>\n",
       "</div>"
      ],
      "text/plain": [
       "      CoinName Algorithm  IsTrading ProofType  TotalCoinsMined TotalCoinSupply\n",
       "42     42 Coin    Scrypt       True   PoW/PoS     4.199995e+01              42\n",
       "365    365Coin       X11       True   PoW/PoS              NaN      2300000000\n",
       "404    404Coin    Scrypt       True   PoW/PoS     1.055185e+09       532000000\n",
       "611  SixEleven   SHA-256       True       PoW              NaN          611000\n",
       "808        808   SHA-256       True   PoW/PoS     0.000000e+00               0"
      ]
     },
     "execution_count": 31,
     "metadata": {},
     "output_type": "execute_result"
    }
   ],
   "source": [
    "# Keep only cryptocurrencies with a working algorithm\n",
    "crypto_df = crypto_df[crypto_df['Algorithm']!=\"N/A\"]\n",
    "crypto_df.head()\n"
   ]
  },
  {
   "cell_type": "code",
   "execution_count": 32,
   "metadata": {},
   "outputs": [
    {
     "data": {
      "text/html": [
       "<div>\n",
       "<style scoped>\n",
       "    .dataframe tbody tr th:only-of-type {\n",
       "        vertical-align: middle;\n",
       "    }\n",
       "\n",
       "    .dataframe tbody tr th {\n",
       "        vertical-align: top;\n",
       "    }\n",
       "\n",
       "    .dataframe thead th {\n",
       "        text-align: right;\n",
       "    }\n",
       "</style>\n",
       "<table border=\"1\" class=\"dataframe\">\n",
       "  <thead>\n",
       "    <tr style=\"text-align: right;\">\n",
       "      <th></th>\n",
       "      <th>CoinName</th>\n",
       "      <th>Algorithm</th>\n",
       "      <th>ProofType</th>\n",
       "      <th>TotalCoinsMined</th>\n",
       "      <th>TotalCoinSupply</th>\n",
       "    </tr>\n",
       "  </thead>\n",
       "  <tbody>\n",
       "    <tr>\n",
       "      <th>42</th>\n",
       "      <td>42 Coin</td>\n",
       "      <td>Scrypt</td>\n",
       "      <td>PoW/PoS</td>\n",
       "      <td>4.199995e+01</td>\n",
       "      <td>42</td>\n",
       "    </tr>\n",
       "    <tr>\n",
       "      <th>365</th>\n",
       "      <td>365Coin</td>\n",
       "      <td>X11</td>\n",
       "      <td>PoW/PoS</td>\n",
       "      <td>NaN</td>\n",
       "      <td>2300000000</td>\n",
       "    </tr>\n",
       "    <tr>\n",
       "      <th>404</th>\n",
       "      <td>404Coin</td>\n",
       "      <td>Scrypt</td>\n",
       "      <td>PoW/PoS</td>\n",
       "      <td>1.055185e+09</td>\n",
       "      <td>532000000</td>\n",
       "    </tr>\n",
       "    <tr>\n",
       "      <th>611</th>\n",
       "      <td>SixEleven</td>\n",
       "      <td>SHA-256</td>\n",
       "      <td>PoW</td>\n",
       "      <td>NaN</td>\n",
       "      <td>611000</td>\n",
       "    </tr>\n",
       "    <tr>\n",
       "      <th>808</th>\n",
       "      <td>808</td>\n",
       "      <td>SHA-256</td>\n",
       "      <td>PoW/PoS</td>\n",
       "      <td>0.000000e+00</td>\n",
       "      <td>0</td>\n",
       "    </tr>\n",
       "  </tbody>\n",
       "</table>\n",
       "</div>"
      ],
      "text/plain": [
       "      CoinName Algorithm ProofType  TotalCoinsMined TotalCoinSupply\n",
       "42     42 Coin    Scrypt   PoW/PoS     4.199995e+01              42\n",
       "365    365Coin       X11   PoW/PoS              NaN      2300000000\n",
       "404    404Coin    Scrypt   PoW/PoS     1.055185e+09       532000000\n",
       "611  SixEleven   SHA-256       PoW              NaN          611000\n",
       "808        808   SHA-256   PoW/PoS     0.000000e+00               0"
      ]
     },
     "execution_count": 32,
     "metadata": {},
     "output_type": "execute_result"
    }
   ],
   "source": [
    "# Remove the 'IsTrading' column\n",
    "crypto_df.drop(columns=[\"IsTrading\"], inplace=True)\n",
    "crypto_df.head()\n"
   ]
  },
  {
   "cell_type": "code",
   "execution_count": 33,
   "metadata": {},
   "outputs": [
    {
     "data": {
      "text/plain": [
       "CoinName           0\n",
       "Algorithm          0\n",
       "ProofType          0\n",
       "TotalCoinsMined    0\n",
       "TotalCoinSupply    0\n",
       "dtype: int64"
      ]
     },
     "execution_count": 33,
     "metadata": {},
     "output_type": "execute_result"
    }
   ],
   "source": [
    "# Remove rows with at least 1 null value\n",
    "crypto_df = crypto_df.dropna()\n",
    "crypto_df.isnull().sum()\n"
   ]
  },
  {
   "cell_type": "code",
   "execution_count": 34,
   "metadata": {},
   "outputs": [
    {
     "data": {
      "text/html": [
       "<div>\n",
       "<style scoped>\n",
       "    .dataframe tbody tr th:only-of-type {\n",
       "        vertical-align: middle;\n",
       "    }\n",
       "\n",
       "    .dataframe tbody tr th {\n",
       "        vertical-align: top;\n",
       "    }\n",
       "\n",
       "    .dataframe thead th {\n",
       "        text-align: right;\n",
       "    }\n",
       "</style>\n",
       "<table border=\"1\" class=\"dataframe\">\n",
       "  <thead>\n",
       "    <tr style=\"text-align: right;\">\n",
       "      <th></th>\n",
       "      <th>CoinName</th>\n",
       "      <th>Algorithm</th>\n",
       "      <th>ProofType</th>\n",
       "      <th>TotalCoinsMined</th>\n",
       "      <th>TotalCoinSupply</th>\n",
       "    </tr>\n",
       "  </thead>\n",
       "  <tbody>\n",
       "    <tr>\n",
       "      <th>42</th>\n",
       "      <td>42 Coin</td>\n",
       "      <td>Scrypt</td>\n",
       "      <td>PoW/PoS</td>\n",
       "      <td>4.199995e+01</td>\n",
       "      <td>42</td>\n",
       "    </tr>\n",
       "    <tr>\n",
       "      <th>404</th>\n",
       "      <td>404Coin</td>\n",
       "      <td>Scrypt</td>\n",
       "      <td>PoW/PoS</td>\n",
       "      <td>1.055185e+09</td>\n",
       "      <td>532000000</td>\n",
       "    </tr>\n",
       "    <tr>\n",
       "      <th>1337</th>\n",
       "      <td>EliteCoin</td>\n",
       "      <td>X13</td>\n",
       "      <td>PoW/PoS</td>\n",
       "      <td>2.927942e+10</td>\n",
       "      <td>314159265359</td>\n",
       "    </tr>\n",
       "    <tr>\n",
       "      <th>BTC</th>\n",
       "      <td>Bitcoin</td>\n",
       "      <td>SHA-256</td>\n",
       "      <td>PoW</td>\n",
       "      <td>1.792718e+07</td>\n",
       "      <td>21000000</td>\n",
       "    </tr>\n",
       "    <tr>\n",
       "      <th>ETH</th>\n",
       "      <td>Ethereum</td>\n",
       "      <td>Ethash</td>\n",
       "      <td>PoW</td>\n",
       "      <td>1.076842e+08</td>\n",
       "      <td>0</td>\n",
       "    </tr>\n",
       "  </tbody>\n",
       "</table>\n",
       "</div>"
      ],
      "text/plain": [
       "       CoinName Algorithm ProofType  TotalCoinsMined TotalCoinSupply\n",
       "42      42 Coin    Scrypt   PoW/PoS     4.199995e+01              42\n",
       "404     404Coin    Scrypt   PoW/PoS     1.055185e+09       532000000\n",
       "1337  EliteCoin       X13   PoW/PoS     2.927942e+10    314159265359\n",
       "BTC     Bitcoin   SHA-256       PoW     1.792718e+07        21000000\n",
       "ETH    Ethereum    Ethash       PoW     1.076842e+08               0"
      ]
     },
     "execution_count": 34,
     "metadata": {},
     "output_type": "execute_result"
    }
   ],
   "source": [
    "# Remove rows with cryptocurrencies having no coins mined\n",
    "crypto_df = crypto_df[crypto_df[\"TotalCoinsMined\"]>0]\n",
    "crypto_df.head()\n"
   ]
  },
  {
   "cell_type": "code",
   "execution_count": 35,
   "metadata": {},
   "outputs": [
    {
     "data": {
      "text/html": [
       "<div>\n",
       "<style scoped>\n",
       "    .dataframe tbody tr th:only-of-type {\n",
       "        vertical-align: middle;\n",
       "    }\n",
       "\n",
       "    .dataframe tbody tr th {\n",
       "        vertical-align: top;\n",
       "    }\n",
       "\n",
       "    .dataframe thead th {\n",
       "        text-align: right;\n",
       "    }\n",
       "</style>\n",
       "<table border=\"1\" class=\"dataframe\">\n",
       "  <thead>\n",
       "    <tr style=\"text-align: right;\">\n",
       "      <th></th>\n",
       "      <th>CoinName</th>\n",
       "      <th>Algorithm</th>\n",
       "      <th>ProofType</th>\n",
       "      <th>TotalCoinsMined</th>\n",
       "      <th>TotalCoinSupply</th>\n",
       "    </tr>\n",
       "  </thead>\n",
       "  <tbody>\n",
       "    <tr>\n",
       "      <th>42</th>\n",
       "      <td>42 Coin</td>\n",
       "      <td>Scrypt</td>\n",
       "      <td>PoW/PoS</td>\n",
       "      <td>4.199995e+01</td>\n",
       "      <td>42</td>\n",
       "    </tr>\n",
       "    <tr>\n",
       "      <th>404</th>\n",
       "      <td>404Coin</td>\n",
       "      <td>Scrypt</td>\n",
       "      <td>PoW/PoS</td>\n",
       "      <td>1.055185e+09</td>\n",
       "      <td>532000000</td>\n",
       "    </tr>\n",
       "    <tr>\n",
       "      <th>1337</th>\n",
       "      <td>EliteCoin</td>\n",
       "      <td>X13</td>\n",
       "      <td>PoW/PoS</td>\n",
       "      <td>2.927942e+10</td>\n",
       "      <td>314159265359</td>\n",
       "    </tr>\n",
       "    <tr>\n",
       "      <th>BTC</th>\n",
       "      <td>Bitcoin</td>\n",
       "      <td>SHA-256</td>\n",
       "      <td>PoW</td>\n",
       "      <td>1.792718e+07</td>\n",
       "      <td>21000000</td>\n",
       "    </tr>\n",
       "    <tr>\n",
       "      <th>ETH</th>\n",
       "      <td>Ethereum</td>\n",
       "      <td>Ethash</td>\n",
       "      <td>PoW</td>\n",
       "      <td>1.076842e+08</td>\n",
       "      <td>0</td>\n",
       "    </tr>\n",
       "  </tbody>\n",
       "</table>\n",
       "</div>"
      ],
      "text/plain": [
       "       CoinName Algorithm ProofType  TotalCoinsMined TotalCoinSupply\n",
       "42      42 Coin    Scrypt   PoW/PoS     4.199995e+01              42\n",
       "404     404Coin    Scrypt   PoW/PoS     1.055185e+09       532000000\n",
       "1337  EliteCoin       X13   PoW/PoS     2.927942e+10    314159265359\n",
       "BTC     Bitcoin   SHA-256       PoW     1.792718e+07        21000000\n",
       "ETH    Ethereum    Ethash       PoW     1.076842e+08               0"
      ]
     },
     "execution_count": 35,
     "metadata": {},
     "output_type": "execute_result"
    }
   ],
   "source": [
    "# Drop rows where there are 'N/A' text values\n",
    "crypto_df = crypto_df[crypto_df!='N/A']\n",
    "crypto_df.dropna(inplace=True)\n",
    "crypto_df.head()"
   ]
  },
  {
   "cell_type": "code",
   "execution_count": 36,
   "metadata": {},
   "outputs": [
    {
     "data": {
      "text/plain": [
       "42        42 Coin\n",
       "404       404Coin\n",
       "1337    EliteCoin\n",
       "BTC       Bitcoin\n",
       "ETH      Ethereum\n",
       "Name: CoinName, dtype: object"
      ]
     },
     "execution_count": 36,
     "metadata": {},
     "output_type": "execute_result"
    }
   ],
   "source": [
    "# Store the 'CoinName'column in its own DataFrame prior to dropping it from crypto_df \n",
    "coins_name = crypto_df[\"CoinName\"]\n",
    "coins_name.head()\n"
   ]
  },
  {
   "cell_type": "code",
   "execution_count": 37,
   "metadata": {},
   "outputs": [
    {
     "data": {
      "text/html": [
       "<div>\n",
       "<style scoped>\n",
       "    .dataframe tbody tr th:only-of-type {\n",
       "        vertical-align: middle;\n",
       "    }\n",
       "\n",
       "    .dataframe tbody tr th {\n",
       "        vertical-align: top;\n",
       "    }\n",
       "\n",
       "    .dataframe thead th {\n",
       "        text-align: right;\n",
       "    }\n",
       "</style>\n",
       "<table border=\"1\" class=\"dataframe\">\n",
       "  <thead>\n",
       "    <tr style=\"text-align: right;\">\n",
       "      <th></th>\n",
       "      <th>Algorithm</th>\n",
       "      <th>ProofType</th>\n",
       "      <th>TotalCoinsMined</th>\n",
       "      <th>TotalCoinSupply</th>\n",
       "    </tr>\n",
       "  </thead>\n",
       "  <tbody>\n",
       "    <tr>\n",
       "      <th>42</th>\n",
       "      <td>Scrypt</td>\n",
       "      <td>PoW/PoS</td>\n",
       "      <td>4.199995e+01</td>\n",
       "      <td>42</td>\n",
       "    </tr>\n",
       "    <tr>\n",
       "      <th>404</th>\n",
       "      <td>Scrypt</td>\n",
       "      <td>PoW/PoS</td>\n",
       "      <td>1.055185e+09</td>\n",
       "      <td>532000000</td>\n",
       "    </tr>\n",
       "    <tr>\n",
       "      <th>1337</th>\n",
       "      <td>X13</td>\n",
       "      <td>PoW/PoS</td>\n",
       "      <td>2.927942e+10</td>\n",
       "      <td>314159265359</td>\n",
       "    </tr>\n",
       "    <tr>\n",
       "      <th>BTC</th>\n",
       "      <td>SHA-256</td>\n",
       "      <td>PoW</td>\n",
       "      <td>1.792718e+07</td>\n",
       "      <td>21000000</td>\n",
       "    </tr>\n",
       "    <tr>\n",
       "      <th>ETH</th>\n",
       "      <td>Ethash</td>\n",
       "      <td>PoW</td>\n",
       "      <td>1.076842e+08</td>\n",
       "      <td>0</td>\n",
       "    </tr>\n",
       "  </tbody>\n",
       "</table>\n",
       "</div>"
      ],
      "text/plain": [
       "     Algorithm ProofType  TotalCoinsMined TotalCoinSupply\n",
       "42      Scrypt   PoW/PoS     4.199995e+01              42\n",
       "404     Scrypt   PoW/PoS     1.055185e+09       532000000\n",
       "1337       X13   PoW/PoS     2.927942e+10    314159265359\n",
       "BTC    SHA-256       PoW     1.792718e+07        21000000\n",
       "ETH     Ethash       PoW     1.076842e+08               0"
      ]
     },
     "execution_count": 37,
     "metadata": {},
     "output_type": "execute_result"
    }
   ],
   "source": [
    "# Drop the 'CoinName' column since it's not going to be used on the clustering algorithm\n",
    "crypto_df.drop(columns=[\"CoinName\"], inplace=True)\n",
    "crypto_df.head()\n"
   ]
  },
  {
   "cell_type": "code",
   "execution_count": 38,
   "metadata": {},
   "outputs": [
    {
     "data": {
      "text/html": [
       "<div>\n",
       "<style scoped>\n",
       "    .dataframe tbody tr th:only-of-type {\n",
       "        vertical-align: middle;\n",
       "    }\n",
       "\n",
       "    .dataframe tbody tr th {\n",
       "        vertical-align: top;\n",
       "    }\n",
       "\n",
       "    .dataframe thead th {\n",
       "        text-align: right;\n",
       "    }\n",
       "</style>\n",
       "<table border=\"1\" class=\"dataframe\">\n",
       "  <thead>\n",
       "    <tr style=\"text-align: right;\">\n",
       "      <th></th>\n",
       "      <th>TotalCoinsMined</th>\n",
       "      <th>TotalCoinSupply</th>\n",
       "      <th>Algorithm_1GB AES Pattern Search</th>\n",
       "      <th>Algorithm_536</th>\n",
       "      <th>Algorithm_Argon2d</th>\n",
       "      <th>Algorithm_BLAKE256</th>\n",
       "      <th>Algorithm_Blake</th>\n",
       "      <th>Algorithm_Blake2S</th>\n",
       "      <th>Algorithm_Blake2b</th>\n",
       "      <th>Algorithm_C11</th>\n",
       "      <th>...</th>\n",
       "      <th>ProofType_PoW/PoS</th>\n",
       "      <th>ProofType_PoW/PoS</th>\n",
       "      <th>ProofType_PoW/PoW</th>\n",
       "      <th>ProofType_PoW/nPoS</th>\n",
       "      <th>ProofType_Pos</th>\n",
       "      <th>ProofType_Proof of Authority</th>\n",
       "      <th>ProofType_Proof of Trust</th>\n",
       "      <th>ProofType_TPoS</th>\n",
       "      <th>ProofType_Zero-Knowledge Proof</th>\n",
       "      <th>ProofType_dPoW/PoW</th>\n",
       "    </tr>\n",
       "  </thead>\n",
       "  <tbody>\n",
       "    <tr>\n",
       "      <th>42</th>\n",
       "      <td>4.199995e+01</td>\n",
       "      <td>42</td>\n",
       "      <td>0</td>\n",
       "      <td>0</td>\n",
       "      <td>0</td>\n",
       "      <td>0</td>\n",
       "      <td>0</td>\n",
       "      <td>0</td>\n",
       "      <td>0</td>\n",
       "      <td>0</td>\n",
       "      <td>...</td>\n",
       "      <td>1</td>\n",
       "      <td>0</td>\n",
       "      <td>0</td>\n",
       "      <td>0</td>\n",
       "      <td>0</td>\n",
       "      <td>0</td>\n",
       "      <td>0</td>\n",
       "      <td>0</td>\n",
       "      <td>0</td>\n",
       "      <td>0</td>\n",
       "    </tr>\n",
       "    <tr>\n",
       "      <th>404</th>\n",
       "      <td>1.055185e+09</td>\n",
       "      <td>532000000</td>\n",
       "      <td>0</td>\n",
       "      <td>0</td>\n",
       "      <td>0</td>\n",
       "      <td>0</td>\n",
       "      <td>0</td>\n",
       "      <td>0</td>\n",
       "      <td>0</td>\n",
       "      <td>0</td>\n",
       "      <td>...</td>\n",
       "      <td>1</td>\n",
       "      <td>0</td>\n",
       "      <td>0</td>\n",
       "      <td>0</td>\n",
       "      <td>0</td>\n",
       "      <td>0</td>\n",
       "      <td>0</td>\n",
       "      <td>0</td>\n",
       "      <td>0</td>\n",
       "      <td>0</td>\n",
       "    </tr>\n",
       "    <tr>\n",
       "      <th>1337</th>\n",
       "      <td>2.927942e+10</td>\n",
       "      <td>314159265359</td>\n",
       "      <td>0</td>\n",
       "      <td>0</td>\n",
       "      <td>0</td>\n",
       "      <td>0</td>\n",
       "      <td>0</td>\n",
       "      <td>0</td>\n",
       "      <td>0</td>\n",
       "      <td>0</td>\n",
       "      <td>...</td>\n",
       "      <td>1</td>\n",
       "      <td>0</td>\n",
       "      <td>0</td>\n",
       "      <td>0</td>\n",
       "      <td>0</td>\n",
       "      <td>0</td>\n",
       "      <td>0</td>\n",
       "      <td>0</td>\n",
       "      <td>0</td>\n",
       "      <td>0</td>\n",
       "    </tr>\n",
       "    <tr>\n",
       "      <th>BTC</th>\n",
       "      <td>1.792718e+07</td>\n",
       "      <td>21000000</td>\n",
       "      <td>0</td>\n",
       "      <td>0</td>\n",
       "      <td>0</td>\n",
       "      <td>0</td>\n",
       "      <td>0</td>\n",
       "      <td>0</td>\n",
       "      <td>0</td>\n",
       "      <td>0</td>\n",
       "      <td>...</td>\n",
       "      <td>0</td>\n",
       "      <td>0</td>\n",
       "      <td>0</td>\n",
       "      <td>0</td>\n",
       "      <td>0</td>\n",
       "      <td>0</td>\n",
       "      <td>0</td>\n",
       "      <td>0</td>\n",
       "      <td>0</td>\n",
       "      <td>0</td>\n",
       "    </tr>\n",
       "    <tr>\n",
       "      <th>ETH</th>\n",
       "      <td>1.076842e+08</td>\n",
       "      <td>0</td>\n",
       "      <td>0</td>\n",
       "      <td>0</td>\n",
       "      <td>0</td>\n",
       "      <td>0</td>\n",
       "      <td>0</td>\n",
       "      <td>0</td>\n",
       "      <td>0</td>\n",
       "      <td>0</td>\n",
       "      <td>...</td>\n",
       "      <td>0</td>\n",
       "      <td>0</td>\n",
       "      <td>0</td>\n",
       "      <td>0</td>\n",
       "      <td>0</td>\n",
       "      <td>0</td>\n",
       "      <td>0</td>\n",
       "      <td>0</td>\n",
       "      <td>0</td>\n",
       "      <td>0</td>\n",
       "    </tr>\n",
       "  </tbody>\n",
       "</table>\n",
       "<p>5 rows × 98 columns</p>\n",
       "</div>"
      ],
      "text/plain": [
       "      TotalCoinsMined TotalCoinSupply  Algorithm_1GB AES Pattern Search  \\\n",
       "42       4.199995e+01              42                                 0   \n",
       "404      1.055185e+09       532000000                                 0   \n",
       "1337     2.927942e+10    314159265359                                 0   \n",
       "BTC      1.792718e+07        21000000                                 0   \n",
       "ETH      1.076842e+08               0                                 0   \n",
       "\n",
       "      Algorithm_536  Algorithm_Argon2d  Algorithm_BLAKE256  Algorithm_Blake  \\\n",
       "42                0                  0                   0                0   \n",
       "404               0                  0                   0                0   \n",
       "1337              0                  0                   0                0   \n",
       "BTC               0                  0                   0                0   \n",
       "ETH               0                  0                   0                0   \n",
       "\n",
       "      Algorithm_Blake2S  Algorithm_Blake2b  Algorithm_C11  ...  \\\n",
       "42                    0                  0              0  ...   \n",
       "404                   0                  0              0  ...   \n",
       "1337                  0                  0              0  ...   \n",
       "BTC                   0                  0              0  ...   \n",
       "ETH                   0                  0              0  ...   \n",
       "\n",
       "      ProofType_PoW/PoS  ProofType_PoW/PoS   ProofType_PoW/PoW  \\\n",
       "42                    1                   0                  0   \n",
       "404                   1                   0                  0   \n",
       "1337                  1                   0                  0   \n",
       "BTC                   0                   0                  0   \n",
       "ETH                   0                   0                  0   \n",
       "\n",
       "      ProofType_PoW/nPoS  ProofType_Pos  ProofType_Proof of Authority  \\\n",
       "42                     0              0                             0   \n",
       "404                    0              0                             0   \n",
       "1337                   0              0                             0   \n",
       "BTC                    0              0                             0   \n",
       "ETH                    0              0                             0   \n",
       "\n",
       "      ProofType_Proof of Trust  ProofType_TPoS  \\\n",
       "42                           0               0   \n",
       "404                          0               0   \n",
       "1337                         0               0   \n",
       "BTC                          0               0   \n",
       "ETH                          0               0   \n",
       "\n",
       "      ProofType_Zero-Knowledge Proof  ProofType_dPoW/PoW  \n",
       "42                                 0                   0  \n",
       "404                                0                   0  \n",
       "1337                               0                   0  \n",
       "BTC                                0                   0  \n",
       "ETH                                0                   0  \n",
       "\n",
       "[5 rows x 98 columns]"
      ]
     },
     "execution_count": 38,
     "metadata": {},
     "output_type": "execute_result"
    }
   ],
   "source": [
    "# Create dummy variables for text features\n",
    "X_encoded = pd.get_dummies(crypto_df, columns=['Algorithm','ProofType'])\n",
    "X_encoded.head()"
   ]
  },
  {
   "cell_type": "code",
   "execution_count": 39,
   "metadata": {},
   "outputs": [
    {
     "name": "stdout",
     "output_type": "stream",
     "text": [
      "[[-0.11710817 -0.1528703  -0.0433963  -0.0433963  -0.0433963  -0.06142951\n",
      "  -0.07530656 -0.0433963  -0.06142951 -0.06142951 -0.0433963  -0.0433963\n",
      "  -0.19245009 -0.06142951 -0.09740465 -0.0433963  -0.11547005 -0.07530656\n",
      "  -0.0433963  -0.0433963  -0.15191091 -0.0433963  -0.13118084 -0.0433963\n",
      "  -0.0433963  -0.08703883 -0.0433963  -0.0433963  -0.0433963  -0.0433963\n",
      "  -0.06142951 -0.0433963  -0.08703883 -0.08703883 -0.08703883 -0.0433963\n",
      "  -0.13118084 -0.13840913 -0.13840913 -0.0433963  -0.06142951 -0.0433963\n",
      "  -0.07530656 -0.18168574 -0.0433963  -0.0433963  -0.0433963  -0.07530656\n",
      "  -0.15826614 -0.31491833 -0.0433963  -0.08703883 -0.07530656 -0.06142951\n",
      "   1.38675049 -0.0433963  -0.0433963  -0.06142951 -0.0433963  -0.0433963\n",
      "  -0.0433963  -0.0433963  -0.0433963  -0.0433963  -0.0433963  -0.0433963\n",
      "  -0.39879994 -0.0433963  -0.18168574 -0.0433963  -0.08703883 -0.08703883\n",
      "  -0.10680283 -0.0433963  -0.13118084 -0.0433963  -0.0433963  -0.0433963\n",
      "  -0.0433963  -0.07530656 -0.43911856 -0.0433963  -0.06142951 -0.0433963\n",
      "  -0.0433963  -0.89632016 -0.0433963  -0.0433963   1.42222617 -0.0433963\n",
      "  -0.0433963  -0.0433963  -0.0433963  -0.0433963  -0.0433963  -0.0433963\n",
      "  -0.0433963  -0.0433963 ]\n",
      " [-0.09396955 -0.145009   -0.0433963  -0.0433963  -0.0433963  -0.06142951\n",
      "  -0.07530656 -0.0433963  -0.06142951 -0.06142951 -0.0433963  -0.0433963\n",
      "  -0.19245009 -0.06142951 -0.09740465 -0.0433963  -0.11547005 -0.07530656\n",
      "  -0.0433963  -0.0433963  -0.15191091 -0.0433963  -0.13118084 -0.0433963\n",
      "  -0.0433963  -0.08703883 -0.0433963  -0.0433963  -0.0433963  -0.0433963\n",
      "  -0.06142951 -0.0433963  -0.08703883 -0.08703883 -0.08703883 -0.0433963\n",
      "  -0.13118084 -0.13840913 -0.13840913 -0.0433963  -0.06142951 -0.0433963\n",
      "  -0.07530656 -0.18168574 -0.0433963  -0.0433963  -0.0433963  -0.07530656\n",
      "  -0.15826614 -0.31491833 -0.0433963  -0.08703883 -0.07530656 -0.06142951\n",
      "   1.38675049 -0.0433963  -0.0433963  -0.06142951 -0.0433963  -0.0433963\n",
      "  -0.0433963  -0.0433963  -0.0433963  -0.0433963  -0.0433963  -0.0433963\n",
      "  -0.39879994 -0.0433963  -0.18168574 -0.0433963  -0.08703883 -0.08703883\n",
      "  -0.10680283 -0.0433963  -0.13118084 -0.0433963  -0.0433963  -0.0433963\n",
      "  -0.0433963  -0.07530656 -0.43911856 -0.0433963  -0.06142951 -0.0433963\n",
      "  -0.0433963  -0.89632016 -0.0433963  -0.0433963   1.42222617 -0.0433963\n",
      "  -0.0433963  -0.0433963  -0.0433963  -0.0433963  -0.0433963  -0.0433963\n",
      "  -0.0433963  -0.0433963 ]]\n"
     ]
    }
   ],
   "source": [
    "# Standardize data\n",
    "X_scaled = StandardScaler().fit_transform(X_encoded)\n",
    "print(X_scaled[0:2])\n"
   ]
  },
  {
   "cell_type": "markdown",
   "metadata": {},
   "source": [
    "### Reducing Dimensions Using PCA"
   ]
  },
  {
   "cell_type": "code",
   "execution_count": 40,
   "metadata": {},
   "outputs": [],
   "source": [
    "# Use PCA to reduce dimensions to 3 principal components\n",
    "pca = PCA(n_components=3)\n",
    "crypto_pca = pca.fit_transform(X_scaled)"
   ]
  },
  {
   "cell_type": "code",
   "execution_count": 41,
   "metadata": {},
   "outputs": [
    {
     "data": {
      "text/html": [
       "<div>\n",
       "<style scoped>\n",
       "    .dataframe tbody tr th:only-of-type {\n",
       "        vertical-align: middle;\n",
       "    }\n",
       "\n",
       "    .dataframe tbody tr th {\n",
       "        vertical-align: top;\n",
       "    }\n",
       "\n",
       "    .dataframe thead th {\n",
       "        text-align: right;\n",
       "    }\n",
       "</style>\n",
       "<table border=\"1\" class=\"dataframe\">\n",
       "  <thead>\n",
       "    <tr style=\"text-align: right;\">\n",
       "      <th></th>\n",
       "      <th>PC 1</th>\n",
       "      <th>PC 2</th>\n",
       "      <th>PC 3</th>\n",
       "    </tr>\n",
       "  </thead>\n",
       "  <tbody>\n",
       "    <tr>\n",
       "      <th>42</th>\n",
       "      <td>-0.333669</td>\n",
       "      <td>1.006055</td>\n",
       "      <td>-0.566198</td>\n",
       "    </tr>\n",
       "    <tr>\n",
       "      <th>404</th>\n",
       "      <td>-0.317023</td>\n",
       "      <td>1.006163</td>\n",
       "      <td>-0.566305</td>\n",
       "    </tr>\n",
       "    <tr>\n",
       "      <th>1337</th>\n",
       "      <td>2.312328</td>\n",
       "      <td>1.594746</td>\n",
       "      <td>-0.617675</td>\n",
       "    </tr>\n",
       "    <tr>\n",
       "      <th>BTC</th>\n",
       "      <td>-0.138692</td>\n",
       "      <td>-1.330426</td>\n",
       "      <td>0.162366</td>\n",
       "    </tr>\n",
       "    <tr>\n",
       "      <th>ETH</th>\n",
       "      <td>-0.147766</td>\n",
       "      <td>-2.034623</td>\n",
       "      <td>0.379816</td>\n",
       "    </tr>\n",
       "  </tbody>\n",
       "</table>\n",
       "</div>"
      ],
      "text/plain": [
       "          PC 1      PC 2      PC 3\n",
       "42   -0.333669  1.006055 -0.566198\n",
       "404  -0.317023  1.006163 -0.566305\n",
       "1337  2.312328  1.594746 -0.617675\n",
       "BTC  -0.138692 -1.330426  0.162366\n",
       "ETH  -0.147766 -2.034623  0.379816"
      ]
     },
     "execution_count": 41,
     "metadata": {},
     "output_type": "execute_result"
    }
   ],
   "source": [
    "# Create a DataFrame with the principal components data\n",
    "pcs_df = pd.DataFrame(\n",
    "    data = crypto_pca, \n",
    "    columns = [\"PC 1\", \"PC 2\",\"PC 3\"],\n",
    "    index = crypto_df.index\n",
    ")\n",
    "pcs_df.head()"
   ]
  },
  {
   "cell_type": "markdown",
   "metadata": {},
   "source": [
    "### Clustering Crytocurrencies Using K-Means\n",
    "\n",
    "#### Finding the Best Value for `k` Using the Elbow Curve"
   ]
  },
  {
   "cell_type": "code",
   "execution_count": 42,
   "metadata": {},
   "outputs": [
    {
     "name": "stderr",
     "output_type": "stream",
     "text": [
      "C:\\Users\\yuanyuan\\anaconda3\\envs\\alpacaenv\\lib\\site-packages\\sklearn\\cluster\\_kmeans.py:882: UserWarning:\n",
      "\n",
      "KMeans is known to have a memory leak on Windows with MKL, when there are less chunks than available threads. You can avoid it by setting the environment variable OMP_NUM_THREADS=3.\n",
      "\n"
     ]
    },
    {
     "data": {},
     "metadata": {},
     "output_type": "display_data"
    },
    {
     "data": {
      "application/vnd.holoviews_exec.v0+json": "",
      "text/html": [
       "<div id='1536'>\n",
       "\n",
       "\n",
       "\n",
       "\n",
       "\n",
       "  <div class=\"bk-root\" id=\"dc650640-b28a-4df9-a776-879ae43b31fd\" data-root-id=\"1536\"></div>\n",
       "</div>\n",
       "<script type=\"application/javascript\">(function(root) {\n",
       "  function embed_document(root) {\n",
       "    var docs_json = {\"4cc67b75-a5b9-4851-b629-6570320c9ef3\":{\"defs\":[{\"extends\":null,\"module\":null,\"name\":\"ReactiveHTML1\",\"overrides\":[],\"properties\":[]},{\"extends\":null,\"module\":null,\"name\":\"FlexBox1\",\"overrides\":[],\"properties\":[{\"default\":\"flex-start\",\"kind\":null,\"name\":\"align_content\"},{\"default\":\"flex-start\",\"kind\":null,\"name\":\"align_items\"},{\"default\":\"row\",\"kind\":null,\"name\":\"flex_direction\"},{\"default\":\"wrap\",\"kind\":null,\"name\":\"flex_wrap\"},{\"default\":\"flex-start\",\"kind\":null,\"name\":\"justify_content\"}]},{\"extends\":null,\"module\":null,\"name\":\"TemplateActions1\",\"overrides\":[],\"properties\":[{\"default\":0,\"kind\":null,\"name\":\"open_modal\"},{\"default\":0,\"kind\":null,\"name\":\"close_modal\"}]},{\"extends\":null,\"module\":null,\"name\":\"MaterialTemplateActions1\",\"overrides\":[],\"properties\":[{\"default\":0,\"kind\":null,\"name\":\"open_modal\"},{\"default\":0,\"kind\":null,\"name\":\"close_modal\"}]}],\"roots\":{\"references\":[{\"attributes\":{},\"id\":\"1560\",\"type\":\"WheelZoomTool\"},{\"attributes\":{\"text\":\"Elbow Curve\",\"text_color\":\"black\",\"text_font_size\":\"12pt\"},\"id\":\"1542\",\"type\":\"Title\"},{\"attributes\":{\"overlay\":{\"id\":\"1563\"}},\"id\":\"1561\",\"type\":\"BoxZoomTool\"},{\"attributes\":{\"line_color\":\"#30a2da\",\"line_width\":2,\"x\":{\"field\":\"k\"},\"y\":{\"field\":\"inertia\"}},\"id\":\"1579\",\"type\":\"Line\"},{\"attributes\":{\"below\":[{\"id\":\"1550\"}],\"center\":[{\"id\":\"1553\"},{\"id\":\"1557\"}],\"height\":300,\"left\":[{\"id\":\"1554\"}],\"margin\":[5,5,5,5],\"min_border_bottom\":10,\"min_border_left\":10,\"min_border_right\":10,\"min_border_top\":10,\"renderers\":[{\"id\":\"1577\"}],\"sizing_mode\":\"fixed\",\"title\":{\"id\":\"1542\"},\"toolbar\":{\"id\":\"1564\"},\"width\":700,\"x_range\":{\"id\":\"1538\"},\"x_scale\":{\"id\":\"1546\"},\"y_range\":{\"id\":\"1539\"},\"y_scale\":{\"id\":\"1548\"}},\"id\":\"1541\",\"subtype\":\"Figure\",\"type\":\"Plot\"},{\"attributes\":{\"axis\":{\"id\":\"1550\"},\"grid_line_color\":null,\"ticker\":null},\"id\":\"1553\",\"type\":\"Grid\"},{\"attributes\":{},\"id\":\"1546\",\"type\":\"LinearScale\"},{\"attributes\":{\"line_alpha\":0.1,\"line_color\":\"#30a2da\",\"line_width\":2,\"x\":{\"field\":\"k\"},\"y\":{\"field\":\"inertia\"}},\"id\":\"1575\",\"type\":\"Line\"},{\"attributes\":{\"end\":10.0,\"reset_end\":10.0,\"reset_start\":1.0,\"start\":1.0,\"tags\":[[[\"k\",\"k\",null]]]},\"id\":\"1538\",\"type\":\"Range1d\"},{\"attributes\":{},\"id\":\"1548\",\"type\":\"LinearScale\"},{\"attributes\":{\"end\":3993.1675625370062,\"reset_end\":3993.1675625370062,\"reset_start\":-247.4397651341231,\"start\":-247.4397651341231,\"tags\":[[[\"inertia\",\"inertia\",null]]]},\"id\":\"1539\",\"type\":\"Range1d\"},{\"attributes\":{\"axis_label\":\"inertia\",\"formatter\":{\"id\":\"1588\"},\"major_label_policy\":{\"id\":\"1586\"},\"ticker\":{\"id\":\"1555\"}},\"id\":\"1554\",\"type\":\"LinearAxis\"},{\"attributes\":{\"axis_label\":\"k\",\"formatter\":{\"id\":\"1583\"},\"major_label_policy\":{\"id\":\"1581\"},\"ticker\":{\"id\":\"1580\"}},\"id\":\"1550\",\"type\":\"LinearAxis\"},{\"attributes\":{\"margin\":[5,5,5,5],\"name\":\"HSpacer02713\",\"sizing_mode\":\"stretch_width\"},\"id\":\"1537\",\"type\":\"Spacer\"},{\"attributes\":{\"line_color\":\"#30a2da\",\"line_width\":2,\"x\":{\"field\":\"k\"},\"y\":{\"field\":\"inertia\"}},\"id\":\"1574\",\"type\":\"Line\"},{\"attributes\":{},\"id\":\"1581\",\"type\":\"AllLabels\"},{\"attributes\":{},\"id\":\"1562\",\"type\":\"ResetTool\"},{\"attributes\":{\"children\":[{\"id\":\"1537\"},{\"id\":\"1541\"},{\"id\":\"1607\"}],\"margin\":[0,0,0,0],\"name\":\"Row02709\",\"tags\":[\"embedded\"]},\"id\":\"1536\",\"type\":\"Row\"},{\"attributes\":{},\"id\":\"1555\",\"type\":\"BasicTicker\"},{\"attributes\":{\"ticks\":[1,2,3,4,5,6,7,8,9,10]},\"id\":\"1580\",\"type\":\"FixedTicker\"},{\"attributes\":{\"axis\":{\"id\":\"1554\"},\"dimension\":1,\"grid_line_color\":null,\"ticker\":null},\"id\":\"1557\",\"type\":\"Grid\"},{\"attributes\":{},\"id\":\"1588\",\"type\":\"BasicTickFormatter\"},{\"attributes\":{\"bottom_units\":\"screen\",\"fill_alpha\":0.5,\"fill_color\":\"lightgrey\",\"left_units\":\"screen\",\"level\":\"overlay\",\"line_alpha\":1.0,\"line_color\":\"black\",\"line_dash\":[4,4],\"line_width\":2,\"right_units\":\"screen\",\"syncable\":false,\"top_units\":\"screen\"},\"id\":\"1563\",\"type\":\"BoxAnnotation\"},{\"attributes\":{\"active_multi\":null,\"tools\":[{\"id\":\"1540\"},{\"id\":\"1558\"},{\"id\":\"1559\"},{\"id\":\"1560\"},{\"id\":\"1561\"},{\"id\":\"1562\"}]},\"id\":\"1564\",\"type\":\"Toolbar\"},{\"attributes\":{},\"id\":\"1583\",\"type\":\"BasicTickFormatter\"},{\"attributes\":{},\"id\":\"1596\",\"type\":\"UnionRenderers\"},{\"attributes\":{\"source\":{\"id\":\"1571\"}},\"id\":\"1578\",\"type\":\"CDSView\"},{\"attributes\":{\"data_source\":{\"id\":\"1571\"},\"glyph\":{\"id\":\"1574\"},\"hover_glyph\":null,\"muted_glyph\":{\"id\":\"1576\"},\"nonselection_glyph\":{\"id\":\"1575\"},\"selection_glyph\":{\"id\":\"1579\"},\"view\":{\"id\":\"1578\"}},\"id\":\"1577\",\"type\":\"GlyphRenderer\"},{\"attributes\":{},\"id\":\"1572\",\"type\":\"Selection\"},{\"attributes\":{\"data\":{\"inertia\":{\"__ndarray__\":\"YNVzNpFvrEA4yREHg1mjQDhD9KkCPJdAQxcpG69KgEAocNm7VLJ0QNLmjmQu0nBAva7DQ0q1akDwPXD5QXtkQCEaA5cZzmBAvTMUbW18WkA=\",\"dtype\":\"float64\",\"order\":\"little\",\"shape\":[10]},\"k\":[1,2,3,4,5,6,7,8,9,10]},\"selected\":{\"id\":\"1572\"},\"selection_policy\":{\"id\":\"1596\"}},\"id\":\"1571\",\"type\":\"ColumnDataSource\"},{\"attributes\":{\"callback\":null,\"renderers\":[{\"id\":\"1577\"}],\"tags\":[\"hv_created\"],\"tooltips\":[[\"k\",\"@{k}\"],[\"inertia\",\"@{inertia}\"]]},\"id\":\"1540\",\"type\":\"HoverTool\"},{\"attributes\":{\"margin\":[5,5,5,5],\"name\":\"HSpacer02714\",\"sizing_mode\":\"stretch_width\"},\"id\":\"1607\",\"type\":\"Spacer\"},{\"attributes\":{},\"id\":\"1586\",\"type\":\"AllLabels\"},{\"attributes\":{},\"id\":\"1558\",\"type\":\"SaveTool\"},{\"attributes\":{},\"id\":\"1559\",\"type\":\"PanTool\"},{\"attributes\":{\"line_alpha\":0.2,\"line_color\":\"#30a2da\",\"line_width\":2,\"x\":{\"field\":\"k\"},\"y\":{\"field\":\"inertia\"}},\"id\":\"1576\",\"type\":\"Line\"}],\"root_ids\":[\"1536\"]},\"title\":\"Bokeh Application\",\"version\":\"2.3.2\"}};\n",
       "    var render_items = [{\"docid\":\"4cc67b75-a5b9-4851-b629-6570320c9ef3\",\"root_ids\":[\"1536\"],\"roots\":{\"1536\":\"dc650640-b28a-4df9-a776-879ae43b31fd\"}}];\n",
       "    root.Bokeh.embed.embed_items_notebook(docs_json, render_items);\n",
       "  }\n",
       "  if (root.Bokeh !== undefined && root.Bokeh.Panel !== undefined) {\n",
       "    embed_document(root);\n",
       "  } else {\n",
       "    var attempts = 0;\n",
       "    var timer = setInterval(function(root) {\n",
       "      if (root.Bokeh !== undefined && root.Bokeh.Panel !== undefined) {\n",
       "        clearInterval(timer);\n",
       "        embed_document(root);\n",
       "      } else if (document.readyState == \"complete\") {\n",
       "        attempts++;\n",
       "        if (attempts > 200) {\n",
       "          clearInterval(timer);\n",
       "          console.log(\"Bokeh: ERROR: Unable to run BokehJS code because BokehJS library is missing\");\n",
       "        }\n",
       "      }\n",
       "    }, 25, root)\n",
       "  }\n",
       "})(window);</script>"
      ],
      "text/plain": [
       ":Curve   [k]   (inertia)"
      ]
     },
     "execution_count": 42,
     "metadata": {
      "application/vnd.holoviews_exec.v0+json": {
       "id": "1536"
      }
     },
     "output_type": "execute_result"
    }
   ],
   "source": [
    "inertia = []\n",
    "k = list(range(1, 11))\n",
    "\n",
    "# Calculate the inertia for the range of k values\n",
    "for i in k:\n",
    "    km = KMeans(n_clusters=i, random_state=0)\n",
    "    km.fit(pcs_df)\n",
    "    inertia.append(km.inertia_)\n",
    "\n",
    "\n",
    "# Create the Elbow Curve using hvPlot\n",
    "elbow_data = {\"k\": k, \"inertia\": inertia}\n",
    "df_elbow = pd.DataFrame(elbow_data)\n",
    "df_elbow.hvplot.line(x=\"k\", y=\"inertia\", xticks=k, title=\"Elbow Curve\")\n"
   ]
  },
  {
   "cell_type": "markdown",
   "metadata": {},
   "source": [
    "Running K-Means with `k=<your best value for k here>`"
   ]
  },
  {
   "cell_type": "code",
   "execution_count": 43,
   "metadata": {},
   "outputs": [
    {
     "data": {
      "text/html": [
       "<div>\n",
       "<style scoped>\n",
       "    .dataframe tbody tr th:only-of-type {\n",
       "        vertical-align: middle;\n",
       "    }\n",
       "\n",
       "    .dataframe tbody tr th {\n",
       "        vertical-align: top;\n",
       "    }\n",
       "\n",
       "    .dataframe thead th {\n",
       "        text-align: right;\n",
       "    }\n",
       "</style>\n",
       "<table border=\"1\" class=\"dataframe\">\n",
       "  <thead>\n",
       "    <tr style=\"text-align: right;\">\n",
       "      <th></th>\n",
       "      <th>CoinName</th>\n",
       "      <th>Algorithm</th>\n",
       "      <th>ProofType</th>\n",
       "      <th>TotalCoinsMined</th>\n",
       "      <th>TotalCoinSupply</th>\n",
       "      <th>PC 1</th>\n",
       "      <th>PC 2</th>\n",
       "      <th>PC 3</th>\n",
       "      <th>Class</th>\n",
       "    </tr>\n",
       "  </thead>\n",
       "  <tbody>\n",
       "    <tr>\n",
       "      <th>42</th>\n",
       "      <td>42 Coin</td>\n",
       "      <td>Scrypt</td>\n",
       "      <td>PoW/PoS</td>\n",
       "      <td>4.199995e+01</td>\n",
       "      <td>42</td>\n",
       "      <td>-0.333669</td>\n",
       "      <td>1.006055</td>\n",
       "      <td>-0.566198</td>\n",
       "      <td>0</td>\n",
       "    </tr>\n",
       "    <tr>\n",
       "      <th>404</th>\n",
       "      <td>404Coin</td>\n",
       "      <td>Scrypt</td>\n",
       "      <td>PoW/PoS</td>\n",
       "      <td>1.055185e+09</td>\n",
       "      <td>532000000</td>\n",
       "      <td>-0.317023</td>\n",
       "      <td>1.006163</td>\n",
       "      <td>-0.566305</td>\n",
       "      <td>0</td>\n",
       "    </tr>\n",
       "    <tr>\n",
       "      <th>1337</th>\n",
       "      <td>EliteCoin</td>\n",
       "      <td>X13</td>\n",
       "      <td>PoW/PoS</td>\n",
       "      <td>2.927942e+10</td>\n",
       "      <td>314159265359</td>\n",
       "      <td>2.312328</td>\n",
       "      <td>1.594746</td>\n",
       "      <td>-0.617675</td>\n",
       "      <td>0</td>\n",
       "    </tr>\n",
       "    <tr>\n",
       "      <th>BTC</th>\n",
       "      <td>Bitcoin</td>\n",
       "      <td>SHA-256</td>\n",
       "      <td>PoW</td>\n",
       "      <td>1.792718e+07</td>\n",
       "      <td>21000000</td>\n",
       "      <td>-0.138692</td>\n",
       "      <td>-1.330426</td>\n",
       "      <td>0.162366</td>\n",
       "      <td>1</td>\n",
       "    </tr>\n",
       "    <tr>\n",
       "      <th>ETH</th>\n",
       "      <td>Ethereum</td>\n",
       "      <td>Ethash</td>\n",
       "      <td>PoW</td>\n",
       "      <td>1.076842e+08</td>\n",
       "      <td>0</td>\n",
       "      <td>-0.147766</td>\n",
       "      <td>-2.034623</td>\n",
       "      <td>0.379816</td>\n",
       "      <td>1</td>\n",
       "    </tr>\n",
       "  </tbody>\n",
       "</table>\n",
       "</div>"
      ],
      "text/plain": [
       "       CoinName Algorithm ProofType  TotalCoinsMined TotalCoinSupply  \\\n",
       "42      42 Coin    Scrypt   PoW/PoS     4.199995e+01              42   \n",
       "404     404Coin    Scrypt   PoW/PoS     1.055185e+09       532000000   \n",
       "1337  EliteCoin       X13   PoW/PoS     2.927942e+10    314159265359   \n",
       "BTC     Bitcoin   SHA-256       PoW     1.792718e+07        21000000   \n",
       "ETH    Ethereum    Ethash       PoW     1.076842e+08               0   \n",
       "\n",
       "          PC 1      PC 2      PC 3  Class  \n",
       "42   -0.333669  1.006055 -0.566198      0  \n",
       "404  -0.317023  1.006163 -0.566305      0  \n",
       "1337  2.312328  1.594746 -0.617675      0  \n",
       "BTC  -0.138692 -1.330426  0.162366      1  \n",
       "ETH  -0.147766 -2.034623  0.379816      1  "
      ]
     },
     "execution_count": 43,
     "metadata": {},
     "output_type": "execute_result"
    }
   ],
   "source": [
    "# Initialize the K-Means model\n",
    "model = KMeans(n_clusters=4, random_state=0)\n",
    "\n",
    "# Fit the model\n",
    "model.fit(pcs_df)\n",
    "\n",
    "# Predict clusters\n",
    "predictions = model.predict(pcs_df)\n",
    "\n",
    "# Create a new DataFrame including predicted clusters and cryptocurrencies features\n",
    "pcs_df[\"Class\"] = model.labels_\n",
    "\n",
    "clustered_df = pd.concat([coins_name,crypto_df,pcs_df],axis=1)\n",
    "clustered_df.head()"
   ]
  },
  {
   "cell_type": "code",
   "execution_count": null,
   "metadata": {},
   "outputs": [],
   "source": []
  },
  {
   "cell_type": "markdown",
   "metadata": {},
   "source": [
    "### Visualizing Results\n",
    "\n",
    "#### 3D-Scatter with Clusters"
   ]
  },
  {
   "cell_type": "code",
   "execution_count": 44,
   "metadata": {},
   "outputs": [
    {
     "data": {
      "application/vnd.plotly.v1+json": {
       "config": {
        "plotlyServerURL": "https://plot.ly"
       },
       "data": [
        {
         "customdata": [
          [
           "Scrypt"
          ],
          [
           "Scrypt"
          ],
          [
           "X13"
          ],
          [
           "X11"
          ],
          [
           "SHA-512"
          ],
          [
           "SHA-256"
          ],
          [
           "SHA-256"
          ],
          [
           "X15"
          ],
          [
           "Scrypt"
          ],
          [
           "Scrypt"
          ],
          [
           "Scrypt"
          ],
          [
           "Scrypt"
          ],
          [
           "Scrypt"
          ],
          [
           "Scrypt"
          ],
          [
           "Groestl"
          ],
          [
           "PoS"
          ],
          [
           "Scrypt"
          ],
          [
           "Scrypt"
          ],
          [
           "X11"
          ],
          [
           "X11"
          ],
          [
           "SHA3"
          ],
          [
           "Scrypt"
          ],
          [
           "SHA-256"
          ],
          [
           "Scrypt"
          ],
          [
           "X13"
          ],
          [
           "X13"
          ],
          [
           "NeoScrypt"
          ],
          [
           "Scrypt"
          ],
          [
           "Scrypt"
          ],
          [
           "Scrypt"
          ],
          [
           "X11"
          ],
          [
           "X11"
          ],
          [
           "Multiple"
          ],
          [
           "PHI1612"
          ],
          [
           "X11"
          ],
          [
           "Scrypt"
          ],
          [
           "Scrypt"
          ],
          [
           "Scrypt"
          ],
          [
           "X11"
          ],
          [
           "Multiple"
          ],
          [
           "X13"
          ],
          [
           "Scrypt"
          ],
          [
           "Shabal256"
          ],
          [
           "Counterparty"
          ],
          [
           "SHA-256"
          ],
          [
           "Groestl"
          ],
          [
           "Scrypt"
          ],
          [
           "X13"
          ],
          [
           "Scrypt"
          ],
          [
           "Scrypt"
          ],
          [
           "X13"
          ],
          [
           "X11"
          ],
          [
           "Scrypt"
          ],
          [
           "X11"
          ],
          [
           "SHA3"
          ],
          [
           "QUAIT"
          ],
          [
           "X11"
          ],
          [
           "Scrypt"
          ],
          [
           "X13"
          ],
          [
           "SHA-256"
          ],
          [
           "X15"
          ],
          [
           "BLAKE256"
          ],
          [
           "SHA-256"
          ],
          [
           "X11"
          ],
          [
           "SHA-256"
          ],
          [
           "NIST5"
          ],
          [
           "Scrypt"
          ],
          [
           "Scrypt"
          ],
          [
           "X11"
          ],
          [
           "Scrypt"
          ],
          [
           "SHA-256"
          ],
          [
           "Scrypt"
          ],
          [
           "PoS"
          ],
          [
           "X11"
          ],
          [
           "SHA-256"
          ],
          [
           "SHA-256"
          ],
          [
           "NIST5"
          ],
          [
           "X11"
          ],
          [
           "POS 3.0"
          ],
          [
           "Scrypt"
          ],
          [
           "Scrypt"
          ],
          [
           "Scrypt"
          ],
          [
           "X13"
          ],
          [
           "X11"
          ],
          [
           "X11"
          ],
          [
           "Scrypt"
          ],
          [
           "SHA-256"
          ],
          [
           "X11"
          ],
          [
           "Scrypt"
          ],
          [
           "Scrypt"
          ],
          [
           "Scrypt"
          ],
          [
           "Scrypt"
          ],
          [
           "SHA-256D"
          ],
          [
           "PoS"
          ],
          [
           "Scrypt"
          ],
          [
           "X11"
          ],
          [
           "PoS"
          ],
          [
           "X13"
          ],
          [
           "X14"
          ],
          [
           "PoS"
          ],
          [
           "SHA-256D"
          ],
          [
           "DPoS"
          ],
          [
           "X11"
          ],
          [
           "X13"
          ],
          [
           "X11"
          ],
          [
           "PoS"
          ],
          [
           "Scrypt"
          ],
          [
           "Scrypt"
          ],
          [
           "PoS"
          ],
          [
           "X11"
          ],
          [
           "SHA-256"
          ],
          [
           "Scrypt"
          ],
          [
           "X11"
          ],
          [
           "Scrypt"
          ],
          [
           "Scrypt"
          ],
          [
           "X11"
          ],
          [
           "Scrypt"
          ],
          [
           "Scrypt"
          ],
          [
           "Scrypt"
          ],
          [
           "Scrypt"
          ],
          [
           "Quark"
          ],
          [
           "QuBit"
          ],
          [
           "Scrypt"
          ],
          [
           "SHA-256"
          ],
          [
           "X11"
          ],
          [
           "Scrypt"
          ],
          [
           "Scrypt"
          ],
          [
           "Scrypt"
          ],
          [
           "Scrypt"
          ],
          [
           "X13"
          ],
          [
           "Scrypt"
          ],
          [
           "Scrypt"
          ],
          [
           "X11"
          ],
          [
           "Blake2S"
          ],
          [
           "X11"
          ],
          [
           "PoS"
          ],
          [
           "X11"
          ],
          [
           "PoS"
          ],
          [
           "X11"
          ],
          [
           "Scrypt"
          ],
          [
           "Scrypt"
          ],
          [
           "Scrypt"
          ],
          [
           "SHA-256"
          ],
          [
           "X11"
          ],
          [
           "Scrypt"
          ],
          [
           "PoS"
          ],
          [
           "Scrypt"
          ],
          [
           "X15"
          ],
          [
           "SHA-256"
          ],
          [
           "POS 3.0"
          ],
          [
           "536"
          ],
          [
           "NIST5"
          ],
          [
           "NIST5"
          ],
          [
           "Skein"
          ],
          [
           "X13"
          ],
          [
           "Scrypt"
          ],
          [
           "X13"
          ],
          [
           "SkunkHash v2 Raptor"
          ],
          [
           "Skein"
          ],
          [
           "X11"
          ],
          [
           "Scrypt"
          ],
          [
           "VeChainThor Authority"
          ],
          [
           "PoS"
          ],
          [
           "Scrypt"
          ],
          [
           "Scrypt"
          ],
          [
           "SHA-512"
          ],
          [
           "Ouroboros"
          ],
          [
           "X11"
          ],
          [
           "NeoScrypt"
          ],
          [
           "Scrypt"
          ],
          [
           "Lyra2REv2"
          ],
          [
           "Scrypt"
          ],
          [
           "SHA-256"
          ],
          [
           "NIST5"
          ],
          [
           "PHI1612"
          ],
          [
           "Scrypt"
          ],
          [
           "Quark"
          ],
          [
           "POS 2.0"
          ],
          [
           "Scrypt"
          ],
          [
           "SHA-256"
          ],
          [
           "X11"
          ],
          [
           "DPoS"
          ],
          [
           "NIST5"
          ],
          [
           "X13"
          ],
          [
           "Scrypt"
          ],
          [
           "NIST5"
          ],
          [
           "Quark"
          ],
          [
           "Scrypt"
          ],
          [
           "Scrypt"
          ],
          [
           "X11"
          ],
          [
           "Quark"
          ],
          [
           "Scrypt"
          ],
          [
           "Scrypt"
          ],
          [
           "X11"
          ],
          [
           "POS 3.0"
          ],
          [
           "Ethash"
          ],
          [
           "Scrypt"
          ],
          [
           "Scrypt"
          ],
          [
           "X13"
          ],
          [
           "C11"
          ],
          [
           "X11"
          ],
          [
           "XEVAN"
          ],
          [
           "Scrypt"
          ],
          [
           "VBFT"
          ],
          [
           "NIST5"
          ],
          [
           "Scrypt"
          ],
          [
           "Scrypt"
          ],
          [
           "Scrypt"
          ],
          [
           "Green Protocol"
          ],
          [
           "PoS"
          ],
          [
           "Scrypt"
          ],
          [
           "Semux BFT consensus"
          ],
          [
           "Quark"
          ],
          [
           "PoS"
          ],
          [
           "X16R"
          ],
          [
           "Scrypt"
          ],
          [
           "XEVAN"
          ],
          [
           "Scrypt"
          ],
          [
           "Scrypt"
          ],
          [
           "Scrypt"
          ],
          [
           "SHA-256D"
          ],
          [
           "Scrypt"
          ],
          [
           "X15"
          ],
          [
           "Scrypt"
          ],
          [
           "Quark"
          ],
          [
           "SHA-256"
          ],
          [
           "DPoS"
          ],
          [
           "X16R"
          ],
          [
           "Quark"
          ],
          [
           "Quark"
          ],
          [
           "Scrypt"
          ],
          [
           "Lyra2REv2"
          ],
          [
           "Quark"
          ],
          [
           "Scrypt"
          ],
          [
           "X11"
          ],
          [
           "X11"
          ],
          [
           "Scrypt"
          ],
          [
           "PoS"
          ],
          [
           "Keccak"
          ],
          [
           "X11"
          ],
          [
           "Scrypt"
          ],
          [
           "SHA-512"
          ],
          [
           "XEVAN"
          ],
          [
           "XEVAN"
          ],
          [
           "X11"
          ],
          [
           "Quark"
          ],
          [
           "Equihash"
          ],
          [
           "Scrypt"
          ],
          [
           "Quark"
          ],
          [
           "Quark"
          ],
          [
           "Scrypt"
          ],
          [
           "X11"
          ],
          [
           "Scrypt"
          ],
          [
           "XEVAN"
          ],
          [
           "SHA-256D"
          ],
          [
           "X11"
          ],
          [
           "X11"
          ],
          [
           "DPoS"
          ],
          [
           "Scrypt"
          ],
          [
           "X11"
          ],
          [
           "Scrypt"
          ],
          [
           "Scrypt"
          ],
          [
           "SHA-256"
          ],
          [
           "Scrypt"
          ],
          [
           "X11"
          ],
          [
           "Scrypt"
          ],
          [
           "SHA-256"
          ],
          [
           "X11"
          ],
          [
           "Scrypt"
          ],
          [
           "Scrypt"
          ],
          [
           "X11"
          ],
          [
           "Scrypt"
          ],
          [
           "PoS"
          ],
          [
           "X11"
          ],
          [
           "SHA-256"
          ],
          [
           "DPoS"
          ],
          [
           "Scrypt"
          ],
          [
           "Scrypt"
          ],
          [
           "NeoScrypt"
          ],
          [
           "X13"
          ],
          [
           "DPoS"
          ],
          [
           "DPoS"
          ],
          [
           "SHA-256"
          ],
          [
           "PoS"
          ],
          [
           "PoS"
          ],
          [
           "SHA-256"
          ],
          [
           "Scrypt"
          ],
          [
           "Scrypt"
          ]
         ],
         "hovertemplate": "<b>%{hovertext}</b><br><br>Class=%{marker.color}<br>PC 3=%{x}<br>PC 2=%{y}<br>PC 1=%{z}<br>Algorithm=%{customdata[0]}<extra></extra>",
         "hovertext": [
          "42 Coin",
          "404Coin",
          "EliteCoin",
          "Dash",
          "Bitshares",
          "BitcoinDark",
          "PayCoin",
          "KoboCoin",
          "Aurora Coin",
          "BlueCoin",
          "EnergyCoin",
          "BitBar",
          "CryptoBullion",
          "CasinoCoin",
          "Diamond",
          "Exclusive Coin",
          "FlutterCoin",
          "HoboNickels",
          "HyperStake",
          "IOCoin",
          "MaxCoin",
          "MintCoin",
          "MazaCoin",
          "Nautilus Coin",
          "NavCoin",
          "OpalCoin",
          "Orbitcoin",
          "PotCoin",
          "PhoenixCoin",
          "Reddcoin",
          "SuperCoin",
          "SyncCoin",
          "TeslaCoin",
          "TittieCoin",
          "TorCoin",
          "UnitaryStatus Dollar",
          "UltraCoin",
          "VeriCoin",
          "X11 Coin",
          "Crypti",
          "StealthCoin",
          "ZCC Coin",
          "BurstCoin",
          "StorjCoin",
          "Neutron",
          "FairCoin",
          "RubyCoin",
          "Kore",
          "Dnotes",
          "8BIT Coin",
          "Sativa Coin",
          "Ucoin",
          "Vtorrent",
          "IslaCoin",
          "Nexus",
          "Droidz",
          "Squall Coin",
          "Diggits",
          "Paycon",
          "Emercoin",
          "EverGreenCoin",
          "Decred",
          "EDRCoin",
          "Hitcoin",
          "DubaiCoin",
          "PWR Coin",
          "BillaryCoin",
          "GPU Coin",
          "EuropeCoin",
          "ZeitCoin",
          "SwingCoin",
          "SafeExchangeCoin",
          "Nebuchadnezzar",
          "Ratecoin",
          "Revenu",
          "Clockcoin",
          "VIP Tokens",
          "BitSend",
          "Let it Ride",
          "PutinCoin",
          "iBankCoin",
          "Frankywillcoin",
          "MudraCoin",
          "Lutetium Coin",
          "GoldBlocks",
          "CarterCoin",
          "BitTokens",
          "MustangCoin",
          "ZoneCoin",
          "RootCoin",
          "BitCurrency",
          "Swiscoin",
          "BuzzCoin",
          "Opair",
          "PesoBit",
          "Halloween Coin",
          "CoffeeCoin",
          "RoyalCoin",
          "GanjaCoin V2",
          "TeamUP",
          "LanaCoin",
          "ARK",
          "InsaneCoin",
          "EmberCoin",
          "XenixCoin",
          "FreeCoin",
          "PLNCoin",
          "AquariusCoin",
          "Creatio",
          "Eternity",
          "Eurocoin",
          "BitcoinFast",
          "Stakenet",
          "BitConnect Coin",
          "MoneyCoin",
          "Enigma",
          "Russiacoin",
          "PandaCoin",
          "GameUnits",
          "GAKHcoin",
          "Allsafe",
          "LiteCreed",
          "Klingon Empire Darsek",
          "Internet of People",
          "KushCoin",
          "Printerium",
          "Impeach",
          "Zilbercoin",
          "FirstCoin",
          "FindCoin",
          "OpenChat",
          "RenosCoin",
          "VirtacoinPlus",
          "TajCoin",
          "Impact",
          "Atmos",
          "HappyCoin",
          "MacronCoin",
          "Condensate",
          "Independent Money System",
          "ArgusCoin",
          "LomoCoin",
          "ProCurrency",
          "GoldReserve",
          "GrowthCoin",
          "Phreak",
          "Degas Coin",
          "HTML5 Coin",
          "Ultimate Secure Cash",
          "QTUM",
          "Espers",
          "Denarius",
          "Virta Unique Coin",
          "Bitcoin Planet",
          "BritCoin",
          "Linda",
          "DeepOnion",
          "Signatum",
          "Cream",
          "Monoeci",
          "Draftcoin",
          "Vechain",
          "Stakecoin",
          "CoinonatX",
          "Ethereum Dark",
          "Obsidian",
          "Cardano",
          "Regalcoin",
          "TrezarCoin",
          "TerraNovaCoin",
          "Rupee",
          "WomenCoin",
          "Theresa May Coin",
          "NamoCoin",
          "LUXCoin",
          "Xios",
          "Bitcloud 2.0",
          "KekCoin",
          "BlackholeCoin",
          "Infinity Economics",
          "Magnet",
          "Lamden Tau",
          "Electra",
          "Bitcoin Diamond",
          "Cash & Back Coin",
          "Bulwark",
          "Kalkulus",
          "GermanCoin",
          "LiteCoin Ultra",
          "PhantomX",
          "Digiwage",
          "Trollcoin",
          "Litecoin Plus",
          "Monkey Project",
          "TokenPay",
          "1717 Masonic Commemorative Token",
          "My Big Coin",
          "Unified Society USDEX",
          "Tokyo Coin",
          "Stipend",
          "Pushi",
          "Ellerium",
          "Velox",
          "Ontology",
          "Bitspace",
          "Briacoin",
          "Ignition",
          "MedicCoin",
          "Bitcoin Green",
          "Deviant Coin",
          "Abjcoin",
          "Semux",
          "Carebit",
          "Zealium",
          "Proton",
          "iDealCash",
          "Bitcoin Incognito",
          "HollyWoodCoin",
          "Swisscoin",
          "Xt3ch",
          "TheVig",
          "EmaratCoin",
          "Dekado",
          "Lynx",
          "Poseidon Quark",
          "BitcoinWSpectrum",
          "Muse",
          "Trivechain",
          "Dystem",
          "Giant",
          "Peony Coin",
          "Absolute Coin",
          "Vitae",
          "TPCash",
          "ARENON",
          "EUNO",
          "MMOCoin",
          "Ketan",
          "XDNA",
          "PAXEX",
          "ThunderStake",
          "Kcash",
          "Bettex coin",
          "BitMoney",
          "Junson Ming Chan Coin",
          "HerbCoin",
          "PirateCash",
          "Oduwa",
          "Galilel",
          "Crypto Sports",
          "Credit",
          "Dash Platinum",
          "Nasdacoin",
          "Beetle Coin",
          "Titan Coin",
          "Award",
          "Insane Coin",
          "ALAX",
          "LiteDoge",
          "TruckCoin",
          "OrangeCoin",
          "BitstarCoin",
          "NeosCoin",
          "HyperCoin",
          "PinkCoin",
          "AudioCoin",
          "IncaKoin",
          "Piggy Coin",
          "Genstake",
          "XiaoMiCoin",
          "CapriCoin",
          " ClubCoin",
          "Radium",
          "Creditbit ",
          "OKCash",
          "Lisk",
          "HiCoin",
          "WhiteCoin",
          "FriendshipCoin",
          "Triangles Coin",
          "EOS",
          "Oxycoin",
          "TigerCash",
          "Particl",
          "Nxt",
          "ZEPHYR",
          "Gapcoin",
          "BitcoinPlus"
         ],
         "legendgroup": "0",
         "marker": {
          "color": [
           0,
           0,
           0,
           0,
           0,
           0,
           0,
           0,
           0,
           0,
           0,
           0,
           0,
           0,
           0,
           0,
           0,
           0,
           0,
           0,
           0,
           0,
           0,
           0,
           0,
           0,
           0,
           0,
           0,
           0,
           0,
           0,
           0,
           0,
           0,
           0,
           0,
           0,
           0,
           0,
           0,
           0,
           0,
           0,
           0,
           0,
           0,
           0,
           0,
           0,
           0,
           0,
           0,
           0,
           0,
           0,
           0,
           0,
           0,
           0,
           0,
           0,
           0,
           0,
           0,
           0,
           0,
           0,
           0,
           0,
           0,
           0,
           0,
           0,
           0,
           0,
           0,
           0,
           0,
           0,
           0,
           0,
           0,
           0,
           0,
           0,
           0,
           0,
           0,
           0,
           0,
           0,
           0,
           0,
           0,
           0,
           0,
           0,
           0,
           0,
           0,
           0,
           0,
           0,
           0,
           0,
           0,
           0,
           0,
           0,
           0,
           0,
           0,
           0,
           0,
           0,
           0,
           0,
           0,
           0,
           0,
           0,
           0,
           0,
           0,
           0,
           0,
           0,
           0,
           0,
           0,
           0,
           0,
           0,
           0,
           0,
           0,
           0,
           0,
           0,
           0,
           0,
           0,
           0,
           0,
           0,
           0,
           0,
           0,
           0,
           0,
           0,
           0,
           0,
           0,
           0,
           0,
           0,
           0,
           0,
           0,
           0,
           0,
           0,
           0,
           0,
           0,
           0,
           0,
           0,
           0,
           0,
           0,
           0,
           0,
           0,
           0,
           0,
           0,
           0,
           0,
           0,
           0,
           0,
           0,
           0,
           0,
           0,
           0,
           0,
           0,
           0,
           0,
           0,
           0,
           0,
           0,
           0,
           0,
           0,
           0,
           0,
           0,
           0,
           0,
           0,
           0,
           0,
           0,
           0,
           0,
           0,
           0,
           0,
           0,
           0,
           0,
           0,
           0,
           0,
           0,
           0,
           0,
           0,
           0,
           0,
           0,
           0,
           0,
           0,
           0,
           0,
           0,
           0,
           0,
           0,
           0,
           0,
           0,
           0,
           0,
           0,
           0,
           0,
           0,
           0,
           0,
           0,
           0,
           0,
           0,
           0,
           0,
           0,
           0,
           0,
           0,
           0,
           0,
           0,
           0,
           0,
           0,
           0,
           0,
           0,
           0,
           0,
           0,
           0,
           0,
           0,
           0,
           0,
           0,
           0,
           0,
           0,
           0,
           0,
           0,
           0,
           0,
           0,
           0,
           0,
           0,
           0
          ],
          "coloraxis": "coloraxis",
          "symbol": "circle"
         },
         "mode": "markers",
         "name": "0",
         "scene": "scene",
         "showlegend": true,
         "type": "scatter3d",
         "x": [
          -0.5661975509923352,
          -0.5663052626682132,
          -0.6176746289023001,
          -0.44136414662826157,
          -0.21041626056277804,
          -0.366546702237955,
          -0.0744306916482303,
          -0.587090227918344,
          -0.5661994618059791,
          -0.5662599094756327,
          -0.5662096279811725,
          -0.5661975590754992,
          -0.5661976607815012,
          -0.3801512620924895,
          -0.3098656194558848,
          -0.03214682178135458,
          -0.20985235059778812,
          -0.5662072495223327,
          -0.14941082595367505,
          -0.4413649925304097,
          -0.5277296472494308,
          -0.27617028232805474,
          -0.3667236938326745,
          -0.2740822783191061,
          -0.6123516261340262,
          -0.6123466279534102,
          -0.34909014876680583,
          -0.5662226873868295,
          -0.5662055752810974,
          -0.5690744878424981,
          -0.14925107760077957,
          -0.44136308845288785,
          0.08456070422743255,
          -0.24797913078559952,
          -0.44136330702692267,
          -0.5663179075189714,
          -0.5662032627127019,
          -0.4042742103890855,
          -0.4413638134611203,
          0.08455954885230667,
          -0.6123483882691793,
          -0.5662198922848676,
          -0.31340100152043837,
          -0.09942426961472114,
          -0.36655077466037267,
          -0.30987048119506394,
          -0.2740832317696121,
          -0.6123454328501915,
          -0.2741016121880307,
          -0.5661976950371462,
          -0.6123459151966864,
          -0.1492465216412651,
          -0.5661988461986024,
          -0.4413632368796761,
          -0.2733044021270823,
          -0.59834808525909,
          -0.22010459763269102,
          -0.2740911594533613,
          -0.6123477927841804,
          -0.36655844751287353,
          -0.587086518397232,
          -0.34161661939156335,
          -0.3665469358850503,
          -0.442649800145443,
          -0.36654698919125517,
          -0.547158235277226,
          -0.5661987624521947,
          -0.27408626444887046,
          -0.4413671117795895,
          -0.2784827863059732,
          -0.36654714603011285,
          -0.3761406052394864,
          -0.03214838348980266,
          -0.44137687947535703,
          -0.36654826234701887,
          -0.36655214344550324,
          -0.5461789446399319,
          -0.44136656836611754,
          -0.18177215111326506,
          -0.5662929813012118,
          -0.5661983417851512,
          -0.566208146471365,
          -0.32023020782280764,
          -0.14931571363804083,
          -0.44136500661893574,
          -0.5662024907336154,
          -0.3665466263686336,
          -0.44136317632192146,
          -0.56619796855232,
          -0.5661977413624407,
          -0.2740972078405582,
          -0.5547271980588045,
          -0.5807643261832776,
          -0.03215410836857485,
          -0.5662008408246407,
          -0.44140079004070115,
          -0.032161171709476855,
          -0.32022841843807065,
          -0.6891994120659347,
          -0.03215036628131927,
          -0.5788515460568396,
          -0.09228810135345025,
          -0.4413651229752196,
          -0.6213992973023702,
          -0.44136349660816493,
          -0.032151562134847135,
          -0.5661995294129414,
          -0.5661981197378163,
          -0.03214838348980266,
          -0.44136415304954085,
          -0.36654777863837346,
          -0.5661997956663379,
          0.004617256612847661,
          -0.5661988573189723,
          -0.5662037089554799,
          -0.441363207368813,
          -0.5661994989583694,
          -0.27765308049517984,
          -0.5661979934494799,
          -0.5661979023117578,
          -0.18792535701096746,
          -0.3072152529337254,
          -0.5662038118755607,
          -0.3665468158364544,
          -0.4413637168250132,
          -0.5661988674948832,
          -0.5661977527064787,
          -0.27408128077617305,
          -0.429146063368216,
          -0.3202296925160848,
          -0.5663035058227097,
          -0.27408437098436245,
          -0.44136516188044694,
          -0.6075164280642982,
          -0.4413748052256596,
          -0.03215803315982498,
          -0.4413659821643035,
          -0.03218878581882643,
          -0.44137893719342464,
          -0.5661982437144975,
          -0.566197887275676,
          -0.566205418060341,
          -0.07502563428304009,
          -0.4413650861947341,
          -0.2741251636372859,
          -0.03214761673390643,
          -0.5662004679597153,
          -0.591778752682924,
          -0.07443199603844514,
          -0.18177869761208912,
          -0.5670890628464945,
          -0.5461705390077394,
          -0.5461771665577381,
          -0.6626396929150368,
          -0.6123474622791156,
          -0.5674760920474788,
          -0.6123474391686475,
          0.07639931111795618,
          -0.6626436701496055,
          -0.44136439616503664,
          -0.27408253160606005,
          0.6147310896464645,
          -0.03214713852920463,
          -0.5661998457754547,
          -0.5661979959981885,
          -0.210122230196781,
          -0.1483161938558438,
          -0.4413640121247923,
          -0.3491108539872286,
          -0.5661977859392526,
          -0.06324174114396144,
          -0.5711486601370745,
          -0.3665562191312212,
          -0.5462344449642066,
          -0.5399202105967419,
          -0.5661979261295346,
          -0.48004577211307203,
          0.017744051638753172,
          -0.5661992723709929,
          -0.07538301025149625,
          -0.4413679628111825,
          -0.09230868679063105,
          -0.5491915941811661,
          -0.6123647937842416,
          -0.5662100836975726,
          -0.2540545811643846,
          -0.1879260279051344,
          -0.567070450260883,
          -0.5661995499419497,
          -0.4413679124839706,
          -0.18792782482458503,
          -0.5662625882909312,
          -0.5661978280422397,
          -0.1492466980033877,
          -0.1817703040707611,
          0.14302899483179696,
          -0.21466992801419973,
          -0.5662224118330657,
          -0.32025700874771235,
          -0.4331734348497539,
          -0.4413634965233449,
          -0.5807691186311239,
          -0.274084042762432,
          -0.06264038473295426,
          -0.5461717954580483,
          -0.5661976574301094,
          -0.5661977060907003,
          -0.2741107047187295,
          -0.08258903267328878,
          -0.032149099276364175,
          -0.5661987551691929,
          -0.09754287799485732,
          -0.48005647177997124,
          -0.03214797672376651,
          -0.010000543823310141,
          -0.5663753939930928,
          -0.3595113197576093,
          -0.27408456580159457,
          -0.5672782903031226,
          -0.2740816567460767,
          -0.5786907077974621,
          -0.5662003273909642,
          -0.29497167355085074,
          -0.43809317941751275,
          -0.18792955582828524,
          -0.07443587397777685,
          -0.11388606302274373,
          -0.30212101572356787,
          -0.1879250667816375,
          -0.4800418157685308,
          -0.274212634137929,
          -0.35535790411201235,
          -0.18793147167863827,
          -0.5662058993039765,
          -0.1492484223504179,
          -0.4413664990105479,
          -0.27409317225540036,
          -0.03214882150909025,
          -0.36918533964388134,
          -0.14924732518295888,
          -0.5664422955948922,
          -0.3640168163750286,
          -0.28865267838115677,
          -0.590663196398348,
          -0.1509350286842947,
          -0.4800450821762416,
          0.24505496223216905,
          -0.5661991653878315,
          -0.48004313587186154,
          -0.18792450195222793,
          -0.5698074751763968,
          -0.14924632555878833,
          -0.5662002240713837,
          -0.5807920405655561,
          -0.5788137201715285,
          -0.4413678851842085,
          -0.4413656561670786,
          -0.09238246032816425,
          -0.5679745281586697,
          -0.44138689378347956,
          -0.5661994617133818,
          -0.5661999944780788,
          -0.07443001195941919,
          -0.5661984961633262,
          -0.44140981969339305,
          -0.5663758860125779,
          -0.36830843693889115,
          -0.4414194095462147,
          -0.5662035564677897,
          -0.5662403565270433,
          -0.4413844757313307,
          -0.566208970991056,
          -0.03214670976008918,
          -0.043384123721474585,
          -0.3665545531198079,
          -0.0922895333471105,
          -0.2751402054070776,
          -0.5662246274165049,
          -0.34909038357769007,
          -0.6123451553094915,
          -0.09237665849850606,
          -0.09238665253355509,
          -0.07453537157385756,
          -0.03214724291254716,
          0.27102892294613695,
          -0.0530336958358039,
          -0.5662009707744431,
          -0.27408058438148725
         ],
         "y": [
          1.0060547887026403,
          1.006163151317901,
          1.5947463101815327,
          1.1167060980625958,
          1.5755981816487563,
          0.7695760815847622,
          0.7176715214552285,
          1.7840923418581882,
          1.0060528415944812,
          1.0062800951053579,
          1.0060984238887742,
          1.0060545540120667,
          1.0060546575664067,
          0.4022477104222031,
          0.8629454171117055,
          1.793180060111503,
          0.30561121929985213,
          1.006026490024679,
          1.0653959480591786,
          1.1167091543773404,
          1.4531706885533695,
          0.9616920122526306,
          0.7689502389657479,
          0.9541393399258139,
          1.7413383627816195,
          1.741320303939834,
          0.41225596158838124,
          1.005923917574794,
          1.0060320532393732,
          1.0164494005638924,
          1.0648187639891895,
          1.116713886646603,
          0.2576554500100372,
          1.7312173472038639,
          1.1167093985426908,
          1.0056451095911556,
          1.0060226420660667,
          0.5751625481832275,
          1.1167136035925709,
          0.25771240805528267,
          1.7413266641069447,
          1.005607673881394,
          0.589262655568166,
          1.8656062581103556,
          0.7695665151389628,
          0.8629652949000023,
          0.9541513252047708,
          1.7413096519031501,
          0.9539538172887909,
          1.0060553091706865,
          1.7413124503326856,
          1.0647917462131937,
          1.006048911696873,
          1.1167144234527557,
          1.0157071788934888,
          1.779318724785944,
          0.667808766107775,
          0.9541271850058101,
          1.7412981207807068,
          0.7691022948368077,
          1.784249800550923,
          0.9409173482170052,
          0.7695769257711285,
          1.1073488432055378,
          0.7695831884824527,
          1.4216049990053277,
          1.0060369967267804,
          0.9540456030363743,
          1.1165257348449442,
          0.9177915380906556,
          0.7695681839984887,
          0.40773678687725506,
          1.793175145978077,
          1.1167241276000994,
          0.7694757685496028,
          0.7693302397176255,
          1.418019235357887,
          1.1166530912153116,
          1.752974562306167,
          1.0053439147799297,
          1.0060342452051396,
          1.0060402874918313,
          1.6893036825072196,
          1.0647055112478154,
          1.1166944258782543,
          1.006025131199389,
          0.7695763352983919,
          1.1167126211451899,
          1.0060452128521562,
          1.0060554765478242,
          0.9542018219101509,
          0.46901898447911944,
          1.7834433438146724,
          1.793167327308048,
          1.0060666751622387,
          1.1160583524592436,
          1.7932107942161852,
          1.6894014648144542,
          1.8881121664137108,
          1.793033988111744,
          1.7831270906669379,
          1.9382962876359708,
          1.11670540299896,
          1.7735796899206155,
          1.1167133279495811,
          1.793170795613007,
          1.0060415941315033,
          1.0060346745463378,
          1.793175145978077,
          1.1166860635032274,
          0.7695810263804747,
          1.0060454803374168,
          0.5172264813723646,
          1.0060447291893788,
          1.0057335964106904,
          1.116711677648609,
          1.0059858185342623,
          0.9498869483869411,
          1.0060495254939772,
          1.0060543078789745,
          1.6453083207711325,
          0.5011685566807643,
          1.0058134919213642,
          0.7695770198613681,
          1.1167112201591562,
          1.006048988642106,
          1.0060439403366392,
          0.9541152451349847,
          0.5034764523838062,
          1.6893997210826404,
          1.0059097765397507,
          0.9541372697841454,
          1.1166685950615252,
          1.7250490455944332,
          1.1166981589109997,
          1.7931623527282543,
          1.1166715588152432,
          1.793120545349288,
          1.1165072320959555,
          1.0060460950709065,
          1.0060409076408898,
          1.0055553773057428,
          0.6802400123667571,
          1.1166999917501175,
          0.9532471569474734,
          1.7931670972674325,
          1.0060099052124076,
          1.753711892814866,
          0.717577220671162,
          1.7529631142702737,
          1.8226308070839794,
          1.4180310919736314,
          1.417996975925529,
          1.793957949682744,
          1.7413074833542384,
          0.9842824743043649,
          1.7413132597880974,
          1.8263268401930657,
          1.7939723197616457,
          1.1167135937691766,
          0.9541396080033727,
          2.546199244110748,
          1.7931486898816502,
          1.0060376108343585,
          1.0060541796576197,
          1.5763880971265676,
          1.8056298082233182,
          1.1167029729114515,
          0.4121216268950332,
          1.0060473329913067,
          0.7688023545084364,
          1.010747662641274,
          0.7695692957191754,
          1.4176338649139837,
          1.783677234506234,
          1.006045059575108,
          1.6971361595887728,
          1.8041149861964223,
          1.00605320242758,
          0.7163684035253896,
          1.1166554902822277,
          1.9381727261096267,
          1.4131166199651426,
          1.7412750930799807,
          1.0059892249142277,
          1.366112356778401,
          1.645308105588548,
          0.9828168568309967,
          1.0059828357274365,
          1.1167049250100274,
          1.6452618144288655,
          1.0058147216771742,
          1.006053678385981,
          1.0647918555884046,
          1.7529723753923685,
          0.013434074213026906,
          0.46736420320992383,
          1.0060221551045487,
          1.6890838150017689,
          0.8431638027855224,
          1.1167021656721683,
          1.3384959521462798,
          0.9540888037513247,
          1.7538948178946745,
          1.4180145182014023,
          1.0060535897859704,
          1.0060527099291499,
          0.9539866693575618,
          1.905520892912321,
          1.7931418393407117,
          1.0060433044421613,
          1.8391951564177833,
          1.6971748183741457,
          1.793142006151236,
          0.7993600702372253,
          1.0039938010956093,
          0.8896139167362442,
          0.9541424214426243,
          1.0045756645851482,
          0.9541224097391634,
          1.7864551205300703,
          1.0060204818774088,
          1.7323108137134808,
          0.39698181260527937,
          1.6449883157206913,
          0.7176439216096485,
          1.8358775375129994,
          0.8512659454720891,
          1.645304105133718,
          1.6972247132629896,
          0.9457089985875986,
          0.8206974363135252,
          1.6452855475313075,
          1.0055571160789776,
          1.0647801393806362,
          1.1166998180131278,
          0.954050003700496,
          1.7930764397781787,
          0.8243679714867265,
          1.0647524226129403,
          0.9974380270978767,
          1.3866593807529624,
          1.2865901035364897,
          0.8988641196813143,
          1.070903019146941,
          1.6972107308149296,
          0.07340514963306523,
          1.006049537118285,
          1.697222153906583,
          1.6453060917452111,
          0.9796156276516906,
          1.064791196101653,
          1.0060201085751808,
          1.3383465232523,
          1.7843131790890134,
          1.1165095271316667,
          1.1167073294654422,
          1.938175358134751,
          0.9940009022212801,
          1.1167998978114781,
          1.0059561251608258,
          1.0060349789204024,
          0.7176645790788799,
          1.0060582037061283,
          1.1166188131338826,
          1.0011568521800303,
          0.7758526990014658,
          1.1163895441741323,
          1.0060685694696967,
          1.005998314362025,
          1.1166813713440042,
          1.006011596402612,
          1.793174904847261,
          0.4953154823166488,
          0.7695606371025895,
          1.9382830303667986,
          0.9526872371065647,
          1.0059942673578988,
          0.41222704102023067,
          1.7413149198147222,
          1.9386822314315415,
          1.9387183407104234,
          0.7175285008807638,
          1.7931770242853835,
          1.8807247138462413,
          0.8198237395321865,
          1.0059351857343366,
          0.9541412321357566
         ],
         "z": [
          -0.3336689061948735,
          -0.31702324082141886,
          2.3123284699348834,
          -0.39851719997544865,
          -0.2656808660075051,
          -0.305316084523499,
          -0.26590675537651387,
          -0.23500467937312067,
          -0.3333287894537439,
          -0.3259151957622211,
          -0.33216724264411474,
          -0.3336648443366979,
          -0.33364914107300814,
          0.6703226443103862,
          -0.36712988460235385,
          -0.36662740362052426,
          -0.2979854017344526,
          -0.3317292911953287,
          -0.33895528455958673,
          -0.3984120197305898,
          -0.400759497854066,
          -0.03448541731108161,
          -0.26865208386252803,
          -0.29401081417956615,
          -0.27033759359178355,
          -0.27095907192830443,
          -0.3384749458849418,
          -0.3279755050677808,
          -0.3320719779291677,
          0.02405204549164768,
          -0.3588185404617137,
          -0.398783278403764,
          -0.24853203065513887,
          -0.3170320786513163,
          -0.3986949658905109,
          -0.3089211169518326,
          -0.3323472966062011,
          -0.314358940916409,
          -0.39865950882009527,
          -0.2489997795833519,
          -0.2707401926600163,
          -0.32477687650899245,
          0.02478404487107504,
          -0.3551992705861927,
          -0.3045284675160834,
          -0.36655215124698864,
          -0.29399118730283835,
          -0.27103430303352727,
          -0.2886487026863993,
          -0.33365099578814117,
          -0.2709865558169175,
          -0.35926275075811914,
          -0.33338557745768604,
          -0.39876482899562904,
          -0.38586072711050845,
          -0.4217213005768058,
          -0.3768936138067766,
          -0.29239404254960805,
          -0.27050853114534046,
          -0.29787608312723346,
          -0.23744506882535846,
          -0.07996002846532828,
          -0.30528703263052503,
          -0.07646320324766194,
          -0.3053507165607849,
          -0.23058867658606091,
          -0.3332614805108419,
          -0.29226256479217616,
          -0.3959352085974867,
          0.8583486684173057,
          -0.3051508493232644,
          -0.05979990162535262,
          -0.366310937502655,
          -0.3966099392116595,
          -0.3038948477715452,
          -0.3015641309084537,
          -0.3518042992249947,
          -0.39750072997094116,
          -0.35058537560783015,
          -0.3095748283020478,
          -0.3332995204191552,
          -0.3317400455996481,
          -0.23031976293142403,
          -0.34676467736906563,
          -0.39823907333933306,
          -0.3325044261224357,
          -0.3053316322773259,
          -0.3987540165222917,
          -0.3334885907036443,
          -0.33364523565874615,
          -0.29225338989412075,
          -0.24876925120756127,
          0.04391145988956357,
          -0.3652689398189559,
          -0.33325984570184847,
          -0.3849242948246472,
          -0.36459855736308716,
          -0.23174978932077864,
          -0.41473779221045187,
          -0.36434633519322096,
          -0.2703148467262434,
          3.745018697794769,
          -0.3983468873579306,
          0.8598550709351088,
          -0.39870897451918214,
          -0.36573227908105216,
          -0.33318727067472587,
          -0.333341396202862,
          -0.366310937502655,
          -0.3982840660039065,
          -0.30519447210017464,
          -0.333188036561157,
          -0.406916953678794,
          -0.33333528199472195,
          -0.3289250248031958,
          -0.398737927936994,
          -0.33254626514965485,
          0.34868629320705186,
          -0.33353440771411813,
          -0.3336049500306871,
          -0.3506318209802066,
          -0.3512572140401043,
          -0.32983337589475037,
          -0.3053080736756708,
          -0.39864796092640065,
          -0.3333829294586699,
          -0.3335097226874401,
          -0.29389750047766744,
          -0.2694634753862365,
          -0.23151784899326722,
          -0.31438029295156433,
          -0.29363904994117385,
          -0.3979140633188665,
          -0.4117156978894305,
          -0.39665386004709413,
          -0.364559047067636,
          -0.39781206847596673,
          -0.3589639196260295,
          -0.3937555910383041,
          -0.33345307985997374,
          -0.3334522296069983,
          -0.32657661478829125,
          0.2665495221894022,
          -0.3982903197445128,
          -0.27654915412750924,
          -0.36634513569761495,
          -0.33266422827533165,
          0.8960992261831828,
          -0.26459765901616794,
          -0.3493647907718522,
          0.5862788823884126,
          -0.3533385906585017,
          -0.35184196478910745,
          -0.40336287487683176,
          -0.2706719083115721,
          0.13101071706544085,
          -0.2707426594044083,
          -0.3749541696789346,
          -0.40286834190306337,
          -0.3985625540550951,
          -0.2939718250355854,
          4.439953972427963,
          -0.3662113909736283,
          -0.33308855379764457,
          -0.33358789482596635,
          -0.32369633316534696,
          0.6558713709707199,
          -0.3985033537929963,
          -0.33347785272362074,
          -0.3335434978721639,
          -0.32294007043321665,
          0.4348088517031673,
          -0.3036558460609402,
          -0.33811669477447315,
          -0.39194611312779637,
          -0.33349386559148436,
          -0.3884204656747504,
          -0.3543978493371472,
          -0.3333644517605429,
          -0.09254417855613413,
          -0.39729677293344595,
          3.7498710947988103,
          0.20566382166769007,
          -0.26741635637120004,
          -0.33082661886835396,
          -0.3137563010781462,
          -0.3505178309212277,
          0.08057284734272056,
          -0.33250324124528025,
          -0.3978777554305318,
          -0.34968299099271,
          -0.320079425498097,
          -0.333610001440501,
          -0.35923470763767396,
          -0.3508670083500365,
          -0.27613099110099837,
          -0.3091057936227354,
          -0.32915921720541425,
          -0.2233188555331525,
          -0.35558631874450586,
          -0.39857969233370794,
          -0.3120903528764368,
          -0.29313220015268865,
          -0.3308691555102438,
          -0.35293779875105874,
          -0.33363732960162973,
          -0.33361905091284977,
          -0.2875181291261834,
          -0.36567361717302443,
          -0.36580617760763556,
          -0.3333357552049658,
          3.926570885551862,
          -0.3870900593336113,
          -0.36599466956749976,
          -0.32492504103650327,
          -0.2802396581400184,
          -0.2903530945206581,
          -0.29366634612485737,
          -0.13692504366004132,
          -0.29391800706267696,
          -0.33559459721726476,
          -0.3328101026803056,
          -0.19744322623362567,
          2.230148131235042,
          -0.34622728699034083,
          -0.2647257934886618,
          1.0288535888762724,
          -0.36360816745499724,
          -0.35063122380026734,
          -0.39010372611956495,
          -0.174695284710825,
          -0.36221428494830604,
          -0.3493518196984902,
          -0.3265167765156911,
          -0.35881242158466176,
          -0.39805350800511685,
          -0.2911655139879577,
          -0.36509479606706235,
          -0.35057800189154903,
          -0.35867371019089167,
          -0.19318346081065257,
          -0.28912517065023746,
          -0.2727375051226012,
          0.530438047026511,
          -0.14943452684099315,
          -0.3893989106643302,
          -0.3057173991773328,
          -0.33333977508455914,
          -0.3898546890886881,
          -0.35074810573571996,
          0.5725265343651935,
          -0.3592889660600906,
          -0.3328229495312138,
          -0.30655001761176404,
          -0.2903400694950834,
          -0.39561893540468585,
          -0.39828058979583936,
          3.7621012103688782,
          0.10127531896707599,
          -0.39582330799971477,
          -0.3322085070032705,
          -0.33303335423422725,
          -0.26593929871057814,
          -0.3335513830282126,
          -0.38991563282495073,
          -0.2472965882348567,
          -0.08523321730153577,
          -0.38566617515250157,
          -0.33283046875701805,
          -0.32590078992293703,
          -0.3948522394130335,
          -0.33127067847411895,
          -0.36658630560756766,
          -0.4004654355318122,
          -0.3038324289733596,
          3.7454102475463005,
          -0.10137116676261626,
          -0.32846797119864724,
          -0.33810092576764134,
          -0.2711414481251175,
          3.7552657123255537,
          3.7565083797589938,
          -0.24685309086152116,
          -0.3665222498468464,
          -0.4037084982814001,
          2.486744684011243,
          -0.3317151643119647,
          -0.29431425186364757
         ]
        },
        {
         "customdata": [
          [
           "SHA-256"
          ],
          [
           "Ethash"
          ],
          [
           "Scrypt"
          ],
          [
           "CryptoNight-V7"
          ],
          [
           "Ethash"
          ],
          [
           "Equihash"
          ],
          [
           "Multiple"
          ],
          [
           "Scrypt"
          ],
          [
           "X11"
          ],
          [
           "Scrypt"
          ],
          [
           "Multiple"
          ],
          [
           "Scrypt"
          ],
          [
           "SHA-256"
          ],
          [
           "Scrypt"
          ],
          [
           "Scrypt"
          ],
          [
           "Quark"
          ],
          [
           "Groestl"
          ],
          [
           "Scrypt"
          ],
          [
           "Scrypt"
          ],
          [
           "Scrypt"
          ],
          [
           "X11"
          ],
          [
           "Multiple"
          ],
          [
           "SHA-256"
          ],
          [
           "Scrypt"
          ],
          [
           "Scrypt"
          ],
          [
           "Scrypt"
          ],
          [
           "Scrypt"
          ],
          [
           "Scrypt"
          ],
          [
           "NeoScrypt"
          ],
          [
           "Scrypt"
          ],
          [
           "Scrypt"
          ],
          [
           "Scrypt"
          ],
          [
           "Scrypt"
          ],
          [
           "SHA-256"
          ],
          [
           "Scrypt"
          ],
          [
           "Scrypt"
          ],
          [
           "Scrypt"
          ],
          [
           "Scrypt"
          ],
          [
           "HybridScryptHash256"
          ],
          [
           "Scrypt"
          ],
          [
           "Scrypt"
          ],
          [
           "SHA-256"
          ],
          [
           "Scrypt"
          ],
          [
           "Scrypt"
          ],
          [
           "Scrypt"
          ],
          [
           "Scrypt"
          ],
          [
           "SHA-256"
          ],
          [
           "SHA-256"
          ],
          [
           "SHA-256"
          ],
          [
           "SHA-256"
          ],
          [
           "SHA-256"
          ],
          [
           "X11"
          ],
          [
           "Scrypt"
          ],
          [
           "Lyra2REv2"
          ],
          [
           "Scrypt"
          ],
          [
           "SHA-256"
          ],
          [
           "CryptoNight"
          ],
          [
           "CryptoNight"
          ],
          [
           "Scrypt"
          ],
          [
           "Scrypt"
          ],
          [
           "Scrypt"
          ],
          [
           "Scrypt"
          ],
          [
           "Scrypt"
          ],
          [
           "Scrypt"
          ],
          [
           "Stanford Folding"
          ],
          [
           "Multiple"
          ],
          [
           "QuBit"
          ],
          [
           "Scrypt"
          ],
          [
           "Scrypt"
          ],
          [
           "M7 POW"
          ],
          [
           "Scrypt"
          ],
          [
           "SHA-256"
          ],
          [
           "Scrypt"
          ],
          [
           "X11"
          ],
          [
           "Lyra2RE"
          ],
          [
           "SHA-256"
          ],
          [
           "X11"
          ],
          [
           "Scrypt"
          ],
          [
           "Scrypt"
          ],
          [
           "Ethash"
          ],
          [
           "Blake2b"
          ],
          [
           "X11"
          ],
          [
           "SHA-256"
          ],
          [
           "Scrypt"
          ],
          [
           "1GB AES Pattern Search"
          ],
          [
           "Scrypt"
          ],
          [
           "SHA-256"
          ],
          [
           "X11"
          ],
          [
           "Dagger"
          ],
          [
           "Scrypt"
          ],
          [
           "X11GOST"
          ],
          [
           "Scrypt"
          ],
          [
           "X11"
          ],
          [
           "Scrypt"
          ],
          [
           "X11"
          ],
          [
           "Equihash"
          ],
          [
           "CryptoNight"
          ],
          [
           "SHA-256"
          ],
          [
           "Multiple"
          ],
          [
           "Scrypt"
          ],
          [
           "SHA-256"
          ],
          [
           "Scrypt"
          ],
          [
           "Lyra2Z"
          ],
          [
           "Ethash"
          ],
          [
           "Equihash"
          ],
          [
           "Scrypt"
          ],
          [
           "X11"
          ],
          [
           "X11"
          ],
          [
           "CryptoNight"
          ],
          [
           "Scrypt"
          ],
          [
           "CryptoNight"
          ],
          [
           "Lyra2RE"
          ],
          [
           "X11"
          ],
          [
           "CryptoNight-V7"
          ],
          [
           "Scrypt"
          ],
          [
           "X11"
          ],
          [
           "Equihash"
          ],
          [
           "Scrypt"
          ],
          [
           "Lyra2RE"
          ],
          [
           "Dagger-Hashimoto"
          ],
          [
           "Scrypt"
          ],
          [
           "NIST5"
          ],
          [
           "Scrypt"
          ],
          [
           "SHA-256"
          ],
          [
           "Scrypt"
          ],
          [
           "CryptoNight-V7"
          ],
          [
           "Argon2d"
          ],
          [
           "Blake2b"
          ],
          [
           "Cloverhash"
          ],
          [
           "CryptoNight"
          ],
          [
           "X11"
          ],
          [
           "Scrypt"
          ],
          [
           "Scrypt"
          ],
          [
           "X11"
          ],
          [
           "X11"
          ],
          [
           "CryptoNight"
          ],
          [
           "Time Travel"
          ],
          [
           "Scrypt"
          ],
          [
           "Keccak"
          ],
          [
           "X11"
          ],
          [
           "SHA-256"
          ],
          [
           "Scrypt"
          ],
          [
           "Scrypt"
          ],
          [
           "Scrypt"
          ],
          [
           "Scrypt"
          ],
          [
           "Scrypt"
          ],
          [
           "Scrypt"
          ],
          [
           "CryptoNight"
          ],
          [
           "Equihash"
          ],
          [
           "X11"
          ],
          [
           "NeoScrypt"
          ],
          [
           "Equihash"
          ],
          [
           "Dagger"
          ],
          [
           "Scrypt"
          ],
          [
           "X11"
          ],
          [
           "NeoScrypt"
          ],
          [
           "Ethash"
          ],
          [
           "NeoScrypt"
          ],
          [
           "Multiple"
          ],
          [
           "CryptoNight"
          ],
          [
           "CryptoNight"
          ],
          [
           "Ethash"
          ],
          [
           "X11"
          ],
          [
           "CryptoNight-V7"
          ],
          [
           "Scrypt"
          ],
          [
           "BLAKE256"
          ],
          [
           "X11"
          ],
          [
           "NeoScrypt"
          ],
          [
           "NeoScrypt"
          ],
          [
           "Scrypt"
          ],
          [
           "X11"
          ],
          [
           "SHA-256"
          ],
          [
           "C11"
          ],
          [
           "CryptoNight"
          ],
          [
           "SkunkHash"
          ],
          [
           "CryptoNight"
          ],
          [
           "Scrypt"
          ],
          [
           "Dagger"
          ],
          [
           "Lyra2REv2"
          ],
          [
           "Scrypt"
          ],
          [
           "Scrypt"
          ],
          [
           "X11"
          ],
          [
           "Ethash"
          ],
          [
           "CryptoNight"
          ],
          [
           "Scrypt"
          ],
          [
           "IMesh"
          ],
          [
           "Equihash"
          ],
          [
           "Lyra2Z"
          ],
          [
           "X11"
          ],
          [
           "CryptoNight"
          ],
          [
           "NIST5"
          ],
          [
           "Lyra2RE"
          ],
          [
           "Tribus"
          ],
          [
           "Lyra2Z"
          ],
          [
           "CryptoNight"
          ],
          [
           "CryptoNight Heavy"
          ],
          [
           "CryptoNight"
          ],
          [
           "Jump Consistent Hash"
          ],
          [
           "CryptoNight"
          ],
          [
           "X16R"
          ],
          [
           "HMQ1725"
          ],
          [
           "X11"
          ],
          [
           "Scrypt"
          ],
          [
           "CryptoNight-V7"
          ],
          [
           "Cryptonight-GPU"
          ],
          [
           "XEVAN"
          ],
          [
           "CryptoNight Heavy"
          ],
          [
           "SHA-256"
          ],
          [
           "X11"
          ],
          [
           "X16R"
          ],
          [
           "Equihash"
          ],
          [
           "Lyra2Z"
          ],
          [
           "SHA-256"
          ],
          [
           "CryptoNight"
          ],
          [
           "Blake"
          ],
          [
           "Blake"
          ],
          [
           "Exosis"
          ],
          [
           "Scrypt"
          ],
          [
           "Equihash"
          ],
          [
           "Equihash"
          ],
          [
           "QuBit"
          ],
          [
           "SHA-256"
          ],
          [
           "X13"
          ],
          [
           "SHA-256"
          ],
          [
           "Scrypt"
          ],
          [
           "NeoScrypt"
          ],
          [
           "Blake"
          ],
          [
           "Scrypt"
          ],
          [
           "SHA-256"
          ],
          [
           "Scrypt"
          ],
          [
           "Groestl"
          ],
          [
           "Scrypt"
          ],
          [
           "Scrypt"
          ],
          [
           "Multiple"
          ],
          [
           "Equihash+Scrypt"
          ],
          [
           "Ethash"
          ],
          [
           "CryptoNight"
          ],
          [
           "Equihash"
          ]
         ],
         "hovertemplate": "<b>%{hovertext}</b><br><br>Class=%{marker.color}<br>PC 3=%{x}<br>PC 2=%{y}<br>PC 1=%{z}<br>Algorithm=%{customdata[0]}<extra></extra>",
         "hovertext": [
          "Bitcoin",
          "Ethereum",
          "Litecoin",
          "Monero",
          "Ethereum Classic",
          "ZCash",
          "DigiByte",
          "ProsperCoin",
          "Spreadcoin",
          "Argentum",
          "MyriadCoin",
          "MoonCoin",
          "ZetaCoin",
          "SexCoin",
          "Quatloo",
          "QuarkCoin",
          "Riecoin",
          "Digitalcoin ",
          "Catcoin",
          "CannaCoin",
          "CryptCoin",
          "Verge",
          "DevCoin",
          "EarthCoin",
          "E-Gulden",
          "Einsteinium",
          "Emerald",
          "Franko",
          "FeatherCoin",
          "GrandCoin",
          "GlobalCoin",
          "GoldCoin",
          "Infinite Coin",
          "IXcoin",
          "KrugerCoin",
          "LuckyCoin",
          "Litebar ",
          "MegaCoin",
          "MediterraneanCoin",
          "MinCoin",
          "NobleCoin",
          "Namecoin",
          "NyanCoin",
          "RonPaulCoin",
          "StableCoin",
          "SmartCoin",
          "SysCoin",
          "TigerCoin",
          "TerraCoin",
          "UnbreakableCoin",
          "Unobtanium",
          "UroCoin",
          "ViaCoin",
          "Vertcoin",
          "WorldCoin",
          "JouleCoin",
          "ByteCoin",
          "DigitalNote ",
          "MonaCoin",
          "Gulden",
          "PesetaCoin",
          "Wild Beast Coin",
          "Flo",
          "ArtByte",
          "Folding Coin",
          "Unitus",
          "CypherPunkCoin",
          "OmniCron",
          "GreenCoin",
          "Cryptonite",
          "MasterCoin",
          "SoonCoin",
          "1Credit",
          "MarsCoin ",
          "Crypto",
          "Anarchists Prime",
          "BowsCoin",
          "Song Coin",
          "BitZeny",
          "Expanse",
          "Siacoin",
          "MindCoin",
          "I0coin",
          "Revolution VR",
          "HOdlcoin",
          "Gamecredits",
          "CarpeDiemCoin",
          "Adzcoin",
          "SoilCoin",
          "YoCoin",
          "SibCoin",
          "Francs",
          "BolivarCoin",
          "Omni",
          "PizzaCoin",
          "Komodo",
          "Karbo",
          "ZayedCoin",
          "Circuits of Value",
          "DopeCoin",
          "DollarCoin",
          "Shilling",
          "ZCoin",
          "Elementrem",
          "ZClassic",
          "KiloCoin",
          "ArtexCoin",
          "Kurrent",
          "Cannabis Industry Coin",
          "OsmiumCoin",
          "Bikercoins",
          "HexxCoin",
          "PacCoin",
          "Citadel",
          "BeaverCoin",
          "VaultCoin",
          "Zero",
          "Canada eCoin",
          "Zoin",
          "DubaiCoin",
          "EB3coin",
          "Coinonat",
          "BenjiRolls",
          "ILCoin",
          "EquiTrader",
          "Quantum Resistant Ledger",
          "Dynamic",
          "Nano",
          "ChanCoin",
          "Dinastycoin",
          "DigitalPrice",
          "Unify",
          "SocialCoin",
          "ArcticCoin",
          "DAS",
          "LeviarCoin",
          "Bitcore",
          "gCn Coin",
          "SmartCash",
          "Onix",
          "Bitcoin Cash",
          "Sojourn Coin",
          "NewYorkCoin",
          "FrazCoin",
          "Kronecoin",
          "AdCoin",
          "Linx",
          "Sumokoin",
          "BitcoinZ",
          "Elements",
          "VIVO Coin",
          "Bitcoin Gold",
          "Pirl",
          "eBoost",
          "Pura",
          "Innova",
          "Ellaism",
          "GoByte",
          "SHIELD",
          "UltraNote",
          "BitCoal",
          "DaxxCoin",
          "AC3",
          "Lethean",
          "PopularCoin",
          "Photon",
          "Sucre",
          "SparksPay",
          "GunCoin",
          "IrishCoin",
          "Pioneer Coin",
          "UnitedBitcoin",
          "Interzone",
          "TurtleCoin",
          "MUNcoin",
          "Niobio Cash",
          "ShareChain",
          "Travelflex",
          "KREDS",
          "BitFlip",
          "LottoCoin",
          "Crypto Improvement Fund",
          "Callisto Network",
          "BitTube",
          "Poseidon",
          "Aidos Kuneen",
          "Bitrolium",
          "Alpenschillling",
          "FuturoCoin",
          "Monero Classic",
          "Jumpcoin",
          "Infinex",
          "KEYCO",
          "GINcoin",
          "PlatinCoin",
          "Loki",
          "Newton Coin",
          "MassGrid",
          "PluraCoin",
          "Motion",
          "PlusOneCoin",
          "Axe",
          "HexCoin",
          "Webchain",
          "Ryo",
          "Urals Coin",
          "Qwertycoin",
          "Project Pai",
          "Azart",
          "Xchange",
          "CrypticCoin",
          "Actinium",
          "Bitcoin SV",
          "FREDEnergy",
          "Universal Molecule",
          "Lithium",
          "Exosis",
          "Block-Logic",
          "Beam",
          "Bithereum",
          "SLICE",
          "BLAST",
          "Bitcoin Rhodium",
          "GlobalToken",
          "SolarCoin",
          "UFO Coin",
          "BlakeCoin",
          "Crypto Escudo",
          "Crown Coin",
          "SmileyCoin",
          "Groestlcoin",
          "Bata",
          "Pakcoin",
          "JoinCoin",
          "Vollar",
          "Reality Clash",
          "Beldex",
          "Horizen"
         ],
         "legendgroup": "1",
         "marker": {
          "color": [
           1,
           1,
           1,
           1,
           1,
           1,
           1,
           1,
           1,
           1,
           1,
           1,
           1,
           1,
           1,
           1,
           1,
           1,
           1,
           1,
           1,
           1,
           1,
           1,
           1,
           1,
           1,
           1,
           1,
           1,
           1,
           1,
           1,
           1,
           1,
           1,
           1,
           1,
           1,
           1,
           1,
           1,
           1,
           1,
           1,
           1,
           1,
           1,
           1,
           1,
           1,
           1,
           1,
           1,
           1,
           1,
           1,
           1,
           1,
           1,
           1,
           1,
           1,
           1,
           1,
           1,
           1,
           1,
           1,
           1,
           1,
           1,
           1,
           1,
           1,
           1,
           1,
           1,
           1,
           1,
           1,
           1,
           1,
           1,
           1,
           1,
           1,
           1,
           1,
           1,
           1,
           1,
           1,
           1,
           1,
           1,
           1,
           1,
           1,
           1,
           1,
           1,
           1,
           1,
           1,
           1,
           1,
           1,
           1,
           1,
           1,
           1,
           1,
           1,
           1,
           1,
           1,
           1,
           1,
           1,
           1,
           1,
           1,
           1,
           1,
           1,
           1,
           1,
           1,
           1,
           1,
           1,
           1,
           1,
           1,
           1,
           1,
           1,
           1,
           1,
           1,
           1,
           1,
           1,
           1,
           1,
           1,
           1,
           1,
           1,
           1,
           1,
           1,
           1,
           1,
           1,
           1,
           1,
           1,
           1,
           1,
           1,
           1,
           1,
           1,
           1,
           1,
           1,
           1,
           1,
           1,
           1,
           1,
           1,
           1,
           1,
           1,
           1,
           1,
           1,
           1,
           1,
           1,
           1,
           1,
           1,
           1,
           1,
           1,
           1,
           1,
           1,
           1,
           1,
           1,
           1,
           1,
           1,
           1,
           1,
           1,
           1,
           1,
           1,
           1,
           1,
           1,
           1,
           1,
           1,
           1,
           1,
           1,
           1,
           1,
           1,
           1,
           1,
           1,
           1,
           1,
           1,
           1,
           1,
           1,
           1,
           1,
           1,
           1,
           1,
           1,
           1,
           1,
           1,
           1,
           1,
           1,
           1
          ],
          "coloraxis": "coloraxis",
          "symbol": "diamond"
         },
         "mode": "markers",
         "name": "1",
         "scene": "scene",
         "showlegend": true,
         "type": "scatter3d",
         "x": [
          0.16236607762787636,
          0.37981601634300766,
          -0.03728998929263437,
          0.40415388033193034,
          0.37981381758851357,
          0.48185363473998477,
          0.3200832321138851,
          -0.03728387637048792,
          0.0875500659899391,
          -0.03728484429908178,
          0.3211854644667824,
          -0.0402852596700023,
          0.1623499703401177,
          -0.03729775446605901,
          -0.03728464997980762,
          0.04884580713654442,
          0.21904362470461397,
          -0.037286804659611636,
          -0.03728401883048935,
          -0.03728371046114239,
          0.08755068543711604,
          0.31967407968383815,
          0.16036141616055397,
          -0.038619228374915014,
          -0.037285362374945896,
          -0.03730696928165987,
          -0.03728530963768923,
          -0.0372833460944837,
          0.17980149667445622,
          -0.0373810177446701,
          -0.03729013828167999,
          -0.03728779917360483,
          -0.046882237358820314,
          0.16236576730214827,
          -0.037300083762009516,
          -0.037285199092533285,
          -0.03728326503988908,
          -0.03728721858127798,
          0.3899814808763014,
          -0.037283793895054124,
          -0.037632614418063315,
          0.16236639076042922,
          -0.03731862807853035,
          -0.03728341864533578,
          -0.03728747701094299,
          -0.03728605807879834,
          0.1623057746716885,
          0.16236336101877688,
          0.16236542195886156,
          0.16236715211136254,
          0.16236797945075992,
          0.08755119806800134,
          -0.037285597878021194,
          0.17355254089379785,
          -0.037296959015757816,
          0.16236380276628407,
          0.3651489012924773,
          0.38389883306225553,
          -0.03729066034659405,
          -0.037337010321905006,
          -0.037297942461942575,
          -0.03728318450743338,
          -0.03729934034985858,
          -0.0373687412067776,
          0.40474829178064436,
          0.32136039038342207,
          0.22170211006601792,
          -0.03728416757769271,
          -0.03781377036850638,
          0.3317901664892117,
          -0.037283211745430124,
          0.16236661390199222,
          -0.03800241113766827,
          0.08754789643220945,
          0.3968809240841528,
          0.16236613358273894,
          0.08754959554475736,
          -0.03728798562124633,
          -0.03729252117714306,
          0.3798254219837523,
          0.4238842346714458,
          0.08754963425621469,
          0.16236577631818813,
          -0.03730539662405456,
          0.37448033078581605,
          -0.03729065631460881,
          0.1600654348311765,
          0.08754623285300596,
          0.4001063805221886,
          -0.03728452474030363,
          0.4041300232642923,
          -0.03728394730706082,
          0.0875497811310938,
          -0.037283211424386634,
          0.08755098587507004,
          0.9000133451265199,
          0.38465395787350715,
          0.1623673122553503,
          0.32125926196088567,
          -0.03729617652991761,
          0.16236702424779983,
          -0.03728447185191106,
          0.4399873040277931,
          0.3798238075277973,
          0.48185380839372,
          -0.03738059020993699,
          0.08746654279899066,
          0.08754351189638718,
          0.3846545435521687,
          -0.03728325506591804,
          0.3846536899972416,
          0.39688252479325764,
          0.08671681842631877,
          0.4041530455727014,
          -0.03728347809878156,
          0.08754051660493803,
          0.4818537112925653,
          -0.03729372622481199,
          0.3968808028924063,
          0.38651659491897766,
          -0.037320708308323035,
          -0.017257017275444778,
          -0.03728541363948244,
          0.16221913654857537,
          -0.037285050869805214,
          0.4041479725312786,
          0.3642151152493871,
          0.42711665970275986,
          0.3909354406120753,
          0.3844615923433957,
          0.08754708632153077,
          -0.03728507634913066,
          -0.0372842396081047,
          0.08754829175423035,
          0.08755091138758259,
          0.3846529917556213,
          0.3042896366681729,
          -0.05484845742925917,
          0.15947336961456068,
          0.08753069737413118,
          0.16236607091388638,
          -0.037365282768559514,
          -0.051317367458193236,
          -0.037284254792749605,
          -0.037285515676732356,
          -0.0372871317558672,
          -0.03728723674215187,
          0.3846532307924471,
          0.4811789000626973,
          0.08727199445289237,
          0.1798239817263209,
          0.48185267110452706,
          0.4001026172620562,
          -0.03729374061100191,
          0.08753138511905798,
          0.17982362418938574,
          0.37982314322079164,
          0.17982378067064367,
          0.32131434500275885,
          0.38209801653335707,
          0.3846542643815153,
          0.37969728542244985,
          0.08753913466933916,
          0.4041044515475854,
          -0.03771127027610451,
          0.18364244149127995,
          0.0875507467284661,
          0.1798236673485333,
          0.17979127142428078,
          -0.0372881100233162,
          0.08755030472119468,
          0.16236586443690834,
          0.0957408761350118,
          0.3716218246627371,
          0.3464296285791286,
          0.3846390331650193,
          -0.03834269445701591,
          0.40009586028135413,
          0.1734864397383341,
          -0.037284680249712356,
          -0.03884915418167987,
          0.08752667146696234,
          0.3797514672036721,
          0.3846391299549573,
          -0.03728370972454658,
          0.4123280015184657,
          0.4818469736071565,
          0.43998318554881893,
          0.08754741385455898,
          0.38465308802675796,
          -0.01725787843930103,
          0.3968820813640977,
          0.31494873046700256,
          0.43998744634804815,
          0.3846501046428945,
          0.35480041160032205,
          0.37916377765511483,
          0.4204852442570372,
          0.3845920206579253,
          0.2267966879884325,
          0.23761255006190662,
          0.08755066237128503,
          -0.03728345795459999,
          0.40414035789914604,
          0.4990496430528007,
          -0.05185729244696278,
          0.3435914500097987,
          0.16214549596896974,
          0.08755062885677603,
          0.22679591902011248,
          0.4813794862160622,
          0.439986219266909,
          0.16236607121565688,
          0.3844084074014706,
          0.4287018104852534,
          0.4287010348155138,
          0.34487768632666166,
          -0.03728754699954462,
          0.48184896663623744,
          0.48185181378236164,
          0.22170068443840305,
          0.16236236881845223,
          -0.08343086694331271,
          0.16235838403595132,
          -0.03805554528588694,
          0.17941798716528665,
          0.4286457690117101,
          -0.03736753151822588,
          0.16236541690156778,
          -0.040577325265010775,
          0.21904112981421278,
          -0.03728368104058628,
          -0.03729140759708824,
          0.3213664314236594,
          0.3493730070502571,
          0.3798239895152825,
          0.384547660837341,
          0.4818536432306604
         ],
         "y": [
          -1.3304259784872083,
          -2.034622865585114,
          -1.0939732837214993,
          -2.20168267304048,
          -2.034725766818207,
          -1.974650402033111,
          -1.7968653913276915,
          -1.0939621165623117,
          -0.9833006108268882,
          -1.093981316294834,
          -1.7908189683885702,
          -1.2857957279150012,
          -1.3304463211550543,
          -1.094032848245858,
          -1.0940010204749302,
          -0.4028146370134542,
          -1.237086422284486,
          -1.0939658755974955,
          -1.0939616018424922,
          -1.0939585672172567,
          -0.98330179326942,
          -1.793040859524315,
          -1.3342564370943346,
          -1.0962520774413147,
          -1.0939567475047567,
          -1.0940258365929494,
          -1.0939627442425293,
          -1.093958878606215,
          -1.6878456287719512,
          -1.0943499007528048,
          -1.0939653557106492,
          -1.0939749924632756,
          -1.107093278896434,
          -1.330424857254551,
          -1.0940325719562243,
          -1.093956809621889,
          -1.0939539533772915,
          -1.0939611254286516,
          -2.1957220726218316,
          -1.0939566083592234,
          -1.1006085493136533,
          -1.3304271098611131,
          -1.0940033518636108,
          -1.093963770361312,
          -1.0940699815449846,
          -1.0939701745097807,
          -1.3306657325262061,
          -1.3304298932004914,
          -1.3304346940521419,
          -1.3304610029968553,
          -1.3304218973386284,
          -0.9832941444031873,
          -1.093956952284161,
          -1.2793133423783527,
          -1.0940438619240176,
          -1.330430427282215,
          -2.3257475736411966,
          -2.3014024754694073,
          -1.093982007039665,
          -1.0946458187562782,
          -1.093988034539424,
          -1.0939549189218822,
          -1.0939796130949044,
          -1.0941722440964683,
          -2.3212616023836645,
          -1.7903953186785697,
          -1.5988089784305193,
          -1.0939517593672399,
          -1.0973148388686484,
          -2.1841936836546783,
          -1.0939537603389426,
          -1.3304279160901178,
          -1.1399157988236226,
          -0.9832996338998373,
          -2.197599907869706,
          -1.3304434725572116,
          -0.9832994389051537,
          -1.0940471571427217,
          -1.0940517565534633,
          -2.0346657727478767,
          -2.2008072254892923,
          -0.9832969395939186,
          -1.330424889830252,
          -1.09398412306258,
          -2.244584291628196,
          -1.0939708737156923,
          -1.3335176049610022,
          -0.9833205428752307,
          -2.253608793457063,
          -1.0940375512380502,
          -2.145859639042054,
          -1.093961332426792,
          -0.9833022207871625,
          -1.0939537598995563,
          -0.9833065736272317,
          -1.14549142001879,
          -2.2988577246084874,
          -1.3304244937564846,
          -1.7906633362339743,
          -1.094012157670756,
          -1.3304239294264555,
          -1.0939647155605652,
          -2.1906139330700065,
          -2.034664848004349,
          -1.974651029458483,
          -1.0988799547676857,
          -0.9832521957782424,
          -0.9833867201865895,
          -2.2988656469078297,
          -1.093954709533055,
          -2.2988646742861256,
          -2.1975762438805173,
          -1.0330630403754169,
          -2.2017773066070654,
          -1.0939542445277495,
          -0.9837833871791156,
          -1.9746485672807863,
          -1.093968227247727,
          -2.197575828703904,
          -2.280899076108309,
          -1.0959292983168762,
          -0.6819943671338823,
          -1.0939642266685226,
          -1.3312035730824003,
          -1.093984792623964,
          -2.201716750423819,
          -2.2180139633094345,
          -2.212665858870568,
          -2.2070437398632152,
          -2.2992130851883363,
          -0.9833320719005415,
          -1.0939568713731571,
          -1.0939893072872509,
          -0.9833153137974521,
          -0.9833030846994368,
          -2.2988774587190357,
          -2.205643471465882,
          -1.1360558993468253,
          -1.2771626292575433,
          -0.9838006930614179,
          -1.3304259542289827,
          -1.0991991797197025,
          -1.0432468628887952,
          -1.0939602214554551,
          -1.093989447267395,
          -1.0939920536118553,
          -1.0939916742876872,
          -2.2988967379826812,
          -1.9832859966153573,
          -0.9832354629679569,
          -1.6877637678733644,
          -1.9746469203381496,
          -2.253661865699532,
          -1.0939681752692278,
          -0.9834073010989746,
          -1.687771977106923,
          -2.0347964096076017,
          -1.687765575054289,
          -1.790577324514006,
          -2.3344836599488077,
          -2.2988601516368563,
          -2.0394722387989455,
          -0.9835408680257948,
          -2.202031644851301,
          -1.0950460012704335,
          -1.1933781859633728,
          -0.9833029648245805,
          -1.6877594649855647,
          -1.687895249163062,
          -1.093969516961877,
          -0.9833030568901149,
          -1.3304247679954595,
          -1.2568462487475753,
          -2.7796020556561967,
          -2.2117232163433997,
          -2.2989758748641838,
          -1.0954037921968798,
          -2.2536077314582204,
          -1.279610794574318,
          -1.0939692409598896,
          -1.0980114159776326,
          -0.9834694456507691,
          -2.0378205768129547,
          -2.2993267075383854,
          -1.0939627186679421,
          -2.119184064136782,
          -1.974652198760511,
          -2.1907461077142405,
          -0.9833332553045823,
          -2.29885901560055,
          -0.6819768710963982,
          -2.1975832349013023,
          -2.259219467527641,
          -2.190608693874807,
          -2.2991552259553,
          -2.2982234961845647,
          -2.376137754265738,
          -2.2139720639187432,
          -2.299156497734638,
          -1.248722514014671,
          -2.265950313892807,
          -0.9833032934380241,
          -1.0939642117310435,
          -2.202557527998794,
          -2.202479072675364,
          -0.7615823653987552,
          -2.355015279471184,
          -1.3307263692349145,
          -0.9833052836904764,
          -1.2487608669026486,
          -1.9769377314739751,
          -2.190643056259229,
          -1.3304259553193052,
          -2.302230165173993,
          -2.2222717369307015,
          -2.2222267649361207,
          -2.285330261005676,
          -1.0940011100177396,
          -1.9747611664803333,
          -1.9746490409465565,
          -1.598856611098447,
          -1.330435275189572,
          -0.35869416354495154,
          -1.330475772761453,
          -1.1429436190469473,
          -1.6883939673876571,
          -2.225708618857568,
          -1.0941766148016991,
          -1.3304346757797194,
          -1.10844331702051,
          -1.237088492589782,
          -1.0939543769328444,
          -1.0940198871770364,
          -1.7904186233990125,
          -2.309803017223117,
          -2.0346645989321397,
          -2.299207473834966,
          -1.9746504327106278
         ],
         "z": [
          -0.13869184513783053,
          -0.14776589748161995,
          -0.16587613760252834,
          -0.14874027615150526,
          -0.14620854275874534,
          -0.17930469213022138,
          0.16485579535264597,
          -0.16702141179234928,
          -0.2320772244183497,
          -0.16663815265836052,
          -0.08836455251371943,
          2.5538567378988306,
          -0.13577930018548628,
          -0.16389566937647826,
          -0.16644220713707358,
          -0.21886664585540075,
          -0.1995730941919974,
          -0.1664912101946246,
          -0.16700369818585506,
          -0.16709009788469398,
          -0.23216647523182565,
          0.18855303717979927,
          0.23883715244891493,
          0.08142933732556253,
          -0.16683664064270737,
          -0.16244545506858651,
          -0.16677594301554693,
          -0.16714704594422047,
          -0.1671854335769933,
          -0.14638542102988075,
          -0.16594320947407412,
          -0.16622032588633506,
          1.5802560006147428,
          -0.1386532589529418,
          -0.16351175838428203,
          -0.16686305742009047,
          -0.16721756712901678,
          -0.16647744229608138,
          -0.17359974809923187,
          -0.16709892188879824,
          -0.03207600206156524,
          -0.13873078032423156,
          -0.16076829925051456,
          -0.16707832575527135,
          -0.16517357751945883,
          -0.1665654905749735,
          -0.12589280171427208,
          -0.13819501988580424,
          -0.1384819226953599,
          -0.13846471589186704,
          -0.1390551869639217,
          -0.23234026990219714,
          -0.1667951297890545,
          -0.19510101890650003,
          -0.1639002921832158,
          -0.1382622485337305,
          3.8660620431275663,
          0.4679682233985129,
          -0.1656635684914716,
          -0.15027140710607734,
          -0.16438351759000192,
          -0.1672197667968189,
          -0.16424874753105526,
          -0.15048354335117867,
          -0.13661049569629763,
          -0.12234318703850554,
          -0.18567873737550047,
          -0.1670929861124048,
          -0.040121372213912855,
          -0.10968474010570312,
          -0.16722866029029493,
          -0.13875852594971014,
          0.4846900397261332,
          -0.2317279764191502,
          -0.15493540196912203,
          -0.13849850492073065,
          -0.2320126147421154,
          -0.1653534327981301,
          -0.16454638129347568,
          -0.14883203614194598,
          0.3857993881032254,
          -0.23204799862629416,
          -0.13865438001558703,
          -0.16319000021113197,
          -0.12392428617669009,
          -0.16579319948167678,
          0.2794688752238154,
          -0.2312093067078412,
          -0.14794440319839172,
          -0.16603987330917244,
          -0.14250604212403262,
          -0.1670187055674513,
          -0.23201123434345222,
          -0.16722871873479542,
          -0.23216103330827895,
          -0.39013418235971514,
          0.3129955240484785,
          -0.13891422898959643,
          -0.10243187484111659,
          -0.16439757605809105,
          -0.138872901133943,
          -0.1668923422498381,
          -0.15636676650222028,
          -0.14857443739462925,
          -0.17932628439407033,
          -0.09398338822494176,
          -0.21875710991522113,
          -0.2299905510518848,
          0.31298995525525836,
          -0.1672104659298447,
          0.3131205434264624,
          -0.155475535365127,
          0.4828165809442517,
          -0.14750537417594756,
          -0.16717878586455362,
          -0.22489803379076262,
          -0.17933866712091454,
          -0.16531365855498464,
          -0.15519417761082402,
          -0.1568142529215228,
          -0.13811371799942299,
          -0.18656660523639032,
          -0.16674148728381705,
          -0.10526422014363478,
          -0.1665635547201784,
          -0.1473637150385548,
          -0.1590279405276011,
          -0.014042770393583105,
          -0.1383104064753597,
          0.34908147508620413,
          -0.23121760227061824,
          -0.1668827411589765,
          -0.1666460854601951,
          -0.23161205060199422,
          -0.23218906743499046,
          0.31338467213066856,
          -0.14813641663576657,
          3.239664871741545,
          -0.12402356922773936,
          -0.22306569235113832,
          -0.1386910103133655,
          -0.09282968282151242,
          1.577787273747223,
          -0.16698047251648607,
          -0.16643239108390773,
          -0.16613362083826025,
          -0.16612056674786457,
          0.31356826398843474,
          0.03285999538439416,
          -0.18661846989054565,
          -0.1718705002488123,
          -0.17918487281853634,
          -0.1467042248590141,
          -0.16531186976301543,
          -0.2277367771214756,
          -0.17171599010162641,
          -0.14694011385432035,
          -0.1718161531549069,
          -0.11258256086364822,
          1.1504403869732285,
          0.31297269779633907,
          -0.07186185400879105,
          -0.2274775446212763,
          -0.13648333283074923,
          -0.08343679345642874,
          1.0911170725428114,
          -0.23216309088634793,
          -0.1718680947874586,
          -0.16491130535061407,
          -0.16623208952845137,
          -0.23208856620064836,
          -0.13867043593134712,
          -0.18912397203999906,
          8.047454964673266,
          -0.15277714077175394,
          0.3168444703144721,
          0.025645531371912576,
          -0.1462083203301298,
          -0.18067002220286005,
          -0.16680528894460964,
          0.14002025417564967,
          -0.22623356333290057,
          -0.09999819248530052,
          0.3208921932844728,
          -0.1670421327007009,
          -0.16305836660320466,
          -0.17817685022955554,
          -0.15415128469023104,
          -0.23125832802609647,
          0.3131550399699869,
          -0.18662614860634522,
          -0.15532086153466212,
          -0.1434502987155502,
          -0.15645110634895598,
          0.31708195644307247,
          0.5793566199956215,
          2.12058155727924,
          -0.15126792040537218,
          0.3267498062448566,
          -0.19795977400036519,
          -0.13185601136469394,
          -0.2321452649255969,
          -0.1670666803244657,
          -0.13635922133487471,
          -0.17900831141727597,
          -0.14442430376016677,
          3.100038795790717,
          -0.098553320610153,
          -0.23211664132796322,
          -0.19738772334131902,
          -0.07400991944942557,
          -0.15584914410695216,
          -0.1386910478358162,
          0.39286822624498435,
          -0.13538005303207382,
          -0.13577206780478698,
          -0.14193596784465787,
          -0.16595970719563613,
          -0.1772458681043386,
          -0.17901782867262403,
          -0.1848900642124048,
          -0.13796778238066876,
          -0.10468655704981521,
          -0.1368364451918551,
          0.5285927570141343,
          -0.09709747374127657,
          -0.08625586582633685,
          -0.150633957129004,
          -0.13848129386685057,
          0.5480652942696456,
          -0.19913448128571437,
          -0.16714352478251704,
          -0.16510060319425948,
          -0.12307721603043165,
          -0.12783378445613813,
          -0.14860756742051506,
          0.3347125451549269,
          -0.17930574786861048
         ]
        },
        {
         "customdata": [
          [
           "Proof-of-BibleHash"
          ],
          [
           "SHA-256 + Hive"
          ],
          [
           "Proof-of-Authority"
          ],
          [
           "ECC 256K1"
          ],
          [
           "Leased POS"
          ]
         ],
         "hovertemplate": "<b>%{hovertext}</b><br><br>Class=%{marker.color}<br>PC 3=%{x}<br>PC 2=%{y}<br>PC 1=%{z}<br>Algorithm=%{customdata[0]}<extra></extra>",
         "hovertext": [
          "BiblePay",
          "LitecoinCash",
          "Poa Network",
          "Acute Angle Cloud",
          "Waves"
         ],
         "legendgroup": "3",
         "marker": {
          "color": [
           3,
           3,
           3,
           3,
           3
          ],
          "coloraxis": "coloraxis",
          "symbol": "square"
         },
         "mode": "markers",
         "name": "3",
         "scene": "scene",
         "showlegend": true,
         "type": "scatter3d",
         "x": [
          7.321696167105541,
          11.875937607693157,
          15.550072242839203,
          13.273507553610267,
          19.66811509394789
         ],
         "y": [
          4.153691500700592,
          0.8044615673455995,
          3.182181898599194,
          3.7454535105232334,
          3.4509575710466684
         ],
         "z": [
          -0.20429955433840982,
          -0.33094142624999345,
          -0.38106719677718415,
          -0.3437850335449382,
          -0.42341662112193146
         ]
        },
        {
         "customdata": [
          [
           "TRC10"
          ]
         ],
         "hovertemplate": "<b>%{hovertext}</b><br><br>Class=%{marker.color}<br>PC 3=%{x}<br>PC 2=%{y}<br>PC 1=%{z}<br>Algorithm=%{customdata[0]}<extra></extra>",
         "hovertext": [
          "BitTorrent"
         ],
         "legendgroup": "2",
         "marker": {
          "color": [
           2
          ],
          "coloraxis": "coloraxis",
          "symbol": "x"
         },
         "mode": "markers",
         "name": "2",
         "scene": "scene",
         "showlegend": true,
         "type": "scatter3d",
         "x": [
          -0.1819104085100169
         ],
         "y": [
          1.6164910749014192
         ],
         "z": [
          34.032270393826465
         ]
        }
       ],
       "layout": {
        "autosize": true,
        "coloraxis": {
         "colorbar": {
          "title": {
           "text": "Class"
          }
         },
         "colorscale": [
          [
           0,
           "#0d0887"
          ],
          [
           0.1111111111111111,
           "#46039f"
          ],
          [
           0.2222222222222222,
           "#7201a8"
          ],
          [
           0.3333333333333333,
           "#9c179e"
          ],
          [
           0.4444444444444444,
           "#bd3786"
          ],
          [
           0.5555555555555556,
           "#d8576b"
          ],
          [
           0.6666666666666666,
           "#ed7953"
          ],
          [
           0.7777777777777778,
           "#fb9f3a"
          ],
          [
           0.8888888888888888,
           "#fdca26"
          ],
          [
           1,
           "#f0f921"
          ]
         ]
        },
        "legend": {
         "title": {
          "text": "Class"
         },
         "tracegroupgap": 0,
         "x": 0,
         "y": 1
        },
        "margin": {
         "t": 60
        },
        "scene": {
         "aspectmode": "auto",
         "aspectratio": {
          "x": 1,
          "y": 1,
          "z": 1
         },
         "domain": {
          "x": [
           0,
           1
          ],
          "y": [
           0,
           1
          ]
         },
         "xaxis": {
          "title": {
           "text": "PC 3"
          },
          "type": "linear"
         },
         "yaxis": {
          "title": {
           "text": "PC 2"
          },
          "type": "linear"
         },
         "zaxis": {
          "title": {
           "text": "PC 1"
          },
          "type": "linear"
         }
        },
        "template": {
         "data": {
          "bar": [
           {
            "error_x": {
             "color": "#2a3f5f"
            },
            "error_y": {
             "color": "#2a3f5f"
            },
            "marker": {
             "line": {
              "color": "#E5ECF6",
              "width": 0.5
             },
             "pattern": {
              "fillmode": "overlay",
              "size": 10,
              "solidity": 0.2
             }
            },
            "type": "bar"
           }
          ],
          "barpolar": [
           {
            "marker": {
             "line": {
              "color": "#E5ECF6",
              "width": 0.5
             },
             "pattern": {
              "fillmode": "overlay",
              "size": 10,
              "solidity": 0.2
             }
            },
            "type": "barpolar"
           }
          ],
          "carpet": [
           {
            "aaxis": {
             "endlinecolor": "#2a3f5f",
             "gridcolor": "white",
             "linecolor": "white",
             "minorgridcolor": "white",
             "startlinecolor": "#2a3f5f"
            },
            "baxis": {
             "endlinecolor": "#2a3f5f",
             "gridcolor": "white",
             "linecolor": "white",
             "minorgridcolor": "white",
             "startlinecolor": "#2a3f5f"
            },
            "type": "carpet"
           }
          ],
          "choropleth": [
           {
            "colorbar": {
             "outlinewidth": 0,
             "ticks": ""
            },
            "type": "choropleth"
           }
          ],
          "contour": [
           {
            "colorbar": {
             "outlinewidth": 0,
             "ticks": ""
            },
            "colorscale": [
             [
              0,
              "#0d0887"
             ],
             [
              0.1111111111111111,
              "#46039f"
             ],
             [
              0.2222222222222222,
              "#7201a8"
             ],
             [
              0.3333333333333333,
              "#9c179e"
             ],
             [
              0.4444444444444444,
              "#bd3786"
             ],
             [
              0.5555555555555556,
              "#d8576b"
             ],
             [
              0.6666666666666666,
              "#ed7953"
             ],
             [
              0.7777777777777778,
              "#fb9f3a"
             ],
             [
              0.8888888888888888,
              "#fdca26"
             ],
             [
              1,
              "#f0f921"
             ]
            ],
            "type": "contour"
           }
          ],
          "contourcarpet": [
           {
            "colorbar": {
             "outlinewidth": 0,
             "ticks": ""
            },
            "type": "contourcarpet"
           }
          ],
          "heatmap": [
           {
            "colorbar": {
             "outlinewidth": 0,
             "ticks": ""
            },
            "colorscale": [
             [
              0,
              "#0d0887"
             ],
             [
              0.1111111111111111,
              "#46039f"
             ],
             [
              0.2222222222222222,
              "#7201a8"
             ],
             [
              0.3333333333333333,
              "#9c179e"
             ],
             [
              0.4444444444444444,
              "#bd3786"
             ],
             [
              0.5555555555555556,
              "#d8576b"
             ],
             [
              0.6666666666666666,
              "#ed7953"
             ],
             [
              0.7777777777777778,
              "#fb9f3a"
             ],
             [
              0.8888888888888888,
              "#fdca26"
             ],
             [
              1,
              "#f0f921"
             ]
            ],
            "type": "heatmap"
           }
          ],
          "heatmapgl": [
           {
            "colorbar": {
             "outlinewidth": 0,
             "ticks": ""
            },
            "colorscale": [
             [
              0,
              "#0d0887"
             ],
             [
              0.1111111111111111,
              "#46039f"
             ],
             [
              0.2222222222222222,
              "#7201a8"
             ],
             [
              0.3333333333333333,
              "#9c179e"
             ],
             [
              0.4444444444444444,
              "#bd3786"
             ],
             [
              0.5555555555555556,
              "#d8576b"
             ],
             [
              0.6666666666666666,
              "#ed7953"
             ],
             [
              0.7777777777777778,
              "#fb9f3a"
             ],
             [
              0.8888888888888888,
              "#fdca26"
             ],
             [
              1,
              "#f0f921"
             ]
            ],
            "type": "heatmapgl"
           }
          ],
          "histogram": [
           {
            "marker": {
             "pattern": {
              "fillmode": "overlay",
              "size": 10,
              "solidity": 0.2
             }
            },
            "type": "histogram"
           }
          ],
          "histogram2d": [
           {
            "colorbar": {
             "outlinewidth": 0,
             "ticks": ""
            },
            "colorscale": [
             [
              0,
              "#0d0887"
             ],
             [
              0.1111111111111111,
              "#46039f"
             ],
             [
              0.2222222222222222,
              "#7201a8"
             ],
             [
              0.3333333333333333,
              "#9c179e"
             ],
             [
              0.4444444444444444,
              "#bd3786"
             ],
             [
              0.5555555555555556,
              "#d8576b"
             ],
             [
              0.6666666666666666,
              "#ed7953"
             ],
             [
              0.7777777777777778,
              "#fb9f3a"
             ],
             [
              0.8888888888888888,
              "#fdca26"
             ],
             [
              1,
              "#f0f921"
             ]
            ],
            "type": "histogram2d"
           }
          ],
          "histogram2dcontour": [
           {
            "colorbar": {
             "outlinewidth": 0,
             "ticks": ""
            },
            "colorscale": [
             [
              0,
              "#0d0887"
             ],
             [
              0.1111111111111111,
              "#46039f"
             ],
             [
              0.2222222222222222,
              "#7201a8"
             ],
             [
              0.3333333333333333,
              "#9c179e"
             ],
             [
              0.4444444444444444,
              "#bd3786"
             ],
             [
              0.5555555555555556,
              "#d8576b"
             ],
             [
              0.6666666666666666,
              "#ed7953"
             ],
             [
              0.7777777777777778,
              "#fb9f3a"
             ],
             [
              0.8888888888888888,
              "#fdca26"
             ],
             [
              1,
              "#f0f921"
             ]
            ],
            "type": "histogram2dcontour"
           }
          ],
          "mesh3d": [
           {
            "colorbar": {
             "outlinewidth": 0,
             "ticks": ""
            },
            "type": "mesh3d"
           }
          ],
          "parcoords": [
           {
            "line": {
             "colorbar": {
              "outlinewidth": 0,
              "ticks": ""
             }
            },
            "type": "parcoords"
           }
          ],
          "pie": [
           {
            "automargin": true,
            "type": "pie"
           }
          ],
          "scatter": [
           {
            "marker": {
             "colorbar": {
              "outlinewidth": 0,
              "ticks": ""
             }
            },
            "type": "scatter"
           }
          ],
          "scatter3d": [
           {
            "line": {
             "colorbar": {
              "outlinewidth": 0,
              "ticks": ""
             }
            },
            "marker": {
             "colorbar": {
              "outlinewidth": 0,
              "ticks": ""
             }
            },
            "type": "scatter3d"
           }
          ],
          "scattercarpet": [
           {
            "marker": {
             "colorbar": {
              "outlinewidth": 0,
              "ticks": ""
             }
            },
            "type": "scattercarpet"
           }
          ],
          "scattergeo": [
           {
            "marker": {
             "colorbar": {
              "outlinewidth": 0,
              "ticks": ""
             }
            },
            "type": "scattergeo"
           }
          ],
          "scattergl": [
           {
            "marker": {
             "colorbar": {
              "outlinewidth": 0,
              "ticks": ""
             }
            },
            "type": "scattergl"
           }
          ],
          "scattermapbox": [
           {
            "marker": {
             "colorbar": {
              "outlinewidth": 0,
              "ticks": ""
             }
            },
            "type": "scattermapbox"
           }
          ],
          "scatterpolar": [
           {
            "marker": {
             "colorbar": {
              "outlinewidth": 0,
              "ticks": ""
             }
            },
            "type": "scatterpolar"
           }
          ],
          "scatterpolargl": [
           {
            "marker": {
             "colorbar": {
              "outlinewidth": 0,
              "ticks": ""
             }
            },
            "type": "scatterpolargl"
           }
          ],
          "scatterternary": [
           {
            "marker": {
             "colorbar": {
              "outlinewidth": 0,
              "ticks": ""
             }
            },
            "type": "scatterternary"
           }
          ],
          "surface": [
           {
            "colorbar": {
             "outlinewidth": 0,
             "ticks": ""
            },
            "colorscale": [
             [
              0,
              "#0d0887"
             ],
             [
              0.1111111111111111,
              "#46039f"
             ],
             [
              0.2222222222222222,
              "#7201a8"
             ],
             [
              0.3333333333333333,
              "#9c179e"
             ],
             [
              0.4444444444444444,
              "#bd3786"
             ],
             [
              0.5555555555555556,
              "#d8576b"
             ],
             [
              0.6666666666666666,
              "#ed7953"
             ],
             [
              0.7777777777777778,
              "#fb9f3a"
             ],
             [
              0.8888888888888888,
              "#fdca26"
             ],
             [
              1,
              "#f0f921"
             ]
            ],
            "type": "surface"
           }
          ],
          "table": [
           {
            "cells": {
             "fill": {
              "color": "#EBF0F8"
             },
             "line": {
              "color": "white"
             }
            },
            "header": {
             "fill": {
              "color": "#C8D4E3"
             },
             "line": {
              "color": "white"
             }
            },
            "type": "table"
           }
          ]
         },
         "layout": {
          "annotationdefaults": {
           "arrowcolor": "#2a3f5f",
           "arrowhead": 0,
           "arrowwidth": 1
          },
          "autotypenumbers": "strict",
          "coloraxis": {
           "colorbar": {
            "outlinewidth": 0,
            "ticks": ""
           }
          },
          "colorscale": {
           "diverging": [
            [
             0,
             "#8e0152"
            ],
            [
             0.1,
             "#c51b7d"
            ],
            [
             0.2,
             "#de77ae"
            ],
            [
             0.3,
             "#f1b6da"
            ],
            [
             0.4,
             "#fde0ef"
            ],
            [
             0.5,
             "#f7f7f7"
            ],
            [
             0.6,
             "#e6f5d0"
            ],
            [
             0.7,
             "#b8e186"
            ],
            [
             0.8,
             "#7fbc41"
            ],
            [
             0.9,
             "#4d9221"
            ],
            [
             1,
             "#276419"
            ]
           ],
           "sequential": [
            [
             0,
             "#0d0887"
            ],
            [
             0.1111111111111111,
             "#46039f"
            ],
            [
             0.2222222222222222,
             "#7201a8"
            ],
            [
             0.3333333333333333,
             "#9c179e"
            ],
            [
             0.4444444444444444,
             "#bd3786"
            ],
            [
             0.5555555555555556,
             "#d8576b"
            ],
            [
             0.6666666666666666,
             "#ed7953"
            ],
            [
             0.7777777777777778,
             "#fb9f3a"
            ],
            [
             0.8888888888888888,
             "#fdca26"
            ],
            [
             1,
             "#f0f921"
            ]
           ],
           "sequentialminus": [
            [
             0,
             "#0d0887"
            ],
            [
             0.1111111111111111,
             "#46039f"
            ],
            [
             0.2222222222222222,
             "#7201a8"
            ],
            [
             0.3333333333333333,
             "#9c179e"
            ],
            [
             0.4444444444444444,
             "#bd3786"
            ],
            [
             0.5555555555555556,
             "#d8576b"
            ],
            [
             0.6666666666666666,
             "#ed7953"
            ],
            [
             0.7777777777777778,
             "#fb9f3a"
            ],
            [
             0.8888888888888888,
             "#fdca26"
            ],
            [
             1,
             "#f0f921"
            ]
           ]
          },
          "colorway": [
           "#636efa",
           "#EF553B",
           "#00cc96",
           "#ab63fa",
           "#FFA15A",
           "#19d3f3",
           "#FF6692",
           "#B6E880",
           "#FF97FF",
           "#FECB52"
          ],
          "font": {
           "color": "#2a3f5f"
          },
          "geo": {
           "bgcolor": "white",
           "lakecolor": "white",
           "landcolor": "#E5ECF6",
           "showlakes": true,
           "showland": true,
           "subunitcolor": "white"
          },
          "hoverlabel": {
           "align": "left"
          },
          "hovermode": "closest",
          "mapbox": {
           "style": "light"
          },
          "paper_bgcolor": "white",
          "plot_bgcolor": "#E5ECF6",
          "polar": {
           "angularaxis": {
            "gridcolor": "white",
            "linecolor": "white",
            "ticks": ""
           },
           "bgcolor": "#E5ECF6",
           "radialaxis": {
            "gridcolor": "white",
            "linecolor": "white",
            "ticks": ""
           }
          },
          "scene": {
           "xaxis": {
            "backgroundcolor": "#E5ECF6",
            "gridcolor": "white",
            "gridwidth": 2,
            "linecolor": "white",
            "showbackground": true,
            "ticks": "",
            "zerolinecolor": "white"
           },
           "yaxis": {
            "backgroundcolor": "#E5ECF6",
            "gridcolor": "white",
            "gridwidth": 2,
            "linecolor": "white",
            "showbackground": true,
            "ticks": "",
            "zerolinecolor": "white"
           },
           "zaxis": {
            "backgroundcolor": "#E5ECF6",
            "gridcolor": "white",
            "gridwidth": 2,
            "linecolor": "white",
            "showbackground": true,
            "ticks": "",
            "zerolinecolor": "white"
           }
          },
          "shapedefaults": {
           "line": {
            "color": "#2a3f5f"
           }
          },
          "ternary": {
           "aaxis": {
            "gridcolor": "white",
            "linecolor": "white",
            "ticks": ""
           },
           "baxis": {
            "gridcolor": "white",
            "linecolor": "white",
            "ticks": ""
           },
           "bgcolor": "#E5ECF6",
           "caxis": {
            "gridcolor": "white",
            "linecolor": "white",
            "ticks": ""
           }
          },
          "title": {
           "x": 0.05
          },
          "xaxis": {
           "automargin": true,
           "gridcolor": "white",
           "linecolor": "white",
           "ticks": "",
           "title": {
            "standoff": 15
           },
           "zerolinecolor": "white",
           "zerolinewidth": 2
          },
          "yaxis": {
           "automargin": true,
           "gridcolor": "white",
           "linecolor": "white",
           "ticks": "",
           "title": {
            "standoff": 15
           },
           "zerolinecolor": "white",
           "zerolinewidth": 2
          }
         }
        }
       }
      },
      "image/png": "[encoded data removed]",
      "text/html": [
       "<div>                            <div id=\"ac7cd97c-1e57-4626-9e3a-9e3dbafabad2\" class=\"plotly-graph-div\" style=\"height:525px; width:800px;\"></div>            <script type=\"text/javascript\">                require([\"plotly\"], function(Plotly) {                    window.PLOTLYENV=window.PLOTLYENV || {};                                    if (document.getElementById(\"ac7cd97c-1e57-4626-9e3a-9e3dbafabad2\")) {                    Plotly.newPlot(                        \"ac7cd97c-1e57-4626-9e3a-9e3dbafabad2\",                        [{\"customdata\":[[\"Scrypt\"],[\"Scrypt\"],[\"X13\"],[\"X11\"],[\"SHA-512\"],[\"SHA-256\"],[\"SHA-256\"],[\"X15\"],[\"Scrypt\"],[\"Scrypt\"],[\"Scrypt\"],[\"Scrypt\"],[\"Scrypt\"],[\"Scrypt\"],[\"Groestl\"],[\"PoS\"],[\"Scrypt\"],[\"Scrypt\"],[\"X11\"],[\"X11\"],[\"SHA3\"],[\"Scrypt\"],[\"SHA-256\"],[\"Scrypt\"],[\"X13\"],[\"X13\"],[\"NeoScrypt\"],[\"Scrypt\"],[\"Scrypt\"],[\"Scrypt\"],[\"X11\"],[\"X11\"],[\"Multiple\"],[\"PHI1612\"],[\"X11\"],[\"Scrypt\"],[\"Scrypt\"],[\"Scrypt\"],[\"X11\"],[\"Multiple\"],[\"X13\"],[\"Scrypt\"],[\"Shabal256\"],[\"Counterparty\"],[\"SHA-256\"],[\"Groestl\"],[\"Scrypt\"],[\"X13\"],[\"Scrypt\"],[\"Scrypt\"],[\"X13\"],[\"X11\"],[\"Scrypt\"],[\"X11\"],[\"SHA3\"],[\"QUAIT\"],[\"X11\"],[\"Scrypt\"],[\"X13\"],[\"SHA-256\"],[\"X15\"],[\"BLAKE256\"],[\"SHA-256\"],[\"X11\"],[\"SHA-256\"],[\"NIST5\"],[\"Scrypt\"],[\"Scrypt\"],[\"X11\"],[\"Scrypt\"],[\"SHA-256\"],[\"Scrypt\"],[\"PoS\"],[\"X11\"],[\"SHA-256\"],[\"SHA-256\"],[\"NIST5\"],[\"X11\"],[\"POS 3.0\"],[\"Scrypt\"],[\"Scrypt\"],[\"Scrypt\"],[\"X13\"],[\"X11\"],[\"X11\"],[\"Scrypt\"],[\"SHA-256\"],[\"X11\"],[\"Scrypt\"],[\"Scrypt\"],[\"Scrypt\"],[\"Scrypt\"],[\"SHA-256D\"],[\"PoS\"],[\"Scrypt\"],[\"X11\"],[\"PoS\"],[\"X13\"],[\"X14\"],[\"PoS\"],[\"SHA-256D\"],[\"DPoS\"],[\"X11\"],[\"X13\"],[\"X11\"],[\"PoS\"],[\"Scrypt\"],[\"Scrypt\"],[\"PoS\"],[\"X11\"],[\"SHA-256\"],[\"Scrypt\"],[\"X11\"],[\"Scrypt\"],[\"Scrypt\"],[\"X11\"],[\"Scrypt\"],[\"Scrypt\"],[\"Scrypt\"],[\"Scrypt\"],[\"Quark\"],[\"QuBit\"],[\"Scrypt\"],[\"SHA-256\"],[\"X11\"],[\"Scrypt\"],[\"Scrypt\"],[\"Scrypt\"],[\"Scrypt\"],[\"X13\"],[\"Scrypt\"],[\"Scrypt\"],[\"X11\"],[\"Blake2S\"],[\"X11\"],[\"PoS\"],[\"X11\"],[\"PoS\"],[\"X11\"],[\"Scrypt\"],[\"Scrypt\"],[\"Scrypt\"],[\"SHA-256\"],[\"X11\"],[\"Scrypt\"],[\"PoS\"],[\"Scrypt\"],[\"X15\"],[\"SHA-256\"],[\"POS 3.0\"],[\"536\"],[\"NIST5\"],[\"NIST5\"],[\"Skein\"],[\"X13\"],[\"Scrypt\"],[\"X13\"],[\"SkunkHash v2 Raptor\"],[\"Skein\"],[\"X11\"],[\"Scrypt\"],[\"VeChainThor Authority\"],[\"PoS\"],[\"Scrypt\"],[\"Scrypt\"],[\"SHA-512\"],[\"Ouroboros\"],[\"X11\"],[\"NeoScrypt\"],[\"Scrypt\"],[\"Lyra2REv2\"],[\"Scrypt\"],[\"SHA-256\"],[\"NIST5\"],[\"PHI1612\"],[\"Scrypt\"],[\"Quark\"],[\"POS 2.0\"],[\"Scrypt\"],[\"SHA-256\"],[\"X11\"],[\"DPoS\"],[\"NIST5\"],[\"X13\"],[\"Scrypt\"],[\"NIST5\"],[\"Quark\"],[\"Scrypt\"],[\"Scrypt\"],[\"X11\"],[\"Quark\"],[\"Scrypt\"],[\"Scrypt\"],[\"X11\"],[\"POS 3.0\"],[\"Ethash\"],[\"Scrypt\"],[\"Scrypt\"],[\"X13\"],[\"C11\"],[\"X11\"],[\"XEVAN\"],[\"Scrypt\"],[\"VBFT\"],[\"NIST5\"],[\"Scrypt\"],[\"Scrypt\"],[\"Scrypt\"],[\"Green Protocol\"],[\"PoS\"],[\"Scrypt\"],[\"Semux BFT consensus\"],[\"Quark\"],[\"PoS\"],[\"X16R\"],[\"Scrypt\"],[\"XEVAN\"],[\"Scrypt\"],[\"Scrypt\"],[\"Scrypt\"],[\"SHA-256D\"],[\"Scrypt\"],[\"X15\"],[\"Scrypt\"],[\"Quark\"],[\"SHA-256\"],[\"DPoS\"],[\"X16R\"],[\"Quark\"],[\"Quark\"],[\"Scrypt\"],[\"Lyra2REv2\"],[\"Quark\"],[\"Scrypt\"],[\"X11\"],[\"X11\"],[\"Scrypt\"],[\"PoS\"],[\"Keccak\"],[\"X11\"],[\"Scrypt\"],[\"SHA-512\"],[\"XEVAN\"],[\"XEVAN\"],[\"X11\"],[\"Quark\"],[\"Equihash\"],[\"Scrypt\"],[\"Quark\"],[\"Quark\"],[\"Scrypt\"],[\"X11\"],[\"Scrypt\"],[\"XEVAN\"],[\"SHA-256D\"],[\"X11\"],[\"X11\"],[\"DPoS\"],[\"Scrypt\"],[\"X11\"],[\"Scrypt\"],[\"Scrypt\"],[\"SHA-256\"],[\"Scrypt\"],[\"X11\"],[\"Scrypt\"],[\"SHA-256\"],[\"X11\"],[\"Scrypt\"],[\"Scrypt\"],[\"X11\"],[\"Scrypt\"],[\"PoS\"],[\"X11\"],[\"SHA-256\"],[\"DPoS\"],[\"Scrypt\"],[\"Scrypt\"],[\"NeoScrypt\"],[\"X13\"],[\"DPoS\"],[\"DPoS\"],[\"SHA-256\"],[\"PoS\"],[\"PoS\"],[\"SHA-256\"],[\"Scrypt\"],[\"Scrypt\"]],\"hovertemplate\":\"<b>%{hovertext}</b><br><br>Class=%{marker.color}<br>PC 3=%{x}<br>PC 2=%{y}<br>PC 1=%{z}<br>Algorithm=%{customdata[0]}<extra></extra>\",\"hovertext\":[\"42 Coin\",\"404Coin\",\"EliteCoin\",\"Dash\",\"Bitshares\",\"BitcoinDark\",\"PayCoin\",\"KoboCoin\",\"Aurora Coin\",\"BlueCoin\",\"EnergyCoin\",\"BitBar\",\"CryptoBullion\",\"CasinoCoin\",\"Diamond\",\"Exclusive Coin\",\"FlutterCoin\",\"HoboNickels\",\"HyperStake\",\"IOCoin\",\"MaxCoin\",\"MintCoin\",\"MazaCoin\",\"Nautilus Coin\",\"NavCoin\",\"OpalCoin\",\"Orbitcoin\",\"PotCoin\",\"PhoenixCoin\",\"Reddcoin\",\"SuperCoin\",\"SyncCoin\",\"TeslaCoin\",\"TittieCoin\",\"TorCoin\",\"UnitaryStatus Dollar\",\"UltraCoin\",\"VeriCoin\",\"X11 Coin\",\"Crypti\",\"StealthCoin\",\"ZCC Coin\",\"BurstCoin\",\"StorjCoin\",\"Neutron\",\"FairCoin\",\"RubyCoin\",\"Kore\",\"Dnotes\",\"8BIT Coin\",\"Sativa Coin\",\"Ucoin\",\"Vtorrent\",\"IslaCoin\",\"Nexus\",\"Droidz\",\"Squall Coin\",\"Diggits\",\"Paycon\",\"Emercoin\",\"EverGreenCoin\",\"Decred\",\"EDRCoin\",\"Hitcoin\",\"DubaiCoin\",\"PWR Coin\",\"BillaryCoin\",\"GPU Coin\",\"EuropeCoin\",\"ZeitCoin\",\"SwingCoin\",\"SafeExchangeCoin\",\"Nebuchadnezzar\",\"Ratecoin\",\"Revenu\",\"Clockcoin\",\"VIP Tokens\",\"BitSend\",\"Let it Ride\",\"PutinCoin\",\"iBankCoin\",\"Frankywillcoin\",\"MudraCoin\",\"Lutetium Coin\",\"GoldBlocks\",\"CarterCoin\",\"BitTokens\",\"MustangCoin\",\"ZoneCoin\",\"RootCoin\",\"BitCurrency\",\"Swiscoin\",\"BuzzCoin\",\"Opair\",\"PesoBit\",\"Halloween Coin\",\"CoffeeCoin\",\"RoyalCoin\",\"GanjaCoin V2\",\"TeamUP\",\"LanaCoin\",\"ARK\",\"InsaneCoin\",\"EmberCoin\",\"XenixCoin\",\"FreeCoin\",\"PLNCoin\",\"AquariusCoin\",\"Creatio\",\"Eternity\",\"Eurocoin\",\"BitcoinFast\",\"Stakenet\",\"BitConnect Coin\",\"MoneyCoin\",\"Enigma\",\"Russiacoin\",\"PandaCoin\",\"GameUnits\",\"GAKHcoin\",\"Allsafe\",\"LiteCreed\",\"Klingon Empire Darsek\",\"Internet of People\",\"KushCoin\",\"Printerium\",\"Impeach\",\"Zilbercoin\",\"FirstCoin\",\"FindCoin\",\"OpenChat\",\"RenosCoin\",\"VirtacoinPlus\",\"TajCoin\",\"Impact\",\"Atmos\",\"HappyCoin\",\"MacronCoin\",\"Condensate\",\"Independent Money System\",\"ArgusCoin\",\"LomoCoin\",\"ProCurrency\",\"GoldReserve\",\"GrowthCoin\",\"Phreak\",\"Degas Coin\",\"HTML5 Coin\",\"Ultimate Secure Cash\",\"QTUM\",\"Espers\",\"Denarius\",\"Virta Unique Coin\",\"Bitcoin Planet\",\"BritCoin\",\"Linda\",\"DeepOnion\",\"Signatum\",\"Cream\",\"Monoeci\",\"Draftcoin\",\"Vechain\",\"Stakecoin\",\"CoinonatX\",\"Ethereum Dark\",\"Obsidian\",\"Cardano\",\"Regalcoin\",\"TrezarCoin\",\"TerraNovaCoin\",\"Rupee\",\"WomenCoin\",\"Theresa May Coin\",\"NamoCoin\",\"LUXCoin\",\"Xios\",\"Bitcloud 2.0\",\"KekCoin\",\"BlackholeCoin\",\"Infinity Economics\",\"Magnet\",\"Lamden Tau\",\"Electra\",\"Bitcoin Diamond\",\"Cash & Back Coin\",\"Bulwark\",\"Kalkulus\",\"GermanCoin\",\"LiteCoin Ultra\",\"PhantomX\",\"Digiwage\",\"Trollcoin\",\"Litecoin Plus\",\"Monkey Project\",\"TokenPay\",\"1717 Masonic Commemorative Token\",\"My Big Coin\",\"Unified Society USDEX\",\"Tokyo Coin\",\"Stipend\",\"Pushi\",\"Ellerium\",\"Velox\",\"Ontology\",\"Bitspace\",\"Briacoin\",\"Ignition\",\"MedicCoin\",\"Bitcoin Green\",\"Deviant Coin\",\"Abjcoin\",\"Semux\",\"Carebit\",\"Zealium\",\"Proton\",\"iDealCash\",\"Bitcoin Incognito\",\"HollyWoodCoin\",\"Swisscoin\",\"Xt3ch\",\"TheVig\",\"EmaratCoin\",\"Dekado\",\"Lynx\",\"Poseidon Quark\",\"BitcoinWSpectrum\",\"Muse\",\"Trivechain\",\"Dystem\",\"Giant\",\"Peony Coin\",\"Absolute Coin\",\"Vitae\",\"TPCash\",\"ARENON\",\"EUNO\",\"MMOCoin\",\"Ketan\",\"XDNA\",\"PAXEX\",\"ThunderStake\",\"Kcash\",\"Bettex coin\",\"BitMoney\",\"Junson Ming Chan Coin\",\"HerbCoin\",\"PirateCash\",\"Oduwa\",\"Galilel\",\"Crypto Sports\",\"Credit\",\"Dash Platinum\",\"Nasdacoin\",\"Beetle Coin\",\"Titan Coin\",\"Award\",\"Insane Coin\",\"ALAX\",\"LiteDoge\",\"TruckCoin\",\"OrangeCoin\",\"BitstarCoin\",\"NeosCoin\",\"HyperCoin\",\"PinkCoin\",\"AudioCoin\",\"IncaKoin\",\"Piggy Coin\",\"Genstake\",\"XiaoMiCoin\",\"CapriCoin\",\" ClubCoin\",\"Radium\",\"Creditbit \",\"OKCash\",\"Lisk\",\"HiCoin\",\"WhiteCoin\",\"FriendshipCoin\",\"Triangles Coin\",\"EOS\",\"Oxycoin\",\"TigerCash\",\"Particl\",\"Nxt\",\"ZEPHYR\",\"Gapcoin\",\"BitcoinPlus\"],\"legendgroup\":\"0\",\"marker\":{\"color\":[0,0,0,0,0,0,0,0,0,0,0,0,0,0,0,0,0,0,0,0,0,0,0,0,0,0,0,0,0,0,0,0,0,0,0,0,0,0,0,0,0,0,0,0,0,0,0,0,0,0,0,0,0,0,0,0,0,0,0,0,0,0,0,0,0,0,0,0,0,0,0,0,0,0,0,0,0,0,0,0,0,0,0,0,0,0,0,0,0,0,0,0,0,0,0,0,0,0,0,0,0,0,0,0,0,0,0,0,0,0,0,0,0,0,0,0,0,0,0,0,0,0,0,0,0,0,0,0,0,0,0,0,0,0,0,0,0,0,0,0,0,0,0,0,0,0,0,0,0,0,0,0,0,0,0,0,0,0,0,0,0,0,0,0,0,0,0,0,0,0,0,0,0,0,0,0,0,0,0,0,0,0,0,0,0,0,0,0,0,0,0,0,0,0,0,0,0,0,0,0,0,0,0,0,0,0,0,0,0,0,0,0,0,0,0,0,0,0,0,0,0,0,0,0,0,0,0,0,0,0,0,0,0,0,0,0,0,0,0,0,0,0,0,0,0,0,0,0,0,0,0,0,0,0,0,0,0,0,0,0,0,0,0,0,0,0,0,0,0,0,0,0,0,0,0,0,0,0,0,0,0,0,0,0,0,0,0,0],\"coloraxis\":\"coloraxis\",\"symbol\":\"circle\"},\"mode\":\"markers\",\"name\":\"0\",\"scene\":\"scene\",\"showlegend\":true,\"type\":\"scatter3d\",\"x\":[-0.5661975509923352,-0.5663052626682132,-0.6176746289023001,-0.44136414662826157,-0.21041626056277804,-0.366546702237955,-0.0744306916482303,-0.587090227918344,-0.5661994618059791,-0.5662599094756327,-0.5662096279811725,-0.5661975590754992,-0.5661976607815012,-0.3801512620924895,-0.3098656194558848,-0.03214682178135458,-0.20985235059778812,-0.5662072495223327,-0.14941082595367505,-0.4413649925304097,-0.5277296472494308,-0.27617028232805474,-0.3667236938326745,-0.2740822783191061,-0.6123516261340262,-0.6123466279534102,-0.34909014876680583,-0.5662226873868295,-0.5662055752810974,-0.5690744878424981,-0.14925107760077957,-0.44136308845288785,0.08456070422743255,-0.24797913078559952,-0.44136330702692267,-0.5663179075189714,-0.5662032627127019,-0.4042742103890855,-0.4413638134611203,0.08455954885230667,-0.6123483882691793,-0.5662198922848676,-0.31340100152043837,-0.09942426961472114,-0.36655077466037267,-0.30987048119506394,-0.2740832317696121,-0.6123454328501915,-0.2741016121880307,-0.5661976950371462,-0.6123459151966864,-0.1492465216412651,-0.5661988461986024,-0.4413632368796761,-0.2733044021270823,-0.59834808525909,-0.22010459763269102,-0.2740911594533613,-0.6123477927841804,-0.36655844751287353,-0.587086518397232,-0.34161661939156335,-0.3665469358850503,-0.442649800145443,-0.36654698919125517,-0.547158235277226,-0.5661987624521947,-0.27408626444887046,-0.4413671117795895,-0.2784827863059732,-0.36654714603011285,-0.3761406052394864,-0.03214838348980266,-0.44137687947535703,-0.36654826234701887,-0.36655214344550324,-0.5461789446399319,-0.44136656836611754,-0.18177215111326506,-0.5662929813012118,-0.5661983417851512,-0.566208146471365,-0.32023020782280764,-0.14931571363804083,-0.44136500661893574,-0.5662024907336154,-0.3665466263686336,-0.44136317632192146,-0.56619796855232,-0.5661977413624407,-0.2740972078405582,-0.5547271980588045,-0.5807643261832776,-0.03215410836857485,-0.5662008408246407,-0.44140079004070115,-0.032161171709476855,-0.32022841843807065,-0.6891994120659347,-0.03215036628131927,-0.5788515460568396,-0.09228810135345025,-0.4413651229752196,-0.6213992973023702,-0.44136349660816493,-0.032151562134847135,-0.5661995294129414,-0.5661981197378163,-0.03214838348980266,-0.44136415304954085,-0.36654777863837346,-0.5661997956663379,0.004617256612847661,-0.5661988573189723,-0.5662037089554799,-0.441363207368813,-0.5661994989583694,-0.27765308049517984,-0.5661979934494799,-0.5661979023117578,-0.18792535701096746,-0.3072152529337254,-0.5662038118755607,-0.3665468158364544,-0.4413637168250132,-0.5661988674948832,-0.5661977527064787,-0.27408128077617305,-0.429146063368216,-0.3202296925160848,-0.5663035058227097,-0.27408437098436245,-0.44136516188044694,-0.6075164280642982,-0.4413748052256596,-0.03215803315982498,-0.4413659821643035,-0.03218878581882643,-0.44137893719342464,-0.5661982437144975,-0.566197887275676,-0.566205418060341,-0.07502563428304009,-0.4413650861947341,-0.2741251636372859,-0.03214761673390643,-0.5662004679597153,-0.591778752682924,-0.07443199603844514,-0.18177869761208912,-0.5670890628464945,-0.5461705390077394,-0.5461771665577381,-0.6626396929150368,-0.6123474622791156,-0.5674760920474788,-0.6123474391686475,0.07639931111795618,-0.6626436701496055,-0.44136439616503664,-0.27408253160606005,0.6147310896464645,-0.03214713852920463,-0.5661998457754547,-0.5661979959981885,-0.210122230196781,-0.1483161938558438,-0.4413640121247923,-0.3491108539872286,-0.5661977859392526,-0.06324174114396144,-0.5711486601370745,-0.3665562191312212,-0.5462344449642066,-0.5399202105967419,-0.5661979261295346,-0.48004577211307203,0.017744051638753172,-0.5661992723709929,-0.07538301025149625,-0.4413679628111825,-0.09230868679063105,-0.5491915941811661,-0.6123647937842416,-0.5662100836975726,-0.2540545811643846,-0.1879260279051344,-0.567070450260883,-0.5661995499419497,-0.4413679124839706,-0.18792782482458503,-0.5662625882909312,-0.5661978280422397,-0.1492466980033877,-0.1817703040707611,0.14302899483179696,-0.21466992801419973,-0.5662224118330657,-0.32025700874771235,-0.4331734348497539,-0.4413634965233449,-0.5807691186311239,-0.274084042762432,-0.06264038473295426,-0.5461717954580483,-0.5661976574301094,-0.5661977060907003,-0.2741107047187295,-0.08258903267328878,-0.032149099276364175,-0.5661987551691929,-0.09754287799485732,-0.48005647177997124,-0.03214797672376651,-0.010000543823310141,-0.5663753939930928,-0.3595113197576093,-0.27408456580159457,-0.5672782903031226,-0.2740816567460767,-0.5786907077974621,-0.5662003273909642,-0.29497167355085074,-0.43809317941751275,-0.18792955582828524,-0.07443587397777685,-0.11388606302274373,-0.30212101572356787,-0.1879250667816375,-0.4800418157685308,-0.274212634137929,-0.35535790411201235,-0.18793147167863827,-0.5662058993039765,-0.1492484223504179,-0.4413664990105479,-0.27409317225540036,-0.03214882150909025,-0.36918533964388134,-0.14924732518295888,-0.5664422955948922,-0.3640168163750286,-0.28865267838115677,-0.590663196398348,-0.1509350286842947,-0.4800450821762416,0.24505496223216905,-0.5661991653878315,-0.48004313587186154,-0.18792450195222793,-0.5698074751763968,-0.14924632555878833,-0.5662002240713837,-0.5807920405655561,-0.5788137201715285,-0.4413678851842085,-0.4413656561670786,-0.09238246032816425,-0.5679745281586697,-0.44138689378347956,-0.5661994617133818,-0.5661999944780788,-0.07443001195941919,-0.5661984961633262,-0.44140981969339305,-0.5663758860125779,-0.36830843693889115,-0.4414194095462147,-0.5662035564677897,-0.5662403565270433,-0.4413844757313307,-0.566208970991056,-0.03214670976008918,-0.043384123721474585,-0.3665545531198079,-0.0922895333471105,-0.2751402054070776,-0.5662246274165049,-0.34909038357769007,-0.6123451553094915,-0.09237665849850606,-0.09238665253355509,-0.07453537157385756,-0.03214724291254716,0.27102892294613695,-0.0530336958358039,-0.5662009707744431,-0.27408058438148725],\"y\":[1.0060547887026403,1.006163151317901,1.5947463101815327,1.1167060980625958,1.5755981816487563,0.7695760815847622,0.7176715214552285,1.7840923418581882,1.0060528415944812,1.0062800951053579,1.0060984238887742,1.0060545540120667,1.0060546575664067,0.4022477104222031,0.8629454171117055,1.793180060111503,0.30561121929985213,1.006026490024679,1.0653959480591786,1.1167091543773404,1.4531706885533695,0.9616920122526306,0.7689502389657479,0.9541393399258139,1.7413383627816195,1.741320303939834,0.41225596158838124,1.005923917574794,1.0060320532393732,1.0164494005638924,1.0648187639891895,1.116713886646603,0.2576554500100372,1.7312173472038639,1.1167093985426908,1.0056451095911556,1.0060226420660667,0.5751625481832275,1.1167136035925709,0.25771240805528267,1.7413266641069447,1.005607673881394,0.589262655568166,1.8656062581103556,0.7695665151389628,0.8629652949000023,0.9541513252047708,1.7413096519031501,0.9539538172887909,1.0060553091706865,1.7413124503326856,1.0647917462131937,1.006048911696873,1.1167144234527557,1.0157071788934888,1.779318724785944,0.667808766107775,0.9541271850058101,1.7412981207807068,0.7691022948368077,1.784249800550923,0.9409173482170052,0.7695769257711285,1.1073488432055378,0.7695831884824527,1.4216049990053277,1.0060369967267804,0.9540456030363743,1.1165257348449442,0.9177915380906556,0.7695681839984887,0.40773678687725506,1.793175145978077,1.1167241276000994,0.7694757685496028,0.7693302397176255,1.418019235357887,1.1166530912153116,1.752974562306167,1.0053439147799297,1.0060342452051396,1.0060402874918313,1.6893036825072196,1.0647055112478154,1.1166944258782543,1.006025131199389,0.7695763352983919,1.1167126211451899,1.0060452128521562,1.0060554765478242,0.9542018219101509,0.46901898447911944,1.7834433438146724,1.793167327308048,1.0060666751622387,1.1160583524592436,1.7932107942161852,1.6894014648144542,1.8881121664137108,1.793033988111744,1.7831270906669379,1.9382962876359708,1.11670540299896,1.7735796899206155,1.1167133279495811,1.793170795613007,1.0060415941315033,1.0060346745463378,1.793175145978077,1.1166860635032274,0.7695810263804747,1.0060454803374168,0.5172264813723646,1.0060447291893788,1.0057335964106904,1.116711677648609,1.0059858185342623,0.9498869483869411,1.0060495254939772,1.0060543078789745,1.6453083207711325,0.5011685566807643,1.0058134919213642,0.7695770198613681,1.1167112201591562,1.006048988642106,1.0060439403366392,0.9541152451349847,0.5034764523838062,1.6893997210826404,1.0059097765397507,0.9541372697841454,1.1166685950615252,1.7250490455944332,1.1166981589109997,1.7931623527282543,1.1166715588152432,1.793120545349288,1.1165072320959555,1.0060460950709065,1.0060409076408898,1.0055553773057428,0.6802400123667571,1.1166999917501175,0.9532471569474734,1.7931670972674325,1.0060099052124076,1.753711892814866,0.717577220671162,1.7529631142702737,1.8226308070839794,1.4180310919736314,1.417996975925529,1.793957949682744,1.7413074833542384,0.9842824743043649,1.7413132597880974,1.8263268401930657,1.7939723197616457,1.1167135937691766,0.9541396080033727,2.546199244110748,1.7931486898816502,1.0060376108343585,1.0060541796576197,1.5763880971265676,1.8056298082233182,1.1167029729114515,0.4121216268950332,1.0060473329913067,0.7688023545084364,1.010747662641274,0.7695692957191754,1.4176338649139837,1.783677234506234,1.006045059575108,1.6971361595887728,1.8041149861964223,1.00605320242758,0.7163684035253896,1.1166554902822277,1.9381727261096267,1.4131166199651426,1.7412750930799807,1.0059892249142277,1.366112356778401,1.645308105588548,0.9828168568309967,1.0059828357274365,1.1167049250100274,1.6452618144288655,1.0058147216771742,1.006053678385981,1.0647918555884046,1.7529723753923685,0.013434074213026906,0.46736420320992383,1.0060221551045487,1.6890838150017689,0.8431638027855224,1.1167021656721683,1.3384959521462798,0.9540888037513247,1.7538948178946745,1.4180145182014023,1.0060535897859704,1.0060527099291499,0.9539866693575618,1.905520892912321,1.7931418393407117,1.0060433044421613,1.8391951564177833,1.6971748183741457,1.793142006151236,0.7993600702372253,1.0039938010956093,0.8896139167362442,0.9541424214426243,1.0045756645851482,0.9541224097391634,1.7864551205300703,1.0060204818774088,1.7323108137134808,0.39698181260527937,1.6449883157206913,0.7176439216096485,1.8358775375129994,0.8512659454720891,1.645304105133718,1.6972247132629896,0.9457089985875986,0.8206974363135252,1.6452855475313075,1.0055571160789776,1.0647801393806362,1.1166998180131278,0.954050003700496,1.7930764397781787,0.8243679714867265,1.0647524226129403,0.9974380270978767,1.3866593807529624,1.2865901035364897,0.8988641196813143,1.070903019146941,1.6972107308149296,0.07340514963306523,1.006049537118285,1.697222153906583,1.6453060917452111,0.9796156276516906,1.064791196101653,1.0060201085751808,1.3383465232523,1.7843131790890134,1.1165095271316667,1.1167073294654422,1.938175358134751,0.9940009022212801,1.1167998978114781,1.0059561251608258,1.0060349789204024,0.7176645790788799,1.0060582037061283,1.1166188131338826,1.0011568521800303,0.7758526990014658,1.1163895441741323,1.0060685694696967,1.005998314362025,1.1166813713440042,1.006011596402612,1.793174904847261,0.4953154823166488,0.7695606371025895,1.9382830303667986,0.9526872371065647,1.0059942673578988,0.41222704102023067,1.7413149198147222,1.9386822314315415,1.9387183407104234,0.7175285008807638,1.7931770242853835,1.8807247138462413,0.8198237395321865,1.0059351857343366,0.9541412321357566],\"z\":[-0.3336689061948735,-0.31702324082141886,2.3123284699348834,-0.39851719997544865,-0.2656808660075051,-0.305316084523499,-0.26590675537651387,-0.23500467937312067,-0.3333287894537439,-0.3259151957622211,-0.33216724264411474,-0.3336648443366979,-0.33364914107300814,0.6703226443103862,-0.36712988460235385,-0.36662740362052426,-0.2979854017344526,-0.3317292911953287,-0.33895528455958673,-0.3984120197305898,-0.400759497854066,-0.03448541731108161,-0.26865208386252803,-0.29401081417956615,-0.27033759359178355,-0.27095907192830443,-0.3384749458849418,-0.3279755050677808,-0.3320719779291677,0.02405204549164768,-0.3588185404617137,-0.398783278403764,-0.24853203065513887,-0.3170320786513163,-0.3986949658905109,-0.3089211169518326,-0.3323472966062011,-0.314358940916409,-0.39865950882009527,-0.2489997795833519,-0.2707401926600163,-0.32477687650899245,0.02478404487107504,-0.3551992705861927,-0.3045284675160834,-0.36655215124698864,-0.29399118730283835,-0.27103430303352727,-0.2886487026863993,-0.33365099578814117,-0.2709865558169175,-0.35926275075811914,-0.33338557745768604,-0.39876482899562904,-0.38586072711050845,-0.4217213005768058,-0.3768936138067766,-0.29239404254960805,-0.27050853114534046,-0.29787608312723346,-0.23744506882535846,-0.07996002846532828,-0.30528703263052503,-0.07646320324766194,-0.3053507165607849,-0.23058867658606091,-0.3332614805108419,-0.29226256479217616,-0.3959352085974867,0.8583486684173057,-0.3051508493232644,-0.05979990162535262,-0.366310937502655,-0.3966099392116595,-0.3038948477715452,-0.3015641309084537,-0.3518042992249947,-0.39750072997094116,-0.35058537560783015,-0.3095748283020478,-0.3332995204191552,-0.3317400455996481,-0.23031976293142403,-0.34676467736906563,-0.39823907333933306,-0.3325044261224357,-0.3053316322773259,-0.3987540165222917,-0.3334885907036443,-0.33364523565874615,-0.29225338989412075,-0.24876925120756127,0.04391145988956357,-0.3652689398189559,-0.33325984570184847,-0.3849242948246472,-0.36459855736308716,-0.23174978932077864,-0.41473779221045187,-0.36434633519322096,-0.2703148467262434,3.745018697794769,-0.3983468873579306,0.8598550709351088,-0.39870897451918214,-0.36573227908105216,-0.33318727067472587,-0.333341396202862,-0.366310937502655,-0.3982840660039065,-0.30519447210017464,-0.333188036561157,-0.406916953678794,-0.33333528199472195,-0.3289250248031958,-0.398737927936994,-0.33254626514965485,0.34868629320705186,-0.33353440771411813,-0.3336049500306871,-0.3506318209802066,-0.3512572140401043,-0.32983337589475037,-0.3053080736756708,-0.39864796092640065,-0.3333829294586699,-0.3335097226874401,-0.29389750047766744,-0.2694634753862365,-0.23151784899326722,-0.31438029295156433,-0.29363904994117385,-0.3979140633188665,-0.4117156978894305,-0.39665386004709413,-0.364559047067636,-0.39781206847596673,-0.3589639196260295,-0.3937555910383041,-0.33345307985997374,-0.3334522296069983,-0.32657661478829125,0.2665495221894022,-0.3982903197445128,-0.27654915412750924,-0.36634513569761495,-0.33266422827533165,0.8960992261831828,-0.26459765901616794,-0.3493647907718522,0.5862788823884126,-0.3533385906585017,-0.35184196478910745,-0.40336287487683176,-0.2706719083115721,0.13101071706544085,-0.2707426594044083,-0.3749541696789346,-0.40286834190306337,-0.3985625540550951,-0.2939718250355854,4.439953972427963,-0.3662113909736283,-0.33308855379764457,-0.33358789482596635,-0.32369633316534696,0.6558713709707199,-0.3985033537929963,-0.33347785272362074,-0.3335434978721639,-0.32294007043321665,0.4348088517031673,-0.3036558460609402,-0.33811669477447315,-0.39194611312779637,-0.33349386559148436,-0.3884204656747504,-0.3543978493371472,-0.3333644517605429,-0.09254417855613413,-0.39729677293344595,3.7498710947988103,0.20566382166769007,-0.26741635637120004,-0.33082661886835396,-0.3137563010781462,-0.3505178309212277,0.08057284734272056,-0.33250324124528025,-0.3978777554305318,-0.34968299099271,-0.320079425498097,-0.333610001440501,-0.35923470763767396,-0.3508670083500365,-0.27613099110099837,-0.3091057936227354,-0.32915921720541425,-0.2233188555331525,-0.35558631874450586,-0.39857969233370794,-0.3120903528764368,-0.29313220015268865,-0.3308691555102438,-0.35293779875105874,-0.33363732960162973,-0.33361905091284977,-0.2875181291261834,-0.36567361717302443,-0.36580617760763556,-0.3333357552049658,3.926570885551862,-0.3870900593336113,-0.36599466956749976,-0.32492504103650327,-0.2802396581400184,-0.2903530945206581,-0.29366634612485737,-0.13692504366004132,-0.29391800706267696,-0.33559459721726476,-0.3328101026803056,-0.19744322623362567,2.230148131235042,-0.34622728699034083,-0.2647257934886618,1.0288535888762724,-0.36360816745499724,-0.35063122380026734,-0.39010372611956495,-0.174695284710825,-0.36221428494830604,-0.3493518196984902,-0.3265167765156911,-0.35881242158466176,-0.39805350800511685,-0.2911655139879577,-0.36509479606706235,-0.35057800189154903,-0.35867371019089167,-0.19318346081065257,-0.28912517065023746,-0.2727375051226012,0.530438047026511,-0.14943452684099315,-0.3893989106643302,-0.3057173991773328,-0.33333977508455914,-0.3898546890886881,-0.35074810573571996,0.5725265343651935,-0.3592889660600906,-0.3328229495312138,-0.30655001761176404,-0.2903400694950834,-0.39561893540468585,-0.39828058979583936,3.7621012103688782,0.10127531896707599,-0.39582330799971477,-0.3322085070032705,-0.33303335423422725,-0.26593929871057814,-0.3335513830282126,-0.38991563282495073,-0.2472965882348567,-0.08523321730153577,-0.38566617515250157,-0.33283046875701805,-0.32590078992293703,-0.3948522394130335,-0.33127067847411895,-0.36658630560756766,-0.4004654355318122,-0.3038324289733596,3.7454102475463005,-0.10137116676261626,-0.32846797119864724,-0.33810092576764134,-0.2711414481251175,3.7552657123255537,3.7565083797589938,-0.24685309086152116,-0.3665222498468464,-0.4037084982814001,2.486744684011243,-0.3317151643119647,-0.29431425186364757]},{\"customdata\":[[\"SHA-256\"],[\"Ethash\"],[\"Scrypt\"],[\"CryptoNight-V7\"],[\"Ethash\"],[\"Equihash\"],[\"Multiple\"],[\"Scrypt\"],[\"X11\"],[\"Scrypt\"],[\"Multiple\"],[\"Scrypt\"],[\"SHA-256\"],[\"Scrypt\"],[\"Scrypt\"],[\"Quark\"],[\"Groestl\"],[\"Scrypt\"],[\"Scrypt\"],[\"Scrypt\"],[\"X11\"],[\"Multiple\"],[\"SHA-256\"],[\"Scrypt\"],[\"Scrypt\"],[\"Scrypt\"],[\"Scrypt\"],[\"Scrypt\"],[\"NeoScrypt\"],[\"Scrypt\"],[\"Scrypt\"],[\"Scrypt\"],[\"Scrypt\"],[\"SHA-256\"],[\"Scrypt\"],[\"Scrypt\"],[\"Scrypt\"],[\"Scrypt\"],[\"HybridScryptHash256\"],[\"Scrypt\"],[\"Scrypt\"],[\"SHA-256\"],[\"Scrypt\"],[\"Scrypt\"],[\"Scrypt\"],[\"Scrypt\"],[\"SHA-256\"],[\"SHA-256\"],[\"SHA-256\"],[\"SHA-256\"],[\"SHA-256\"],[\"X11\"],[\"Scrypt\"],[\"Lyra2REv2\"],[\"Scrypt\"],[\"SHA-256\"],[\"CryptoNight\"],[\"CryptoNight\"],[\"Scrypt\"],[\"Scrypt\"],[\"Scrypt\"],[\"Scrypt\"],[\"Scrypt\"],[\"Scrypt\"],[\"Stanford Folding\"],[\"Multiple\"],[\"QuBit\"],[\"Scrypt\"],[\"Scrypt\"],[\"M7 POW\"],[\"Scrypt\"],[\"SHA-256\"],[\"Scrypt\"],[\"X11\"],[\"Lyra2RE\"],[\"SHA-256\"],[\"X11\"],[\"Scrypt\"],[\"Scrypt\"],[\"Ethash\"],[\"Blake2b\"],[\"X11\"],[\"SHA-256\"],[\"Scrypt\"],[\"1GB AES Pattern Search\"],[\"Scrypt\"],[\"SHA-256\"],[\"X11\"],[\"Dagger\"],[\"Scrypt\"],[\"X11GOST\"],[\"Scrypt\"],[\"X11\"],[\"Scrypt\"],[\"X11\"],[\"Equihash\"],[\"CryptoNight\"],[\"SHA-256\"],[\"Multiple\"],[\"Scrypt\"],[\"SHA-256\"],[\"Scrypt\"],[\"Lyra2Z\"],[\"Ethash\"],[\"Equihash\"],[\"Scrypt\"],[\"X11\"],[\"X11\"],[\"CryptoNight\"],[\"Scrypt\"],[\"CryptoNight\"],[\"Lyra2RE\"],[\"X11\"],[\"CryptoNight-V7\"],[\"Scrypt\"],[\"X11\"],[\"Equihash\"],[\"Scrypt\"],[\"Lyra2RE\"],[\"Dagger-Hashimoto\"],[\"Scrypt\"],[\"NIST5\"],[\"Scrypt\"],[\"SHA-256\"],[\"Scrypt\"],[\"CryptoNight-V7\"],[\"Argon2d\"],[\"Blake2b\"],[\"Cloverhash\"],[\"CryptoNight\"],[\"X11\"],[\"Scrypt\"],[\"Scrypt\"],[\"X11\"],[\"X11\"],[\"CryptoNight\"],[\"Time Travel\"],[\"Scrypt\"],[\"Keccak\"],[\"X11\"],[\"SHA-256\"],[\"Scrypt\"],[\"Scrypt\"],[\"Scrypt\"],[\"Scrypt\"],[\"Scrypt\"],[\"Scrypt\"],[\"CryptoNight\"],[\"Equihash\"],[\"X11\"],[\"NeoScrypt\"],[\"Equihash\"],[\"Dagger\"],[\"Scrypt\"],[\"X11\"],[\"NeoScrypt\"],[\"Ethash\"],[\"NeoScrypt\"],[\"Multiple\"],[\"CryptoNight\"],[\"CryptoNight\"],[\"Ethash\"],[\"X11\"],[\"CryptoNight-V7\"],[\"Scrypt\"],[\"BLAKE256\"],[\"X11\"],[\"NeoScrypt\"],[\"NeoScrypt\"],[\"Scrypt\"],[\"X11\"],[\"SHA-256\"],[\"C11\"],[\"CryptoNight\"],[\"SkunkHash\"],[\"CryptoNight\"],[\"Scrypt\"],[\"Dagger\"],[\"Lyra2REv2\"],[\"Scrypt\"],[\"Scrypt\"],[\"X11\"],[\"Ethash\"],[\"CryptoNight\"],[\"Scrypt\"],[\"IMesh\"],[\"Equihash\"],[\"Lyra2Z\"],[\"X11\"],[\"CryptoNight\"],[\"NIST5\"],[\"Lyra2RE\"],[\"Tribus\"],[\"Lyra2Z\"],[\"CryptoNight\"],[\"CryptoNight Heavy\"],[\"CryptoNight\"],[\"Jump Consistent Hash\"],[\"CryptoNight\"],[\"X16R\"],[\"HMQ1725\"],[\"X11\"],[\"Scrypt\"],[\"CryptoNight-V7\"],[\"Cryptonight-GPU\"],[\"XEVAN\"],[\"CryptoNight Heavy\"],[\"SHA-256\"],[\"X11\"],[\"X16R\"],[\"Equihash\"],[\"Lyra2Z\"],[\"SHA-256\"],[\"CryptoNight\"],[\"Blake\"],[\"Blake\"],[\"Exosis\"],[\"Scrypt\"],[\"Equihash\"],[\"Equihash\"],[\"QuBit\"],[\"SHA-256\"],[\"X13\"],[\"SHA-256\"],[\"Scrypt\"],[\"NeoScrypt\"],[\"Blake\"],[\"Scrypt\"],[\"SHA-256\"],[\"Scrypt\"],[\"Groestl\"],[\"Scrypt\"],[\"Scrypt\"],[\"Multiple\"],[\"Equihash+Scrypt\"],[\"Ethash\"],[\"CryptoNight\"],[\"Equihash\"]],\"hovertemplate\":\"<b>%{hovertext}</b><br><br>Class=%{marker.color}<br>PC 3=%{x}<br>PC 2=%{y}<br>PC 1=%{z}<br>Algorithm=%{customdata[0]}<extra></extra>\",\"hovertext\":[\"Bitcoin\",\"Ethereum\",\"Litecoin\",\"Monero\",\"Ethereum Classic\",\"ZCash\",\"DigiByte\",\"ProsperCoin\",\"Spreadcoin\",\"Argentum\",\"MyriadCoin\",\"MoonCoin\",\"ZetaCoin\",\"SexCoin\",\"Quatloo\",\"QuarkCoin\",\"Riecoin\",\"Digitalcoin \",\"Catcoin\",\"CannaCoin\",\"CryptCoin\",\"Verge\",\"DevCoin\",\"EarthCoin\",\"E-Gulden\",\"Einsteinium\",\"Emerald\",\"Franko\",\"FeatherCoin\",\"GrandCoin\",\"GlobalCoin\",\"GoldCoin\",\"Infinite Coin\",\"IXcoin\",\"KrugerCoin\",\"LuckyCoin\",\"Litebar \",\"MegaCoin\",\"MediterraneanCoin\",\"MinCoin\",\"NobleCoin\",\"Namecoin\",\"NyanCoin\",\"RonPaulCoin\",\"StableCoin\",\"SmartCoin\",\"SysCoin\",\"TigerCoin\",\"TerraCoin\",\"UnbreakableCoin\",\"Unobtanium\",\"UroCoin\",\"ViaCoin\",\"Vertcoin\",\"WorldCoin\",\"JouleCoin\",\"ByteCoin\",\"DigitalNote \",\"MonaCoin\",\"Gulden\",\"PesetaCoin\",\"Wild Beast Coin\",\"Flo\",\"ArtByte\",\"Folding Coin\",\"Unitus\",\"CypherPunkCoin\",\"OmniCron\",\"GreenCoin\",\"Cryptonite\",\"MasterCoin\",\"SoonCoin\",\"1Credit\",\"MarsCoin \",\"Crypto\",\"Anarchists Prime\",\"BowsCoin\",\"Song Coin\",\"BitZeny\",\"Expanse\",\"Siacoin\",\"MindCoin\",\"I0coin\",\"Revolution VR\",\"HOdlcoin\",\"Gamecredits\",\"CarpeDiemCoin\",\"Adzcoin\",\"SoilCoin\",\"YoCoin\",\"SibCoin\",\"Francs\",\"BolivarCoin\",\"Omni\",\"PizzaCoin\",\"Komodo\",\"Karbo\",\"ZayedCoin\",\"Circuits of Value\",\"DopeCoin\",\"DollarCoin\",\"Shilling\",\"ZCoin\",\"Elementrem\",\"ZClassic\",\"KiloCoin\",\"ArtexCoin\",\"Kurrent\",\"Cannabis Industry Coin\",\"OsmiumCoin\",\"Bikercoins\",\"HexxCoin\",\"PacCoin\",\"Citadel\",\"BeaverCoin\",\"VaultCoin\",\"Zero\",\"Canada eCoin\",\"Zoin\",\"DubaiCoin\",\"EB3coin\",\"Coinonat\",\"BenjiRolls\",\"ILCoin\",\"EquiTrader\",\"Quantum Resistant Ledger\",\"Dynamic\",\"Nano\",\"ChanCoin\",\"Dinastycoin\",\"DigitalPrice\",\"Unify\",\"SocialCoin\",\"ArcticCoin\",\"DAS\",\"LeviarCoin\",\"Bitcore\",\"gCn Coin\",\"SmartCash\",\"Onix\",\"Bitcoin Cash\",\"Sojourn Coin\",\"NewYorkCoin\",\"FrazCoin\",\"Kronecoin\",\"AdCoin\",\"Linx\",\"Sumokoin\",\"BitcoinZ\",\"Elements\",\"VIVO Coin\",\"Bitcoin Gold\",\"Pirl\",\"eBoost\",\"Pura\",\"Innova\",\"Ellaism\",\"GoByte\",\"SHIELD\",\"UltraNote\",\"BitCoal\",\"DaxxCoin\",\"AC3\",\"Lethean\",\"PopularCoin\",\"Photon\",\"Sucre\",\"SparksPay\",\"GunCoin\",\"IrishCoin\",\"Pioneer Coin\",\"UnitedBitcoin\",\"Interzone\",\"TurtleCoin\",\"MUNcoin\",\"Niobio Cash\",\"ShareChain\",\"Travelflex\",\"KREDS\",\"BitFlip\",\"LottoCoin\",\"Crypto Improvement Fund\",\"Callisto Network\",\"BitTube\",\"Poseidon\",\"Aidos Kuneen\",\"Bitrolium\",\"Alpenschillling\",\"FuturoCoin\",\"Monero Classic\",\"Jumpcoin\",\"Infinex\",\"KEYCO\",\"GINcoin\",\"PlatinCoin\",\"Loki\",\"Newton Coin\",\"MassGrid\",\"PluraCoin\",\"Motion\",\"PlusOneCoin\",\"Axe\",\"HexCoin\",\"Webchain\",\"Ryo\",\"Urals Coin\",\"Qwertycoin\",\"Project Pai\",\"Azart\",\"Xchange\",\"CrypticCoin\",\"Actinium\",\"Bitcoin SV\",\"FREDEnergy\",\"Universal Molecule\",\"Lithium\",\"Exosis\",\"Block-Logic\",\"Beam\",\"Bithereum\",\"SLICE\",\"BLAST\",\"Bitcoin Rhodium\",\"GlobalToken\",\"SolarCoin\",\"UFO Coin\",\"BlakeCoin\",\"Crypto Escudo\",\"Crown Coin\",\"SmileyCoin\",\"Groestlcoin\",\"Bata\",\"Pakcoin\",\"JoinCoin\",\"Vollar\",\"Reality Clash\",\"Beldex\",\"Horizen\"],\"legendgroup\":\"1\",\"marker\":{\"color\":[1,1,1,1,1,1,1,1,1,1,1,1,1,1,1,1,1,1,1,1,1,1,1,1,1,1,1,1,1,1,1,1,1,1,1,1,1,1,1,1,1,1,1,1,1,1,1,1,1,1,1,1,1,1,1,1,1,1,1,1,1,1,1,1,1,1,1,1,1,1,1,1,1,1,1,1,1,1,1,1,1,1,1,1,1,1,1,1,1,1,1,1,1,1,1,1,1,1,1,1,1,1,1,1,1,1,1,1,1,1,1,1,1,1,1,1,1,1,1,1,1,1,1,1,1,1,1,1,1,1,1,1,1,1,1,1,1,1,1,1,1,1,1,1,1,1,1,1,1,1,1,1,1,1,1,1,1,1,1,1,1,1,1,1,1,1,1,1,1,1,1,1,1,1,1,1,1,1,1,1,1,1,1,1,1,1,1,1,1,1,1,1,1,1,1,1,1,1,1,1,1,1,1,1,1,1,1,1,1,1,1,1,1,1,1,1,1,1,1,1,1,1,1,1,1,1,1,1,1,1,1,1,1,1,1,1,1,1],\"coloraxis\":\"coloraxis\",\"symbol\":\"diamond\"},\"mode\":\"markers\",\"name\":\"1\",\"scene\":\"scene\",\"showlegend\":true,\"type\":\"scatter3d\",\"x\":[0.16236607762787636,0.37981601634300766,-0.03728998929263437,0.40415388033193034,0.37981381758851357,0.48185363473998477,0.3200832321138851,-0.03728387637048792,0.0875500659899391,-0.03728484429908178,0.3211854644667824,-0.0402852596700023,0.1623499703401177,-0.03729775446605901,-0.03728464997980762,0.04884580713654442,0.21904362470461397,-0.037286804659611636,-0.03728401883048935,-0.03728371046114239,0.08755068543711604,0.31967407968383815,0.16036141616055397,-0.038619228374915014,-0.037285362374945896,-0.03730696928165987,-0.03728530963768923,-0.0372833460944837,0.17980149667445622,-0.0373810177446701,-0.03729013828167999,-0.03728779917360483,-0.046882237358820314,0.16236576730214827,-0.037300083762009516,-0.037285199092533285,-0.03728326503988908,-0.03728721858127798,0.3899814808763014,-0.037283793895054124,-0.037632614418063315,0.16236639076042922,-0.03731862807853035,-0.03728341864533578,-0.03728747701094299,-0.03728605807879834,0.1623057746716885,0.16236336101877688,0.16236542195886156,0.16236715211136254,0.16236797945075992,0.08755119806800134,-0.037285597878021194,0.17355254089379785,-0.037296959015757816,0.16236380276628407,0.3651489012924773,0.38389883306225553,-0.03729066034659405,-0.037337010321905006,-0.037297942461942575,-0.03728318450743338,-0.03729934034985858,-0.0373687412067776,0.40474829178064436,0.32136039038342207,0.22170211006601792,-0.03728416757769271,-0.03781377036850638,0.3317901664892117,-0.037283211745430124,0.16236661390199222,-0.03800241113766827,0.08754789643220945,0.3968809240841528,0.16236613358273894,0.08754959554475736,-0.03728798562124633,-0.03729252117714306,0.3798254219837523,0.4238842346714458,0.08754963425621469,0.16236577631818813,-0.03730539662405456,0.37448033078581605,-0.03729065631460881,0.1600654348311765,0.08754623285300596,0.4001063805221886,-0.03728452474030363,0.4041300232642923,-0.03728394730706082,0.0875497811310938,-0.037283211424386634,0.08755098587507004,0.9000133451265199,0.38465395787350715,0.1623673122553503,0.32125926196088567,-0.03729617652991761,0.16236702424779983,-0.03728447185191106,0.4399873040277931,0.3798238075277973,0.48185380839372,-0.03738059020993699,0.08746654279899066,0.08754351189638718,0.3846545435521687,-0.03728325506591804,0.3846536899972416,0.39688252479325764,0.08671681842631877,0.4041530455727014,-0.03728347809878156,0.08754051660493803,0.4818537112925653,-0.03729372622481199,0.3968808028924063,0.38651659491897766,-0.037320708308323035,-0.017257017275444778,-0.03728541363948244,0.16221913654857537,-0.037285050869805214,0.4041479725312786,0.3642151152493871,0.42711665970275986,0.3909354406120753,0.3844615923433957,0.08754708632153077,-0.03728507634913066,-0.0372842396081047,0.08754829175423035,0.08755091138758259,0.3846529917556213,0.3042896366681729,-0.05484845742925917,0.15947336961456068,0.08753069737413118,0.16236607091388638,-0.037365282768559514,-0.051317367458193236,-0.037284254792749605,-0.037285515676732356,-0.0372871317558672,-0.03728723674215187,0.3846532307924471,0.4811789000626973,0.08727199445289237,0.1798239817263209,0.48185267110452706,0.4001026172620562,-0.03729374061100191,0.08753138511905798,0.17982362418938574,0.37982314322079164,0.17982378067064367,0.32131434500275885,0.38209801653335707,0.3846542643815153,0.37969728542244985,0.08753913466933916,0.4041044515475854,-0.03771127027610451,0.18364244149127995,0.0875507467284661,0.1798236673485333,0.17979127142428078,-0.0372881100233162,0.08755030472119468,0.16236586443690834,0.0957408761350118,0.3716218246627371,0.3464296285791286,0.3846390331650193,-0.03834269445701591,0.40009586028135413,0.1734864397383341,-0.037284680249712356,-0.03884915418167987,0.08752667146696234,0.3797514672036721,0.3846391299549573,-0.03728370972454658,0.4123280015184657,0.4818469736071565,0.43998318554881893,0.08754741385455898,0.38465308802675796,-0.01725787843930103,0.3968820813640977,0.31494873046700256,0.43998744634804815,0.3846501046428945,0.35480041160032205,0.37916377765511483,0.4204852442570372,0.3845920206579253,0.2267966879884325,0.23761255006190662,0.08755066237128503,-0.03728345795459999,0.40414035789914604,0.4990496430528007,-0.05185729244696278,0.3435914500097987,0.16214549596896974,0.08755062885677603,0.22679591902011248,0.4813794862160622,0.439986219266909,0.16236607121565688,0.3844084074014706,0.4287018104852534,0.4287010348155138,0.34487768632666166,-0.03728754699954462,0.48184896663623744,0.48185181378236164,0.22170068443840305,0.16236236881845223,-0.08343086694331271,0.16235838403595132,-0.03805554528588694,0.17941798716528665,0.4286457690117101,-0.03736753151822588,0.16236541690156778,-0.040577325265010775,0.21904112981421278,-0.03728368104058628,-0.03729140759708824,0.3213664314236594,0.3493730070502571,0.3798239895152825,0.384547660837341,0.4818536432306604],\"y\":[-1.3304259784872083,-2.034622865585114,-1.0939732837214993,-2.20168267304048,-2.034725766818207,-1.974650402033111,-1.7968653913276915,-1.0939621165623117,-0.9833006108268882,-1.093981316294834,-1.7908189683885702,-1.2857957279150012,-1.3304463211550543,-1.094032848245858,-1.0940010204749302,-0.4028146370134542,-1.237086422284486,-1.0939658755974955,-1.0939616018424922,-1.0939585672172567,-0.98330179326942,-1.793040859524315,-1.3342564370943346,-1.0962520774413147,-1.0939567475047567,-1.0940258365929494,-1.0939627442425293,-1.093958878606215,-1.6878456287719512,-1.0943499007528048,-1.0939653557106492,-1.0939749924632756,-1.107093278896434,-1.330424857254551,-1.0940325719562243,-1.093956809621889,-1.0939539533772915,-1.0939611254286516,-2.1957220726218316,-1.0939566083592234,-1.1006085493136533,-1.3304271098611131,-1.0940033518636108,-1.093963770361312,-1.0940699815449846,-1.0939701745097807,-1.3306657325262061,-1.3304298932004914,-1.3304346940521419,-1.3304610029968553,-1.3304218973386284,-0.9832941444031873,-1.093956952284161,-1.2793133423783527,-1.0940438619240176,-1.330430427282215,-2.3257475736411966,-2.3014024754694073,-1.093982007039665,-1.0946458187562782,-1.093988034539424,-1.0939549189218822,-1.0939796130949044,-1.0941722440964683,-2.3212616023836645,-1.7903953186785697,-1.5988089784305193,-1.0939517593672399,-1.0973148388686484,-2.1841936836546783,-1.0939537603389426,-1.3304279160901178,-1.1399157988236226,-0.9832996338998373,-2.197599907869706,-1.3304434725572116,-0.9832994389051537,-1.0940471571427217,-1.0940517565534633,-2.0346657727478767,-2.2008072254892923,-0.9832969395939186,-1.330424889830252,-1.09398412306258,-2.244584291628196,-1.0939708737156923,-1.3335176049610022,-0.9833205428752307,-2.253608793457063,-1.0940375512380502,-2.145859639042054,-1.093961332426792,-0.9833022207871625,-1.0939537598995563,-0.9833065736272317,-1.14549142001879,-2.2988577246084874,-1.3304244937564846,-1.7906633362339743,-1.094012157670756,-1.3304239294264555,-1.0939647155605652,-2.1906139330700065,-2.034664848004349,-1.974651029458483,-1.0988799547676857,-0.9832521957782424,-0.9833867201865895,-2.2988656469078297,-1.093954709533055,-2.2988646742861256,-2.1975762438805173,-1.0330630403754169,-2.2017773066070654,-1.0939542445277495,-0.9837833871791156,-1.9746485672807863,-1.093968227247727,-2.197575828703904,-2.280899076108309,-1.0959292983168762,-0.6819943671338823,-1.0939642266685226,-1.3312035730824003,-1.093984792623964,-2.201716750423819,-2.2180139633094345,-2.212665858870568,-2.2070437398632152,-2.2992130851883363,-0.9833320719005415,-1.0939568713731571,-1.0939893072872509,-0.9833153137974521,-0.9833030846994368,-2.2988774587190357,-2.205643471465882,-1.1360558993468253,-1.2771626292575433,-0.9838006930614179,-1.3304259542289827,-1.0991991797197025,-1.0432468628887952,-1.0939602214554551,-1.093989447267395,-1.0939920536118553,-1.0939916742876872,-2.2988967379826812,-1.9832859966153573,-0.9832354629679569,-1.6877637678733644,-1.9746469203381496,-2.253661865699532,-1.0939681752692278,-0.9834073010989746,-1.687771977106923,-2.0347964096076017,-1.687765575054289,-1.790577324514006,-2.3344836599488077,-2.2988601516368563,-2.0394722387989455,-0.9835408680257948,-2.202031644851301,-1.0950460012704335,-1.1933781859633728,-0.9833029648245805,-1.6877594649855647,-1.687895249163062,-1.093969516961877,-0.9833030568901149,-1.3304247679954595,-1.2568462487475753,-2.7796020556561967,-2.2117232163433997,-2.2989758748641838,-1.0954037921968798,-2.2536077314582204,-1.279610794574318,-1.0939692409598896,-1.0980114159776326,-0.9834694456507691,-2.0378205768129547,-2.2993267075383854,-1.0939627186679421,-2.119184064136782,-1.974652198760511,-2.1907461077142405,-0.9833332553045823,-2.29885901560055,-0.6819768710963982,-2.1975832349013023,-2.259219467527641,-2.190608693874807,-2.2991552259553,-2.2982234961845647,-2.376137754265738,-2.2139720639187432,-2.299156497734638,-1.248722514014671,-2.265950313892807,-0.9833032934380241,-1.0939642117310435,-2.202557527998794,-2.202479072675364,-0.7615823653987552,-2.355015279471184,-1.3307263692349145,-0.9833052836904764,-1.2487608669026486,-1.9769377314739751,-2.190643056259229,-1.3304259553193052,-2.302230165173993,-2.2222717369307015,-2.2222267649361207,-2.285330261005676,-1.0940011100177396,-1.9747611664803333,-1.9746490409465565,-1.598856611098447,-1.330435275189572,-0.35869416354495154,-1.330475772761453,-1.1429436190469473,-1.6883939673876571,-2.225708618857568,-1.0941766148016991,-1.3304346757797194,-1.10844331702051,-1.237088492589782,-1.0939543769328444,-1.0940198871770364,-1.7904186233990125,-2.309803017223117,-2.0346645989321397,-2.299207473834966,-1.9746504327106278],\"z\":[-0.13869184513783053,-0.14776589748161995,-0.16587613760252834,-0.14874027615150526,-0.14620854275874534,-0.17930469213022138,0.16485579535264597,-0.16702141179234928,-0.2320772244183497,-0.16663815265836052,-0.08836455251371943,2.5538567378988306,-0.13577930018548628,-0.16389566937647826,-0.16644220713707358,-0.21886664585540075,-0.1995730941919974,-0.1664912101946246,-0.16700369818585506,-0.16709009788469398,-0.23216647523182565,0.18855303717979927,0.23883715244891493,0.08142933732556253,-0.16683664064270737,-0.16244545506858651,-0.16677594301554693,-0.16714704594422047,-0.1671854335769933,-0.14638542102988075,-0.16594320947407412,-0.16622032588633506,1.5802560006147428,-0.1386532589529418,-0.16351175838428203,-0.16686305742009047,-0.16721756712901678,-0.16647744229608138,-0.17359974809923187,-0.16709892188879824,-0.03207600206156524,-0.13873078032423156,-0.16076829925051456,-0.16707832575527135,-0.16517357751945883,-0.1665654905749735,-0.12589280171427208,-0.13819501988580424,-0.1384819226953599,-0.13846471589186704,-0.1390551869639217,-0.23234026990219714,-0.1667951297890545,-0.19510101890650003,-0.1639002921832158,-0.1382622485337305,3.8660620431275663,0.4679682233985129,-0.1656635684914716,-0.15027140710607734,-0.16438351759000192,-0.1672197667968189,-0.16424874753105526,-0.15048354335117867,-0.13661049569629763,-0.12234318703850554,-0.18567873737550047,-0.1670929861124048,-0.040121372213912855,-0.10968474010570312,-0.16722866029029493,-0.13875852594971014,0.4846900397261332,-0.2317279764191502,-0.15493540196912203,-0.13849850492073065,-0.2320126147421154,-0.1653534327981301,-0.16454638129347568,-0.14883203614194598,0.3857993881032254,-0.23204799862629416,-0.13865438001558703,-0.16319000021113197,-0.12392428617669009,-0.16579319948167678,0.2794688752238154,-0.2312093067078412,-0.14794440319839172,-0.16603987330917244,-0.14250604212403262,-0.1670187055674513,-0.23201123434345222,-0.16722871873479542,-0.23216103330827895,-0.39013418235971514,0.3129955240484785,-0.13891422898959643,-0.10243187484111659,-0.16439757605809105,-0.138872901133943,-0.1668923422498381,-0.15636676650222028,-0.14857443739462925,-0.17932628439407033,-0.09398338822494176,-0.21875710991522113,-0.2299905510518848,0.31298995525525836,-0.1672104659298447,0.3131205434264624,-0.155475535365127,0.4828165809442517,-0.14750537417594756,-0.16717878586455362,-0.22489803379076262,-0.17933866712091454,-0.16531365855498464,-0.15519417761082402,-0.1568142529215228,-0.13811371799942299,-0.18656660523639032,-0.16674148728381705,-0.10526422014363478,-0.1665635547201784,-0.1473637150385548,-0.1590279405276011,-0.014042770393583105,-0.1383104064753597,0.34908147508620413,-0.23121760227061824,-0.1668827411589765,-0.1666460854601951,-0.23161205060199422,-0.23218906743499046,0.31338467213066856,-0.14813641663576657,3.239664871741545,-0.12402356922773936,-0.22306569235113832,-0.1386910103133655,-0.09282968282151242,1.577787273747223,-0.16698047251648607,-0.16643239108390773,-0.16613362083826025,-0.16612056674786457,0.31356826398843474,0.03285999538439416,-0.18661846989054565,-0.1718705002488123,-0.17918487281853634,-0.1467042248590141,-0.16531186976301543,-0.2277367771214756,-0.17171599010162641,-0.14694011385432035,-0.1718161531549069,-0.11258256086364822,1.1504403869732285,0.31297269779633907,-0.07186185400879105,-0.2274775446212763,-0.13648333283074923,-0.08343679345642874,1.0911170725428114,-0.23216309088634793,-0.1718680947874586,-0.16491130535061407,-0.16623208952845137,-0.23208856620064836,-0.13867043593134712,-0.18912397203999906,8.047454964673266,-0.15277714077175394,0.3168444703144721,0.025645531371912576,-0.1462083203301298,-0.18067002220286005,-0.16680528894460964,0.14002025417564967,-0.22623356333290057,-0.09999819248530052,0.3208921932844728,-0.1670421327007009,-0.16305836660320466,-0.17817685022955554,-0.15415128469023104,-0.23125832802609647,0.3131550399699869,-0.18662614860634522,-0.15532086153466212,-0.1434502987155502,-0.15645110634895598,0.31708195644307247,0.5793566199956215,2.12058155727924,-0.15126792040537218,0.3267498062448566,-0.19795977400036519,-0.13185601136469394,-0.2321452649255969,-0.1670666803244657,-0.13635922133487471,-0.17900831141727597,-0.14442430376016677,3.100038795790717,-0.098553320610153,-0.23211664132796322,-0.19738772334131902,-0.07400991944942557,-0.15584914410695216,-0.1386910478358162,0.39286822624498435,-0.13538005303207382,-0.13577206780478698,-0.14193596784465787,-0.16595970719563613,-0.1772458681043386,-0.17901782867262403,-0.1848900642124048,-0.13796778238066876,-0.10468655704981521,-0.1368364451918551,0.5285927570141343,-0.09709747374127657,-0.08625586582633685,-0.150633957129004,-0.13848129386685057,0.5480652942696456,-0.19913448128571437,-0.16714352478251704,-0.16510060319425948,-0.12307721603043165,-0.12783378445613813,-0.14860756742051506,0.3347125451549269,-0.17930574786861048]},{\"customdata\":[[\"Proof-of-BibleHash\"],[\"SHA-256 + Hive\"],[\"Proof-of-Authority\"],[\"ECC 256K1\"],[\"Leased POS\"]],\"hovertemplate\":\"<b>%{hovertext}</b><br><br>Class=%{marker.color}<br>PC 3=%{x}<br>PC 2=%{y}<br>PC 1=%{z}<br>Algorithm=%{customdata[0]}<extra></extra>\",\"hovertext\":[\"BiblePay\",\"LitecoinCash\",\"Poa Network\",\"Acute Angle Cloud\",\"Waves\"],\"legendgroup\":\"3\",\"marker\":{\"color\":[3,3,3,3,3],\"coloraxis\":\"coloraxis\",\"symbol\":\"square\"},\"mode\":\"markers\",\"name\":\"3\",\"scene\":\"scene\",\"showlegend\":true,\"type\":\"scatter3d\",\"x\":[7.321696167105541,11.875937607693157,15.550072242839203,13.273507553610267,19.66811509394789],\"y\":[4.153691500700592,0.8044615673455995,3.182181898599194,3.7454535105232334,3.4509575710466684],\"z\":[-0.20429955433840982,-0.33094142624999345,-0.38106719677718415,-0.3437850335449382,-0.42341662112193146]},{\"customdata\":[[\"TRC10\"]],\"hovertemplate\":\"<b>%{hovertext}</b><br><br>Class=%{marker.color}<br>PC 3=%{x}<br>PC 2=%{y}<br>PC 1=%{z}<br>Algorithm=%{customdata[0]}<extra></extra>\",\"hovertext\":[\"BitTorrent\"],\"legendgroup\":\"2\",\"marker\":{\"color\":[2],\"coloraxis\":\"coloraxis\",\"symbol\":\"x\"},\"mode\":\"markers\",\"name\":\"2\",\"scene\":\"scene\",\"showlegend\":true,\"type\":\"scatter3d\",\"x\":[-0.1819104085100169],\"y\":[1.6164910749014192],\"z\":[34.032270393826465]}],                        {\"coloraxis\":{\"colorbar\":{\"title\":{\"text\":\"Class\"}},\"colorscale\":[[0.0,\"#0d0887\"],[0.1111111111111111,\"#46039f\"],[0.2222222222222222,\"#7201a8\"],[0.3333333333333333,\"#9c179e\"],[0.4444444444444444,\"#bd3786\"],[0.5555555555555556,\"#d8576b\"],[0.6666666666666666,\"#ed7953\"],[0.7777777777777778,\"#fb9f3a\"],[0.8888888888888888,\"#fdca26\"],[1.0,\"#f0f921\"]]},\"legend\":{\"title\":{\"text\":\"Class\"},\"tracegroupgap\":0,\"x\":0,\"y\":1},\"margin\":{\"t\":60},\"scene\":{\"domain\":{\"x\":[0.0,1.0],\"y\":[0.0,1.0]},\"xaxis\":{\"title\":{\"text\":\"PC 3\"}},\"yaxis\":{\"title\":{\"text\":\"PC 2\"}},\"zaxis\":{\"title\":{\"text\":\"PC 1\"}}},\"template\":{\"data\":{\"bar\":[{\"error_x\":{\"color\":\"#2a3f5f\"},\"error_y\":{\"color\":\"#2a3f5f\"},\"marker\":{\"line\":{\"color\":\"#E5ECF6\",\"width\":0.5},\"pattern\":{\"fillmode\":\"overlay\",\"size\":10,\"solidity\":0.2}},\"type\":\"bar\"}],\"barpolar\":[{\"marker\":{\"line\":{\"color\":\"#E5ECF6\",\"width\":0.5},\"pattern\":{\"fillmode\":\"overlay\",\"size\":10,\"solidity\":0.2}},\"type\":\"barpolar\"}],\"carpet\":[{\"aaxis\":{\"endlinecolor\":\"#2a3f5f\",\"gridcolor\":\"white\",\"linecolor\":\"white\",\"minorgridcolor\":\"white\",\"startlinecolor\":\"#2a3f5f\"},\"baxis\":{\"endlinecolor\":\"#2a3f5f\",\"gridcolor\":\"white\",\"linecolor\":\"white\",\"minorgridcolor\":\"white\",\"startlinecolor\":\"#2a3f5f\"},\"type\":\"carpet\"}],\"choropleth\":[{\"colorbar\":{\"outlinewidth\":0,\"ticks\":\"\"},\"type\":\"choropleth\"}],\"contour\":[{\"colorbar\":{\"outlinewidth\":0,\"ticks\":\"\"},\"colorscale\":[[0.0,\"#0d0887\"],[0.1111111111111111,\"#46039f\"],[0.2222222222222222,\"#7201a8\"],[0.3333333333333333,\"#9c179e\"],[0.4444444444444444,\"#bd3786\"],[0.5555555555555556,\"#d8576b\"],[0.6666666666666666,\"#ed7953\"],[0.7777777777777778,\"#fb9f3a\"],[0.8888888888888888,\"#fdca26\"],[1.0,\"#f0f921\"]],\"type\":\"contour\"}],\"contourcarpet\":[{\"colorbar\":{\"outlinewidth\":0,\"ticks\":\"\"},\"type\":\"contourcarpet\"}],\"heatmap\":[{\"colorbar\":{\"outlinewidth\":0,\"ticks\":\"\"},\"colorscale\":[[0.0,\"#0d0887\"],[0.1111111111111111,\"#46039f\"],[0.2222222222222222,\"#7201a8\"],[0.3333333333333333,\"#9c179e\"],[0.4444444444444444,\"#bd3786\"],[0.5555555555555556,\"#d8576b\"],[0.6666666666666666,\"#ed7953\"],[0.7777777777777778,\"#fb9f3a\"],[0.8888888888888888,\"#fdca26\"],[1.0,\"#f0f921\"]],\"type\":\"heatmap\"}],\"heatmapgl\":[{\"colorbar\":{\"outlinewidth\":0,\"ticks\":\"\"},\"colorscale\":[[0.0,\"#0d0887\"],[0.1111111111111111,\"#46039f\"],[0.2222222222222222,\"#7201a8\"],[0.3333333333333333,\"#9c179e\"],[0.4444444444444444,\"#bd3786\"],[0.5555555555555556,\"#d8576b\"],[0.6666666666666666,\"#ed7953\"],[0.7777777777777778,\"#fb9f3a\"],[0.8888888888888888,\"#fdca26\"],[1.0,\"#f0f921\"]],\"type\":\"heatmapgl\"}],\"histogram\":[{\"marker\":{\"pattern\":{\"fillmode\":\"overlay\",\"size\":10,\"solidity\":0.2}},\"type\":\"histogram\"}],\"histogram2d\":[{\"colorbar\":{\"outlinewidth\":0,\"ticks\":\"\"},\"colorscale\":[[0.0,\"#0d0887\"],[0.1111111111111111,\"#46039f\"],[0.2222222222222222,\"#7201a8\"],[0.3333333333333333,\"#9c179e\"],[0.4444444444444444,\"#bd3786\"],[0.5555555555555556,\"#d8576b\"],[0.6666666666666666,\"#ed7953\"],[0.7777777777777778,\"#fb9f3a\"],[0.8888888888888888,\"#fdca26\"],[1.0,\"#f0f921\"]],\"type\":\"histogram2d\"}],\"histogram2dcontour\":[{\"colorbar\":{\"outlinewidth\":0,\"ticks\":\"\"},\"colorscale\":[[0.0,\"#0d0887\"],[0.1111111111111111,\"#46039f\"],[0.2222222222222222,\"#7201a8\"],[0.3333333333333333,\"#9c179e\"],[0.4444444444444444,\"#bd3786\"],[0.5555555555555556,\"#d8576b\"],[0.6666666666666666,\"#ed7953\"],[0.7777777777777778,\"#fb9f3a\"],[0.8888888888888888,\"#fdca26\"],[1.0,\"#f0f921\"]],\"type\":\"histogram2dcontour\"}],\"mesh3d\":[{\"colorbar\":{\"outlinewidth\":0,\"ticks\":\"\"},\"type\":\"mesh3d\"}],\"parcoords\":[{\"line\":{\"colorbar\":{\"outlinewidth\":0,\"ticks\":\"\"}},\"type\":\"parcoords\"}],\"pie\":[{\"automargin\":true,\"type\":\"pie\"}],\"scatter\":[{\"marker\":{\"colorbar\":{\"outlinewidth\":0,\"ticks\":\"\"}},\"type\":\"scatter\"}],\"scatter3d\":[{\"line\":{\"colorbar\":{\"outlinewidth\":0,\"ticks\":\"\"}},\"marker\":{\"colorbar\":{\"outlinewidth\":0,\"ticks\":\"\"}},\"type\":\"scatter3d\"}],\"scattercarpet\":[{\"marker\":{\"colorbar\":{\"outlinewidth\":0,\"ticks\":\"\"}},\"type\":\"scattercarpet\"}],\"scattergeo\":[{\"marker\":{\"colorbar\":{\"outlinewidth\":0,\"ticks\":\"\"}},\"type\":\"scattergeo\"}],\"scattergl\":[{\"marker\":{\"colorbar\":{\"outlinewidth\":0,\"ticks\":\"\"}},\"type\":\"scattergl\"}],\"scattermapbox\":[{\"marker\":{\"colorbar\":{\"outlinewidth\":0,\"ticks\":\"\"}},\"type\":\"scattermapbox\"}],\"scatterpolar\":[{\"marker\":{\"colorbar\":{\"outlinewidth\":0,\"ticks\":\"\"}},\"type\":\"scatterpolar\"}],\"scatterpolargl\":[{\"marker\":{\"colorbar\":{\"outlinewidth\":0,\"ticks\":\"\"}},\"type\":\"scatterpolargl\"}],\"scatterternary\":[{\"marker\":{\"colorbar\":{\"outlinewidth\":0,\"ticks\":\"\"}},\"type\":\"scatterternary\"}],\"surface\":[{\"colorbar\":{\"outlinewidth\":0,\"ticks\":\"\"},\"colorscale\":[[0.0,\"#0d0887\"],[0.1111111111111111,\"#46039f\"],[0.2222222222222222,\"#7201a8\"],[0.3333333333333333,\"#9c179e\"],[0.4444444444444444,\"#bd3786\"],[0.5555555555555556,\"#d8576b\"],[0.6666666666666666,\"#ed7953\"],[0.7777777777777778,\"#fb9f3a\"],[0.8888888888888888,\"#fdca26\"],[1.0,\"#f0f921\"]],\"type\":\"surface\"}],\"table\":[{\"cells\":{\"fill\":{\"color\":\"#EBF0F8\"},\"line\":{\"color\":\"white\"}},\"header\":{\"fill\":{\"color\":\"#C8D4E3\"},\"line\":{\"color\":\"white\"}},\"type\":\"table\"}]},\"layout\":{\"annotationdefaults\":{\"arrowcolor\":\"#2a3f5f\",\"arrowhead\":0,\"arrowwidth\":1},\"autotypenumbers\":\"strict\",\"coloraxis\":{\"colorbar\":{\"outlinewidth\":0,\"ticks\":\"\"}},\"colorscale\":{\"diverging\":[[0,\"#8e0152\"],[0.1,\"#c51b7d\"],[0.2,\"#de77ae\"],[0.3,\"#f1b6da\"],[0.4,\"#fde0ef\"],[0.5,\"#f7f7f7\"],[0.6,\"#e6f5d0\"],[0.7,\"#b8e186\"],[0.8,\"#7fbc41\"],[0.9,\"#4d9221\"],[1,\"#276419\"]],\"sequential\":[[0.0,\"#0d0887\"],[0.1111111111111111,\"#46039f\"],[0.2222222222222222,\"#7201a8\"],[0.3333333333333333,\"#9c179e\"],[0.4444444444444444,\"#bd3786\"],[0.5555555555555556,\"#d8576b\"],[0.6666666666666666,\"#ed7953\"],[0.7777777777777778,\"#fb9f3a\"],[0.8888888888888888,\"#fdca26\"],[1.0,\"#f0f921\"]],\"sequentialminus\":[[0.0,\"#0d0887\"],[0.1111111111111111,\"#46039f\"],[0.2222222222222222,\"#7201a8\"],[0.3333333333333333,\"#9c179e\"],[0.4444444444444444,\"#bd3786\"],[0.5555555555555556,\"#d8576b\"],[0.6666666666666666,\"#ed7953\"],[0.7777777777777778,\"#fb9f3a\"],[0.8888888888888888,\"#fdca26\"],[1.0,\"#f0f921\"]]},\"colorway\":[\"#636efa\",\"#EF553B\",\"#00cc96\",\"#ab63fa\",\"#FFA15A\",\"#19d3f3\",\"#FF6692\",\"#B6E880\",\"#FF97FF\",\"#FECB52\"],\"font\":{\"color\":\"#2a3f5f\"},\"geo\":{\"bgcolor\":\"white\",\"lakecolor\":\"white\",\"landcolor\":\"#E5ECF6\",\"showlakes\":true,\"showland\":true,\"subunitcolor\":\"white\"},\"hoverlabel\":{\"align\":\"left\"},\"hovermode\":\"closest\",\"mapbox\":{\"style\":\"light\"},\"paper_bgcolor\":\"white\",\"plot_bgcolor\":\"#E5ECF6\",\"polar\":{\"angularaxis\":{\"gridcolor\":\"white\",\"linecolor\":\"white\",\"ticks\":\"\"},\"bgcolor\":\"#E5ECF6\",\"radialaxis\":{\"gridcolor\":\"white\",\"linecolor\":\"white\",\"ticks\":\"\"}},\"scene\":{\"xaxis\":{\"backgroundcolor\":\"#E5ECF6\",\"gridcolor\":\"white\",\"gridwidth\":2,\"linecolor\":\"white\",\"showbackground\":true,\"ticks\":\"\",\"zerolinecolor\":\"white\"},\"yaxis\":{\"backgroundcolor\":\"#E5ECF6\",\"gridcolor\":\"white\",\"gridwidth\":2,\"linecolor\":\"white\",\"showbackground\":true,\"ticks\":\"\",\"zerolinecolor\":\"white\"},\"zaxis\":{\"backgroundcolor\":\"#E5ECF6\",\"gridcolor\":\"white\",\"gridwidth\":2,\"linecolor\":\"white\",\"showbackground\":true,\"ticks\":\"\",\"zerolinecolor\":\"white\"}},\"shapedefaults\":{\"line\":{\"color\":\"#2a3f5f\"}},\"ternary\":{\"aaxis\":{\"gridcolor\":\"white\",\"linecolor\":\"white\",\"ticks\":\"\"},\"baxis\":{\"gridcolor\":\"white\",\"linecolor\":\"white\",\"ticks\":\"\"},\"bgcolor\":\"#E5ECF6\",\"caxis\":{\"gridcolor\":\"white\",\"linecolor\":\"white\",\"ticks\":\"\"}},\"title\":{\"x\":0.05},\"xaxis\":{\"automargin\":true,\"gridcolor\":\"white\",\"linecolor\":\"white\",\"ticks\":\"\",\"title\":{\"standoff\":15},\"zerolinecolor\":\"white\",\"zerolinewidth\":2},\"yaxis\":{\"automargin\":true,\"gridcolor\":\"white\",\"linecolor\":\"white\",\"ticks\":\"\",\"title\":{\"standoff\":15},\"zerolinecolor\":\"white\",\"zerolinewidth\":2}}},\"width\":800},                        {\"responsive\": true}                    ).then(function(){\n",
       "                            \n",
       "var gd = document.getElementById('ac7cd97c-1e57-4626-9e3a-9e3dbafabad2');\n",
       "var x = new MutationObserver(function (mutations, observer) {{\n",
       "        var display = window.getComputedStyle(gd).display;\n",
       "        if (!display || display === 'none') {{\n",
       "            console.log([gd, 'removed!']);\n",
       "            Plotly.purge(gd);\n",
       "            observer.disconnect();\n",
       "        }}\n",
       "}});\n",
       "\n",
       "// Listen for the removal of the full notebook cells\n",
       "var notebookContainer = gd.closest('#notebook-container');\n",
       "if (notebookContainer) {{\n",
       "    x.observe(notebookContainer, {childList: true});\n",
       "}}\n",
       "\n",
       "// Listen for the clearing of the current output cell\n",
       "var outputEl = gd.closest('.output');\n",
       "if (outputEl) {{\n",
       "    x.observe(outputEl, {childList: true});\n",
       "}}\n",
       "\n",
       "                        })                };                });            </script>        </div>"
      ]
     },
     "metadata": {},
     "output_type": "display_data"
    }
   ],
   "source": [
    "#Create a 3D-Scatter with the PCA data and the clusters\n",
    "fig = px.scatter_3d(\n",
    "    clustered_df,\n",
    "    x=\"PC 3\",\n",
    "    y=\"PC 2\",\n",
    "    z=\"PC 1\",\n",
    "    color=\"Class\",\n",
    "    symbol=\"Class\",\n",
    "    width=800,\n",
    "    hover_name=\"CoinName\",\n",
    "    hover_data=[\"Algorithm\"]\n",
    ")\n",
    "fig.update_layout(legend=dict(x=0, y=1))\n",
    "fig.show()"
   ]
  },
  {
   "cell_type": "markdown",
   "metadata": {},
   "source": [
    "#### Table of Tradable Cryptocurrencies"
   ]
  },
  {
   "cell_type": "code",
   "execution_count": 45,
   "metadata": {},
   "outputs": [
    {
     "data": {},
     "metadata": {},
     "output_type": "display_data"
    },
    {
     "data": {
      "application/vnd.holoviews_exec.v0+json": "",
      "text/html": [
       "<div id='1654'>\n",
       "\n",
       "\n",
       "\n",
       "\n",
       "\n",
       "  <div class=\"bk-root\" id=\"b550b024-acb2-463b-9645-69a7bb959b81\" data-root-id=\"1654\"></div>\n",
       "</div>\n",
       "<script type=\"application/javascript\">(function(root) {\n",
       "  function embed_document(root) {\n",
       "    var docs_json = {\"7c2e9802-09a2-4a0b-a7f7-c7f47f63b603\":{\"defs\":[{\"extends\":null,\"module\":null,\"name\":\"ReactiveHTML1\",\"overrides\":[],\"properties\":[]},{\"extends\":null,\"module\":null,\"name\":\"FlexBox1\",\"overrides\":[],\"properties\":[{\"default\":\"flex-start\",\"kind\":null,\"name\":\"align_content\"},{\"default\":\"flex-start\",\"kind\":null,\"name\":\"align_items\"},{\"default\":\"row\",\"kind\":null,\"name\":\"flex_direction\"},{\"default\":\"wrap\",\"kind\":null,\"name\":\"flex_wrap\"},{\"default\":\"flex-start\",\"kind\":null,\"name\":\"justify_content\"}]},{\"extends\":null,\"module\":null,\"name\":\"TemplateActions1\",\"overrides\":[],\"properties\":[{\"default\":0,\"kind\":null,\"name\":\"open_modal\"},{\"default\":0,\"kind\":null,\"name\":\"close_modal\"}]},{\"extends\":null,\"module\":null,\"name\":\"MaterialTemplateActions1\",\"overrides\":[],\"properties\":[{\"default\":0,\"kind\":null,\"name\":\"open_modal\"},{\"default\":0,\"kind\":null,\"name\":\"close_modal\"}]}],\"roots\":{\"references\":[{\"attributes\":{\"margin\":[5,5,5,5],\"name\":\"HSpacer02882\",\"sizing_mode\":\"stretch_width\"},\"id\":\"1655\",\"type\":\"Spacer\"},{\"attributes\":{\"format\":\"0,0.0[00000]\"},\"id\":\"1678\",\"type\":\"NumberFormatter\"},{\"attributes\":{\"children\":[{\"id\":\"1655\"},{\"id\":\"1688\"},{\"id\":\"1695\"}],\"margin\":[0,0,0,0],\"name\":\"Row02878\",\"tags\":[\"embedded\"]},\"id\":\"1654\",\"type\":\"Row\"},{\"attributes\":{},\"id\":\"1663\",\"type\":\"StringFormatter\"},{\"attributes\":{},\"id\":\"1692\",\"type\":\"UnionRenderers\"},{\"attributes\":{},\"id\":\"1664\",\"type\":\"StringEditor\"},{\"attributes\":{\"editor\":{\"id\":\"1679\"},\"field\":\"TotalCoinsMined\",\"formatter\":{\"id\":\"1678\"},\"title\":\"TotalCoinsMined\"},\"id\":\"1680\",\"type\":\"TableColumn\"},{\"attributes\":{\"data\":{\"Algorithm\":[\"Scrypt\",\"Scrypt\",\"X13\",\"SHA-256\",\"Ethash\",\"Scrypt\",\"X11\",\"CryptoNight-V7\",\"Ethash\",\"Equihash\",\"SHA-512\",\"Multiple\",\"SHA-256\",\"SHA-256\",\"Scrypt\",\"X15\",\"X11\",\"Scrypt\",\"Scrypt\",\"Scrypt\",\"Multiple\",\"Scrypt\",\"SHA-256\",\"Scrypt\",\"Scrypt\",\"Scrypt\",\"Quark\",\"Groestl\",\"Scrypt\",\"Scrypt\",\"Scrypt\",\"Scrypt\",\"Scrypt\",\"X11\",\"Scrypt\",\"Groestl\",\"Multiple\",\"SHA-256\",\"Scrypt\",\"Scrypt\",\"Scrypt\",\"Scrypt\",\"PoS\",\"Scrypt\",\"Scrypt\",\"NeoScrypt\",\"Scrypt\",\"Scrypt\",\"Scrypt\",\"Scrypt\",\"X11\",\"Scrypt\",\"X11\",\"SHA-256\",\"Scrypt\",\"Scrypt\",\"Scrypt\",\"SHA3\",\"Scrypt\",\"HybridScryptHash256\",\"Scrypt\",\"Scrypt\",\"SHA-256\",\"Scrypt\",\"X13\",\"Scrypt\",\"SHA-256\",\"Scrypt\",\"X13\",\"NeoScrypt\",\"Scrypt\",\"Scrypt\",\"Scrypt\",\"Scrypt\",\"Scrypt\",\"Scrypt\",\"X11\",\"X11\",\"SHA-256\",\"Multiple\",\"SHA-256\",\"PHI1612\",\"X11\",\"SHA-256\",\"SHA-256\",\"SHA-256\",\"X11\",\"Scrypt\",\"Scrypt\",\"Scrypt\",\"Scrypt\",\"Lyra2REv2\",\"Scrypt\",\"X11\",\"Multiple\",\"SHA-256\",\"X13\",\"Scrypt\",\"CryptoNight\",\"CryptoNight\",\"Shabal256\",\"Counterparty\",\"Scrypt\",\"SHA-256\",\"Groestl\",\"Scrypt\",\"Scrypt\",\"Scrypt\",\"X13\",\"Scrypt\",\"Scrypt\",\"Scrypt\",\"Scrypt\",\"X13\",\"Scrypt\",\"Stanford Folding\",\"X11\",\"Multiple\",\"QuBit\",\"Scrypt\",\"Scrypt\",\"Scrypt\",\"M7 POW\",\"Scrypt\",\"SHA-256\",\"Scrypt\",\"X11\",\"SHA3\",\"X11\",\"Lyra2RE\",\"SHA-256\",\"QUAIT\",\"X11\",\"X11\",\"Scrypt\",\"Scrypt\",\"Scrypt\",\"Ethash\",\"X13\",\"Blake2b\",\"SHA-256\",\"X15\",\"X11\",\"SHA-256\",\"BLAKE256\",\"Scrypt\",\"1GB AES Pattern Search\",\"SHA-256\",\"X11\",\"Scrypt\",\"SHA-256\",\"SHA-256\",\"NIST5\",\"Scrypt\",\"Scrypt\",\"X11\",\"Dagger\",\"Scrypt\",\"X11GOST\",\"X11\",\"Scrypt\",\"SHA-256\",\"Scrypt\",\"PoS\",\"Scrypt\",\"X11\",\"X11\",\"SHA-256\",\"SHA-256\",\"NIST5\",\"X11\",\"Scrypt\",\"POS 3.0\",\"Scrypt\",\"Scrypt\",\"Scrypt\",\"X13\",\"X11\",\"X11\",\"Equihash\",\"X11\",\"Scrypt\",\"CryptoNight\",\"SHA-256\",\"SHA-256\",\"X11\",\"Scrypt\",\"Multiple\",\"Scrypt\",\"Scrypt\",\"Scrypt\",\"SHA-256\",\"Scrypt\",\"Scrypt\",\"SHA-256D\",\"PoS\",\"Scrypt\",\"X11\",\"Lyra2Z\",\"PoS\",\"X13\",\"X14\",\"PoS\",\"SHA-256D\",\"Ethash\",\"Equihash\",\"DPoS\",\"X11\",\"Scrypt\",\"X11\",\"X13\",\"X11\",\"PoS\",\"Scrypt\",\"Scrypt\",\"X11\",\"PoS\",\"X11\",\"SHA-256\",\"Scrypt\",\"X11\",\"Scrypt\",\"Scrypt\",\"X11\",\"CryptoNight\",\"Scrypt\",\"Scrypt\",\"Scrypt\",\"Scrypt\",\"Quark\",\"QuBit\",\"Scrypt\",\"CryptoNight\",\"Lyra2RE\",\"Scrypt\",\"SHA-256\",\"X11\",\"Scrypt\",\"X11\",\"Scrypt\",\"CryptoNight-V7\",\"Scrypt\",\"Scrypt\",\"Scrypt\",\"X13\",\"X11\",\"Equihash\",\"Scrypt\",\"Scrypt\",\"Lyra2RE\",\"Scrypt\",\"Dagger-Hashimoto\",\"X11\",\"Blake2S\",\"X11\",\"Scrypt\",\"PoS\",\"X11\",\"NIST5\",\"PoS\",\"X11\",\"Scrypt\",\"Scrypt\",\"Scrypt\",\"SHA-256\",\"X11\",\"Scrypt\",\"Scrypt\",\"SHA-256\",\"PoS\",\"Scrypt\",\"X15\",\"SHA-256\",\"Scrypt\",\"POS 3.0\",\"CryptoNight-V7\",\"536\",\"Argon2d\",\"Blake2b\",\"Cloverhash\",\"CryptoNight\",\"NIST5\",\"X11\",\"NIST5\",\"Skein\",\"Scrypt\",\"X13\",\"Scrypt\",\"X11\",\"X11\",\"Scrypt\",\"CryptoNight\",\"X13\",\"Time Travel\",\"Scrypt\",\"Keccak\",\"SkunkHash v2 Raptor\",\"X11\",\"Skein\",\"SHA-256\",\"X11\",\"Scrypt\",\"VeChainThor Authority\",\"Scrypt\",\"PoS\",\"Scrypt\",\"Scrypt\",\"Scrypt\",\"Scrypt\",\"Scrypt\",\"Scrypt\",\"Scrypt\",\"CryptoNight\",\"SHA-512\",\"Ouroboros\",\"X11\",\"Equihash\",\"NeoScrypt\",\"X11\",\"Scrypt\",\"NeoScrypt\",\"Lyra2REv2\",\"Equihash\",\"Scrypt\",\"SHA-256\",\"NIST5\",\"PHI1612\",\"Dagger\",\"Scrypt\",\"Quark\",\"Scrypt\",\"POS 2.0\",\"Scrypt\",\"SHA-256\",\"X11\",\"NeoScrypt\",\"Ethash\",\"NeoScrypt\",\"X11\",\"DPoS\",\"NIST5\",\"X13\",\"Multiple\",\"Scrypt\",\"CryptoNight\",\"CryptoNight\",\"Ethash\",\"NIST5\",\"Quark\",\"X11\",\"CryptoNight-V7\",\"Scrypt\",\"Scrypt\",\"Scrypt\",\"X11\",\"BLAKE256\",\"X11\",\"NeoScrypt\",\"Quark\",\"NeoScrypt\",\"Scrypt\",\"Scrypt\",\"Scrypt\",\"X11\",\"X11\",\"SHA-256\",\"C11\",\"POS 3.0\",\"Ethash\",\"Scrypt\",\"CryptoNight\",\"SkunkHash\",\"Scrypt\",\"CryptoNight\",\"Scrypt\",\"Dagger\",\"Lyra2REv2\",\"X13\",\"Proof-of-BibleHash\",\"SHA-256 + Hive\",\"Scrypt\",\"Scrypt\",\"X11\",\"C11\",\"Proof-of-Authority\",\"X11\",\"XEVAN\",\"Scrypt\",\"VBFT\",\"Ethash\",\"CryptoNight\",\"Scrypt\",\"IMesh\",\"NIST5\",\"Scrypt\",\"Scrypt\",\"Equihash\",\"Scrypt\",\"Lyra2Z\",\"Green Protocol\",\"PoS\",\"Scrypt\",\"Semux BFT consensus\",\"X11\",\"Quark\",\"PoS\",\"CryptoNight\",\"X16R\",\"Scrypt\",\"NIST5\",\"Lyra2RE\",\"XEVAN\",\"Tribus\",\"Scrypt\",\"Lyra2Z\",\"CryptoNight\",\"CryptoNight Heavy\",\"CryptoNight\",\"Scrypt\",\"Scrypt\",\"Jump Consistent Hash\",\"SHA-256D\",\"CryptoNight\",\"Scrypt\",\"X15\",\"Scrypt\",\"Quark\",\"SHA-256\",\"DPoS\",\"X16R\",\"HMQ1725\",\"X11\",\"X16R\",\"Quark\",\"Quark\",\"Scrypt\",\"Lyra2REv2\",\"Quark\",\"Scrypt\",\"Scrypt\",\"CryptoNight-V7\",\"Cryptonight-GPU\",\"XEVAN\",\"CryptoNight Heavy\",\"X11\",\"X11\",\"Scrypt\",\"PoS\",\"SHA-256\",\"Keccak\",\"X11\",\"X11\",\"Scrypt\",\"SHA-512\",\"X16R\",\"ECC 256K1\",\"Equihash\",\"XEVAN\",\"Lyra2Z\",\"SHA-256\",\"XEVAN\",\"X11\",\"CryptoNight\",\"Quark\",\"Blake\",\"Blake\",\"Equihash\",\"Exosis\",\"Scrypt\",\"Scrypt\",\"Equihash\",\"Quark\",\"Equihash\",\"Quark\",\"Scrypt\",\"QuBit\",\"X11\",\"Scrypt\",\"XEVAN\",\"SHA-256D\",\"X11\",\"SHA-256\",\"X13\",\"SHA-256\",\"X11\",\"DPoS\",\"Scrypt\",\"Scrypt\",\"X11\",\"NeoScrypt\",\"Scrypt\",\"Blake\",\"Scrypt\",\"SHA-256\",\"Scrypt\",\"X11\",\"Scrypt\",\"Scrypt\",\"SHA-256\",\"X11\",\"SHA-256\",\"Scrypt\",\"Scrypt\",\"Scrypt\",\"Groestl\",\"X11\",\"Scrypt\",\"PoS\",\"Scrypt\",\"Scrypt\",\"X11\",\"SHA-256\",\"DPoS\",\"Scrypt\",\"Scrypt\",\"NeoScrypt\",\"Multiple\",\"X13\",\"Equihash+Scrypt\",\"DPoS\",\"Ethash\",\"DPoS\",\"SHA-256\",\"Leased POS\",\"PoS\",\"TRC10\",\"PoS\",\"SHA-256\",\"Scrypt\",\"CryptoNight\",\"Equihash\",\"Scrypt\"],\"Class\":{\"__ndarray__\":\"AAAAAAAAAAAAAAAAAQAAAAEAAAABAAAAAAAAAAEAAAABAAAAAQAAAAAAAAABAAAAAAAAAAAAAAABAAAAAAAAAAEAAAABAAAAAAAAAAAAAAABAAAAAQAAAAEAAAABAAAAAQAAAAAAAAABAAAAAQAAAAEAAAAAAAAAAQAAAAAAAAABAAAAAQAAAAAAAAAAAAAAAQAAAAEAAAABAAAAAQAAAAEAAAABAAAAAAAAAAAAAAABAAAAAQAAAAEAAAABAAAAAQAAAAAAAAAAAAAAAQAAAAAAAAABAAAAAQAAAAEAAAABAAAAAAAAAAEAAAABAAAAAAAAAAEAAAAAAAAAAAAAAAAAAAABAAAAAQAAAAEAAAAAAAAAAAAAAAAAAAAAAAAAAAAAAAEAAAABAAAAAQAAAAAAAAAAAAAAAQAAAAAAAAABAAAAAAAAAAAAAAABAAAAAQAAAAEAAAABAAAAAAAAAAAAAAABAAAAAAAAAAEAAAABAAAAAAAAAAAAAAABAAAAAAAAAAAAAAABAAAAAQAAAAAAAAAAAAAAAQAAAAAAAAAAAAAAAQAAAAAAAAABAAAAAAAAAAEAAAAAAAAAAQAAAAAAAAAAAAAAAQAAAAEAAAAAAAAAAQAAAAEAAAABAAAAAAAAAAEAAAABAAAAAQAAAAEAAAABAAAAAAAAAAAAAAABAAAAAQAAAAEAAAAAAAAAAQAAAAAAAAABAAAAAQAAAAAAAAABAAAAAAAAAAEAAAAAAAAAAAAAAAEAAAABAAAAAAAAAAEAAAABAAAAAAAAAAAAAAABAAAAAAAAAAEAAAAAAAAAAAAAAAAAAAABAAAAAQAAAAEAAAABAAAAAAAAAAAAAAAAAAAAAAAAAAAAAAABAAAAAQAAAAAAAAAAAAAAAAAAAAAAAAAAAAAAAQAAAAAAAAAAAAAAAAAAAAAAAAAAAAAAAQAAAAAAAAABAAAAAAAAAAAAAAABAAAAAAAAAAEAAAAAAAAAAAAAAAEAAAAAAAAAAQAAAAAAAAABAAAAAAAAAAEAAAAAAAAAAAAAAAAAAAAAAAAAAQAAAAAAAAAAAAAAAAAAAAAAAAAAAAAAAQAAAAEAAAAAAAAAAAAAAAEAAAABAAAAAAAAAAAAAAAAAAAAAAAAAAAAAAABAAAAAAAAAAAAAAAAAAAAAAAAAAAAAAAAAAAAAAAAAAAAAAABAAAAAAAAAAAAAAAAAAAAAAAAAAAAAAAAAAAAAQAAAAEAAAABAAAAAAAAAAAAAAAAAAAAAAAAAAEAAAAAAAAAAQAAAAAAAAAAAAAAAQAAAAAAAAABAAAAAQAAAAAAAAABAAAAAQAAAAAAAAABAAAAAAAAAAAAAAAAAAAAAQAAAAAAAAAAAAAAAQAAAAAAAAAAAAAAAAAAAAAAAAAAAAAAAAAAAAAAAAABAAAAAAAAAAEAAAAAAAAAAAAAAAAAAAAAAAAAAQAAAAAAAAABAAAAAAAAAAEAAAABAAAAAQAAAAEAAAAAAAAAAQAAAAAAAAAAAAAAAQAAAAAAAAABAAAAAQAAAAEAAAAAAAAAAQAAAAAAAAABAAAAAQAAAAEAAAAAAAAAAQAAAAAAAAABAAAAAAAAAAAAAAAAAAAAAQAAAAAAAAABAAAAAQAAAAEAAAABAAAAAQAAAAAAAAAAAAAAAQAAAAAAAAAAAAAAAAAAAAEAAAAAAAAAAQAAAAAAAAABAAAAAAAAAAEAAAAAAAAAAAAAAAAAAAAAAAAAAQAAAAAAAAAAAAAAAQAAAAAAAAAAAAAAAAAAAAEAAAABAAAAAQAAAAEAAAAAAAAAAAAAAAAAAAAAAAAAAQAAAAAAAAABAAAAAQAAAAEAAAAAAAAAAAAAAAEAAAABAAAAAAAAAAAAAAABAAAAAAAAAAEAAAABAAAAAQAAAAAAAAABAAAAAQAAAAAAAAAAAAAAAAAAAAEAAAABAAAAAQAAAAAAAAAAAAAAAAAAAAEAAAABAAAAAAAAAAEAAAABAAAAAQAAAAEAAAAAAAAAAwAAAAMAAAABAAAAAQAAAAEAAAAAAAAAAwAAAAAAAAAAAAAAAAAAAAAAAAABAAAAAQAAAAEAAAABAAAAAAAAAAAAAAAAAAAAAQAAAAAAAAABAAAAAAAAAAAAAAAAAAAAAAAAAAEAAAAAAAAAAAAAAAEAAAAAAAAAAAAAAAEAAAABAAAAAAAAAAEAAAAAAAAAAQAAAAEAAAABAAAAAQAAAAAAAAAAAAAAAQAAAAAAAAABAAAAAAAAAAAAAAAAAAAAAAAAAAAAAAAAAAAAAQAAAAEAAAABAAAAAAAAAAAAAAAAAAAAAAAAAAAAAAAAAAAAAQAAAAAAAAABAAAAAQAAAAEAAAABAAAAAAAAAAAAAAAAAAAAAAAAAAEAAAAAAAAAAAAAAAEAAAAAAAAAAAAAAAEAAAADAAAAAQAAAAAAAAABAAAAAQAAAAAAAAAAAAAAAQAAAAAAAAABAAAAAQAAAAAAAAABAAAAAQAAAAAAAAABAAAAAAAAAAEAAAAAAAAAAAAAAAEAAAAAAAAAAAAAAAAAAAAAAAAAAAAAAAEAAAABAAAAAQAAAAAAAAAAAAAAAAAAAAEAAAAAAAAAAQAAAAAAAAABAAAAAAAAAAAAAAAAAAAAAAAAAAEAAAAAAAAAAAAAAAAAAAABAAAAAAAAAAEAAAAAAAAAAQAAAAAAAAAAAAAAAAAAAAEAAAABAAAAAAAAAAAAAAAAAAAAAAAAAAAAAAAAAAAAAQAAAAAAAAABAAAAAAAAAAEAAAAAAAAAAAAAAAMAAAAAAAAAAgAAAAAAAAAAAAAAAAAAAAEAAAABAAAAAAAAAA==\",\"dtype\":\"int32\",\"order\":\"little\",\"shape\":[532]},\"CoinName\":[\"42 Coin\",\"404Coin\",\"EliteCoin\",\"Bitcoin\",\"Ethereum\",\"Litecoin\",\"Dash\",\"Monero\",\"Ethereum Classic\",\"ZCash\",\"Bitshares\",\"DigiByte\",\"BitcoinDark\",\"PayCoin\",\"ProsperCoin\",\"KoboCoin\",\"Spreadcoin\",\"Argentum\",\"Aurora Coin\",\"BlueCoin\",\"MyriadCoin\",\"MoonCoin\",\"ZetaCoin\",\"SexCoin\",\"Quatloo\",\"EnergyCoin\",\"QuarkCoin\",\"Riecoin\",\"Digitalcoin \",\"BitBar\",\"Catcoin\",\"CryptoBullion\",\"CannaCoin\",\"CryptCoin\",\"CasinoCoin\",\"Diamond\",\"Verge\",\"DevCoin\",\"EarthCoin\",\"E-Gulden\",\"Einsteinium\",\"Emerald\",\"Exclusive Coin\",\"FlutterCoin\",\"Franko\",\"FeatherCoin\",\"GrandCoin\",\"GlobalCoin\",\"GoldCoin\",\"HoboNickels\",\"HyperStake\",\"Infinite Coin\",\"IOCoin\",\"IXcoin\",\"KrugerCoin\",\"LuckyCoin\",\"Litebar \",\"MaxCoin\",\"MegaCoin\",\"MediterraneanCoin\",\"MintCoin\",\"MinCoin\",\"MazaCoin\",\"Nautilus Coin\",\"NavCoin\",\"NobleCoin\",\"Namecoin\",\"NyanCoin\",\"OpalCoin\",\"Orbitcoin\",\"PotCoin\",\"PhoenixCoin\",\"Reddcoin\",\"RonPaulCoin\",\"StableCoin\",\"SmartCoin\",\"SuperCoin\",\"SyncCoin\",\"SysCoin\",\"TeslaCoin\",\"TigerCoin\",\"TittieCoin\",\"TorCoin\",\"TerraCoin\",\"UnbreakableCoin\",\"Unobtanium\",\"UroCoin\",\"UnitaryStatus Dollar\",\"UltraCoin\",\"ViaCoin\",\"VeriCoin\",\"Vertcoin\",\"WorldCoin\",\"X11 Coin\",\"Crypti\",\"JouleCoin\",\"StealthCoin\",\"ZCC Coin\",\"ByteCoin\",\"DigitalNote \",\"BurstCoin\",\"StorjCoin\",\"MonaCoin\",\"Neutron\",\"FairCoin\",\"Gulden\",\"RubyCoin\",\"PesetaCoin\",\"Kore\",\"Wild Beast Coin\",\"Dnotes\",\"Flo\",\"8BIT Coin\",\"Sativa Coin\",\"ArtByte\",\"Folding Coin\",\"Ucoin\",\"Unitus\",\"CypherPunkCoin\",\"OmniCron\",\"Vtorrent\",\"GreenCoin\",\"Cryptonite\",\"MasterCoin\",\"SoonCoin\",\"1Credit\",\"IslaCoin\",\"Nexus\",\"MarsCoin \",\"Crypto\",\"Anarchists Prime\",\"Droidz\",\"BowsCoin\",\"Squall Coin\",\"Song Coin\",\"BitZeny\",\"Diggits\",\"Expanse\",\"Paycon\",\"Siacoin\",\"Emercoin\",\"EverGreenCoin\",\"MindCoin\",\"I0coin\",\"Decred\",\"Revolution VR\",\"HOdlcoin\",\"EDRCoin\",\"Hitcoin\",\"Gamecredits\",\"DubaiCoin\",\"CarpeDiemCoin\",\"PWR Coin\",\"BillaryCoin\",\"GPU Coin\",\"Adzcoin\",\"SoilCoin\",\"YoCoin\",\"SibCoin\",\"EuropeCoin\",\"ZeitCoin\",\"SwingCoin\",\"SafeExchangeCoin\",\"Nebuchadnezzar\",\"Francs\",\"BolivarCoin\",\"Ratecoin\",\"Revenu\",\"Clockcoin\",\"VIP Tokens\",\"BitSend\",\"Omni\",\"Let it Ride\",\"PutinCoin\",\"iBankCoin\",\"Frankywillcoin\",\"MudraCoin\",\"PizzaCoin\",\"Lutetium Coin\",\"Komodo\",\"GoldBlocks\",\"CarterCoin\",\"Karbo\",\"BitTokens\",\"ZayedCoin\",\"MustangCoin\",\"ZoneCoin\",\"Circuits of Value\",\"RootCoin\",\"DopeCoin\",\"BitCurrency\",\"DollarCoin\",\"Swiscoin\",\"Shilling\",\"BuzzCoin\",\"Opair\",\"PesoBit\",\"Halloween Coin\",\"ZCoin\",\"CoffeeCoin\",\"RoyalCoin\",\"GanjaCoin V2\",\"TeamUP\",\"LanaCoin\",\"Elementrem\",\"ZClassic\",\"ARK\",\"InsaneCoin\",\"KiloCoin\",\"ArtexCoin\",\"EmberCoin\",\"XenixCoin\",\"FreeCoin\",\"PLNCoin\",\"AquariusCoin\",\"Kurrent\",\"Creatio\",\"Eternity\",\"Eurocoin\",\"BitcoinFast\",\"Stakenet\",\"BitConnect Coin\",\"MoneyCoin\",\"Enigma\",\"Cannabis Industry Coin\",\"Russiacoin\",\"PandaCoin\",\"GameUnits\",\"GAKHcoin\",\"Allsafe\",\"LiteCreed\",\"OsmiumCoin\",\"Bikercoins\",\"HexxCoin\",\"Klingon Empire Darsek\",\"Internet of People\",\"KushCoin\",\"Printerium\",\"PacCoin\",\"Impeach\",\"Citadel\",\"Zilbercoin\",\"FirstCoin\",\"BeaverCoin\",\"FindCoin\",\"VaultCoin\",\"Zero\",\"OpenChat\",\"Canada eCoin\",\"Zoin\",\"RenosCoin\",\"DubaiCoin\",\"VirtacoinPlus\",\"TajCoin\",\"Impact\",\"EB3coin\",\"Atmos\",\"HappyCoin\",\"Coinonat\",\"MacronCoin\",\"Condensate\",\"Independent Money System\",\"ArgusCoin\",\"LomoCoin\",\"ProCurrency\",\"GoldReserve\",\"BenjiRolls\",\"GrowthCoin\",\"ILCoin\",\"Phreak\",\"Degas Coin\",\"HTML5 Coin\",\"Ultimate Secure Cash\",\"EquiTrader\",\"QTUM\",\"Quantum Resistant Ledger\",\"Espers\",\"Dynamic\",\"Nano\",\"ChanCoin\",\"Dinastycoin\",\"Denarius\",\"DigitalPrice\",\"Virta Unique Coin\",\"Bitcoin Planet\",\"Unify\",\"BritCoin\",\"SocialCoin\",\"ArcticCoin\",\"DAS\",\"Linda\",\"LeviarCoin\",\"DeepOnion\",\"Bitcore\",\"gCn Coin\",\"SmartCash\",\"Signatum\",\"Onix\",\"Cream\",\"Bitcoin Cash\",\"Monoeci\",\"Draftcoin\",\"Vechain\",\"Sojourn Coin\",\"Stakecoin\",\"NewYorkCoin\",\"FrazCoin\",\"Kronecoin\",\"AdCoin\",\"Linx\",\"CoinonatX\",\"Ethereum Dark\",\"Sumokoin\",\"Obsidian\",\"Cardano\",\"Regalcoin\",\"BitcoinZ\",\"TrezarCoin\",\"Elements\",\"TerraNovaCoin\",\"VIVO Coin\",\"Rupee\",\"Bitcoin Gold\",\"WomenCoin\",\"Theresa May Coin\",\"NamoCoin\",\"LUXCoin\",\"Pirl\",\"Xios\",\"Bitcloud 2.0\",\"eBoost\",\"KekCoin\",\"BlackholeCoin\",\"Infinity Economics\",\"Pura\",\"Innova\",\"Ellaism\",\"GoByte\",\"Magnet\",\"Lamden Tau\",\"Electra\",\"Bitcoin Diamond\",\"SHIELD\",\"Cash & Back Coin\",\"UltraNote\",\"BitCoal\",\"DaxxCoin\",\"Bulwark\",\"Kalkulus\",\"AC3\",\"Lethean\",\"GermanCoin\",\"LiteCoin Ultra\",\"PopularCoin\",\"PhantomX\",\"Photon\",\"Sucre\",\"SparksPay\",\"Digiwage\",\"GunCoin\",\"IrishCoin\",\"Trollcoin\",\"Litecoin Plus\",\"Monkey Project\",\"Pioneer Coin\",\"UnitedBitcoin\",\"Interzone\",\"TokenPay\",\"1717 Masonic Commemorative Token\",\"My Big Coin\",\"TurtleCoin\",\"MUNcoin\",\"Unified Society USDEX\",\"Niobio Cash\",\"ShareChain\",\"Travelflex\",\"KREDS\",\"Tokyo Coin\",\"BiblePay\",\"LitecoinCash\",\"BitFlip\",\"LottoCoin\",\"Crypto Improvement Fund\",\"Stipend\",\"Poa Network\",\"Pushi\",\"Ellerium\",\"Velox\",\"Ontology\",\"Callisto Network\",\"BitTube\",\"Poseidon\",\"Aidos Kuneen\",\"Bitspace\",\"Briacoin\",\"Ignition\",\"Bitrolium\",\"MedicCoin\",\"Alpenschillling\",\"Bitcoin Green\",\"Deviant Coin\",\"Abjcoin\",\"Semux\",\"FuturoCoin\",\"Carebit\",\"Zealium\",\"Monero Classic\",\"Proton\",\"iDealCash\",\"Jumpcoin\",\"Infinex\",\"Bitcoin Incognito\",\"KEYCO\",\"HollyWoodCoin\",\"GINcoin\",\"PlatinCoin\",\"Loki\",\"Newton Coin\",\"Swisscoin\",\"Xt3ch\",\"MassGrid\",\"TheVig\",\"PluraCoin\",\"EmaratCoin\",\"Dekado\",\"Lynx\",\"Poseidon Quark\",\"BitcoinWSpectrum\",\"Muse\",\"Motion\",\"PlusOneCoin\",\"Axe\",\"Trivechain\",\"Dystem\",\"Giant\",\"Peony Coin\",\"Absolute Coin\",\"Vitae\",\"HexCoin\",\"TPCash\",\"Webchain\",\"Ryo\",\"Urals Coin\",\"Qwertycoin\",\"ARENON\",\"EUNO\",\"MMOCoin\",\"Ketan\",\"Project Pai\",\"XDNA\",\"PAXEX\",\"Azart\",\"ThunderStake\",\"Kcash\",\"Xchange\",\"Acute Angle Cloud\",\"CrypticCoin\",\"Bettex coin\",\"Actinium\",\"Bitcoin SV\",\"BitMoney\",\"Junson Ming Chan Coin\",\"FREDEnergy\",\"HerbCoin\",\"Universal Molecule\",\"Lithium\",\"PirateCash\",\"Exosis\",\"Block-Logic\",\"Oduwa\",\"Beam\",\"Galilel\",\"Bithereum\",\"Crypto Sports\",\"Credit\",\"SLICE\",\"Dash Platinum\",\"Nasdacoin\",\"Beetle Coin\",\"Titan Coin\",\"Award\",\"BLAST\",\"Bitcoin Rhodium\",\"GlobalToken\",\"Insane Coin\",\"ALAX\",\"LiteDoge\",\"SolarCoin\",\"TruckCoin\",\"UFO Coin\",\"OrangeCoin\",\"BlakeCoin\",\"BitstarCoin\",\"NeosCoin\",\"HyperCoin\",\"PinkCoin\",\"Crypto Escudo\",\"AudioCoin\",\"IncaKoin\",\"Piggy Coin\",\"Crown Coin\",\"Genstake\",\"SmileyCoin\",\"XiaoMiCoin\",\"Groestlcoin\",\"CapriCoin\",\" ClubCoin\",\"Radium\",\"Bata\",\"Pakcoin\",\"Creditbit \",\"OKCash\",\"Lisk\",\"HiCoin\",\"WhiteCoin\",\"FriendshipCoin\",\"JoinCoin\",\"Triangles Coin\",\"Vollar\",\"EOS\",\"Reality Clash\",\"Oxycoin\",\"TigerCash\",\"Waves\",\"Particl\",\"BitTorrent\",\"Nxt\",\"ZEPHYR\",\"Gapcoin\",\"Beldex\",\"Horizen\",\"BitcoinPlus\"],\"ProofType\":[\"PoW/PoS\",\"PoW/PoS\",\"PoW/PoS\",\"PoW\",\"PoW\",\"PoW\",\"PoW/PoS\",\"PoW\",\"PoW\",\"PoW\",\"PoS\",\"PoW\",\"PoW/PoS\",\"PoS\",\"PoW\",\"PoW/PoS\",\"PoW\",\"PoW\",\"PoW/PoS\",\"PoW/PoS\",\"PoW\",\"PoW\",\"PoW\",\"PoW\",\"PoW\",\"PoW/PoS\",\"PoW\",\"PoW\",\"PoW\",\"PoW/PoS\",\"PoW\",\"PoW/PoS\",\"PoW\",\"PoW\",\"PoC\",\"PoW/PoS\",\"PoW\",\"PoW\",\"PoW\",\"PoW\",\"PoW\",\"PoW\",\"PoS\",\"PoS/PoW/PoT\",\"PoW\",\"PoW\",\"PoW\",\"PoW\",\"PoW\",\"PoW/PoS\",\"PoS\",\"PoW\",\"PoW/PoS\",\"PoW\",\"PoW\",\"PoW\",\"PoW\",\"PoW/PoS\",\"PoW\",\"PoW\",\"PoS\",\"PoW\",\"PoW/PoS\",\"PoS\",\"PoW/PoS\",\"PoW\",\"PoW\",\"PoW\",\"PoW/PoS\",\"PoW/PoS\",\"PoW/PoS\",\"PoW/PoS\",\"PoW/PoS\",\"PoW\",\"PoW\",\"PoW\",\"PoS\",\"PoW/PoS\",\"PoW\",\"PoS\",\"PoW\",\"PoS\",\"PoW/PoS\",\"PoW\",\"PoW\",\"PoW\",\"PoW\",\"PoW/PoS\",\"PoW/PoS\",\"PoW\",\"PoST\",\"PoW\",\"PoW\",\"PoW/PoS\",\"PoS\",\"PoW\",\"PoW/PoS\",\"PoW/PoS\",\"PoW\",\"PoW\",\"PoC\",\"PoS\",\"PoW\",\"PoW/PoS\",\"PoW/PoS\",\"PoW\",\"PoS\",\"PoW\",\"PoW/PoS\",\"PoW\",\"PoS\",\"PoW\",\"PoW/PoS\",\"PoW/PoS\",\"PoW\",\"PoW\",\"PoS\",\"PoW\",\"PoW\",\"PoW\",\"PoW/PoS\",\"PoW\",\"PoW\",\"PoW\",\"PoW\",\"PoW\",\"PoW/PoS\",\"PoW/nPoS\",\"PoW\",\"PoW\",\"PoW\",\"PoW/PoS\",\"PoW\",\"PoS/PoW\",\"PoW\",\"PoW\",\"PoS\",\"PoW\",\"PoW/PoS\",\"PoW\",\"PoW/PoS\",\"PoW/PoS\",\"PoW\",\"PoW\",\"PoW/PoS\",\"PoW\",\"PoW\",\"PoW/PoS\",\"PoW/PoS\",\"PoW\",\"PoW/PoS\",\"PoW\",\"PoW/PoS\",\"PoW/PoS\",\"PoS\",\"PoW\",\"PoW\",\"PoW\",\"PoW\",\"PoW/PoS\",\"PoS\",\"PoW/PoS\",\"PoC\",\"PoS\",\"PoW\",\"PoW\",\"PoW/PoS\",\"PoW/PoS\",\"PoW/PoS\",\"PoW/PoS\",\"PoW/PoS\",\"PoW\",\"PoS\",\"PoW/PoS\",\"PoW/PoS\",\"PoW/PoS\",\"PoS\",\"PoW\",\"PoS\",\"dPoW/PoW\",\"PoW/PoS\",\"PoW/PoS\",\"PoW\",\"PoW/PoS\",\"PoW\",\"PoW/PoS\",\"PoW/PoS\",\"PoW\",\"PoW/PoS\",\"PoW\",\"PoS\",\"PoW\",\"PoW/PoW\",\"PoW\",\"PoW/PoS\",\"PoS\",\"PoW/PoS\",\"PoW/PoS\",\"PoW\",\"PoS\",\"PoS\",\"PoW/PoS\",\"PoS\",\"PoW/PoS\",\"PoW\",\"PoW\",\"DPoS\",\"PoW/PoS\",\"PoW\",\"PoW\",\"PoW/PoS\",\"PoW/PoS\",\"PoS\",\"PoW/PoS\",\"PoW/PoS\",\"PoW\",\"PoS\",\"PoW/PoS\",\"PoW/PoS\",\"PoW/PoS\",\"TPoS\",\"PoW/PoS\",\"PoW/PoS\",\"PoW/PoS\",\"PoW\",\"PoW/PoS\",\"PoS\",\"PoW/PoS\",\"PoW/PoS\",\"PoS\",\"PoW/PoS\",\"PoW\",\"PoW\",\"PoW\",\"PoW/PoS\",\"PoW/PoS\",\"PoW/PoS\",\"PoW/PoS\",\"PoW\",\"PoW/PoS\",\"PoW\",\"PoS\",\"PoW/PoS \",\"PoW\",\"PoS\",\"PoW\",\"PoW\",\"PoW/PoS\",\"PoW\",\"PoW\",\"PoS\",\"PoW\",\"PoW/PoS\",\"PoW/PoS\",\"PoW/PoS\",\"PoW\",\"PoS\",\"PoW/PoS\",\"PoW\",\"PoS\",\"PoW/PoS\",\"PoW/PoS\",\"PoW/PoS\",\"PoW/PoS\",\"PoS\",\"PoW/PoS\",\"PoW\",\"PoS\",\"PoW\",\"PoS\",\"PoW/PoS\",\"PoW/PoS\",\"PoS\",\"PoW\",\"PoS\",\"PoW\",\"PoW/PoS\",\"PoW\",\"PoW\",\"PoW\",\"PoW\",\"PoW/PoS\",\"PoW\",\"PoW/PoS\",\"PoW/PoS\",\"PoW\",\"PoW/PoS\",\"PoW\",\"PoW\",\"PoW\",\"PoW/PoS\",\"PoW\",\"PoW/PoS\",\"PoW\",\"PoW\",\"PoW\",\"PoS\",\"PoW\",\"PoW/PoS\",\"PoW\",\"PoW/PoS\",\"PoS\",\"Proof of Authority\",\"PoW\",\"PoS\",\"PoW\",\"PoW\",\"PoW\",\"PoW\",\"PoW\",\"PoW/PoS\",\"PoW/PoS\",\"PoW\",\"PoS\",\"PoS\",\"PoW/PoS\",\"PoW\",\"PoW/PoS\",\"PoW\",\"PoW/PoS\",\"PoW\",\"PoS\",\"PoW\",\"PoW/PoS\",\"PoW/PoS\",\"PoW/PoS\",\"PoW/PoS\",\"PoW\",\"PoW/PoS\",\"PoW/PoS\",\"PoW\",\"PoS\",\"PoW/PoS\",\"PoS\",\"PoW\",\"PoW\",\"PoW\",\"PoW\",\"PoW/PoS\",\"DPoS\",\"PoW/PoS\",\"PoW/PoS\",\"PoW\",\"PoW/PoS\",\"PoW\",\"PoW\",\"PoW\",\"PoS\",\"PoS\",\"PoW\",\"PoW\",\"PoW/PoS\",\"PoW/PoS\",\"PoW\",\"PoW/PoS\",\"PoW\",\"PoW\",\"PoW\",\"PoS\",\"PoW\",\"PoW\",\"PoW/PoS\",\"PoW/PoS\",\"PoS\",\"PoW\",\"PoW\",\"PoW\",\"PoS\",\"PoS\",\"PoW and PoS\",\"PoW\",\"PoW\",\"PoW/PoS\",\"PoW\",\"PoW\",\"PoW\",\"PoW\",\"PoS\",\"POBh\",\"PoW + Hive\",\"PoW\",\"PoW\",\"PoW\",\"PoW/PoS\",\"PoA\",\"PoW/PoS\",\"PoW/PoS\",\"PoS\",\"PoS\",\"PoW\",\"PoW\",\"PoW\",\"PoW\",\"PoW/PoS\",\"PoW/PoS\",\"PoW/PoS\",\"PoW\",\"PoS\",\"PoW\",\"PoS\",\"PoS\",\"PoW/PoS\",\"DPoS\",\"PoW\",\"PoW/PoS\",\"PoS\",\"PoW\",\"PoS\",\"PoW/PoS\",\"PoW\",\"PoW\",\"PoS/PoW\",\"PoW\",\"PoS\",\"PoW\",\"PoW\",\"PoW\",\"PoW\",\"PoW/PoS\",\"PoS\",\"PoW\",\"PoW/PoS\",\"PoW\",\"PoW/PoS\",\"PoS\",\"HPoW\",\"PoS\",\"PoS\",\"PoS\",\"PoW\",\"PoW\",\"PoW\",\"PoW/PoS\",\"PoS\",\"PoW/PoS\",\"PoS\",\"PoW/PoS\",\"PoS\",\"PoW\",\"PoW/PoS\",\"PoW\",\"PoW\",\"PoW\",\"PoW\",\"PoS\",\"PoW/PoS\",\"PoS\",\"PoS\",\"PoW\",\"PoW/PoS\",\"PoS\",\"PoW\",\"PoW/PoS\",\"Zero-Knowledge Proof\",\"PoW\",\"DPOS\",\"PoW\",\"PoS\",\"PoW\",\"PoW\",\"Pos\",\"PoS\",\"PoW\",\"PoW/PoS\",\"PoW\",\"PoW\",\"PoS\",\"PoW\",\"PoW\",\"PoW/PoS\",\"PoW\",\"PoW/PoS\",\"PoW\",\"PoS\",\"PoW/PoS\",\"PoW\",\"PoS\",\"PoW/PoS\",\"PoW/PoS\",\"PoW/PoS\",\"PoW/PoS\",\"PoW\",\"PoW\",\"PoW\",\"PoW/PoS\",\"DPoS\",\"PoW/PoS\",\"PoW\",\"PoW/PoS\",\"PoW\",\"PoW/PoS\",\"PoW\",\"PoW/PoS\",\"PoS\",\"PoW/PoS\",\"PoW/PoS\",\"PoW\",\"PoW/PoS\",\"PoW/PoS\",\"PoW/PoS\",\"PoW\",\"PoW/PoS\",\"PoW\",\"PoW/PoS\",\"PoW\",\"PoW/PoS\",\"PoW/PoS\",\"PoS\",\"PoW\",\"PoW\",\"Proof of Trust\",\"PoW/PoS\",\"DPoS\",\"PoS\",\"PoW/PoS\",\"PoW/PoS\",\"PoW\",\"PoW/PoS\",\"PoW\",\"DPoS\",\"PoW\",\"DPoS\",\"PoS\",\"LPoS\",\"PoS\",\"DPoS\",\"PoS/LPoS\",\"DPoS\",\"PoW/PoS\",\"PoW\",\"PoW\",\"PoS\"],\"TotalCoinSupply\":[\"42\",\"532000000\",\"314159265359\",\"21000000\",\"0\",\"84000000\",\"22000000\",\"0\",\"210000000\",\"21000000\",\"3600570502\",\"21000000000\",\"22000000\",\"12500000\",\"21000000\",\"350000000\",\"20000000\",\"64000000\",\"16768584\",\"0\",\"2000000000\",\"384000000000\",\"169795588\",\"250000000\",\"100000000\",\"0\",\"247000000\",\"84000000\",\"48166000\",\"500000\",\"21000000 \",\"1000000\",\"13140000\",\"18000000\",\"40000000000\",\"4380000\",\"16555000000\",\"21000000000\",\"13500000000\",\"21000000 \",\"299792458\",\"32000000\",\"0\",\"0\",\"11235813\",\"336000000\",\"1420609614\",\"70000000\",\"72245700\",\"120000000\",\"0\",\"90600000000\",\"22000000\",\"21000000\",\"265420800\",\"20000000\",\"1350000\",\"100000000\",\"42000000\",\"200000000\",\"0\",\"10000000\",\"2419200000\",\"16180000\",\"0\",\"15000000000\",\"21000000\",\"337000000\",\"0\",\"3770000\",\"420000000\",\"98000000\",\"0\",\"21000000\",\"250000000\",\"51200000\",\"0\",\"1000\",\"888000000\",\"100000000\",\"47011968\",\"2300000000\",\"10000000\",\"42000000\",\"80000000\",\"250000\",\"0\",\"1600000000\",\"100000000\",\"23000000\",\"0\",\"84000000\",\"265420800\",\"5500000\",\"0\",\"45000000\",\"0\",\"1000000000\",\"184467440735\",\"10000000000\",\"2158812800\",\"500000000\",\"105120000\",\"68000000\",\"0\",\"1680000000\",\"0\",\"166386000\",\"12000000\",\"2628000\",\"500000000\",\"160000000\",\"0\",\"10000000\",\"1000000000\",\"1000000000\",\"20000000\",\"0\",\"0\",\"3371337\",\"20000000\",\"10000000000\",\"1840000000\",\"619478\",\"21000000\",\"92000000000\",\"0\",\"78000000\",\"33000000\",\"65789100\",\"53760000\",\"5060000\",\"21000000\",\"0\",\"210240000\",\"250000000\",\"100000000\",\"16906397\",\"50000000\",\"0\",\"1000000000\",\"26298000\",\"16000000\",\"21000000\",\"21000000\",\"210000000\",\"81962100\",\"22000000\",\"26550000000\",\"84000000\",\"10500000\",\"21626280000 \",\"0\",\"42000000\",\"221052632\",\"84000000\",\"30000000\",\"168351300\",\"24000000\",\"384000000\",\" 99000000000\",\"40000000\",\"2147483647\",\"20000000\",\"20000000\",\"25000000\",\"75000000\",\"222725000\",\"525000000\",\"90000000\",\"139000000\",\"616448\",\"33500000\",\"2000000000\",\"44333333\",\"100000000\",\"200000000\",\"25000000\",\"657000000\",\"200000000\",\"50000000\",\"90000000\",\"10000000\",\"21000000\",\"9736000\",\"3000000\",\"21000000\",\"1200000000\",\"0\",\"200000000\",\"0\",\"10638298\",\"3100000000\",\"30000000\",\"20000000000\",\"74000000\",\"0\",\"1500000000\",\"21400000\",\"39999898\",\"2500124\",\"100000000\",\"301000000\",\"7506000000\",\"26205539\",\"21000000\",\"125000000\",\"30000000\",\"10000000000\",\"500000000\",\"850000000\",\"3853326.77707314\",\"50000000\",\"38540000 \",\"42000000\",\"228000000\",\"20000000\",\"60000000\",\"20000000\",\"33000000\",\"76500000\",\"28000000\",\"650659833\",\"5000000\",\"21000000\",\"144000000\",\"32514916898\",\"13000000\",\"3315789\",\"15000000\",\"78835200\",\"2714286\",\"25000000\",\"9999999\",\"500000000\",\"21000000\",\"9354000\",\"20000000\",\"100000000000\",\"21933333\",\"185000000\",\"55000000\",\"110000000\",\"3360000\",\"14524851.4827\",\"1000000000\",\"17000000\",\"1000000000\",\"100000000 \",\"21000000\",\"34426423\",\"2232901\",\"100000000\",\"36900000\",\"110000000\",\"4000000000\",\"110290030\",\"100000000\",\"48252000\",\"400000000\",\"500000000\",\"21212121\",\"28600000\",\"1000000000\",\"75000000000\",\"40000000\",\"35520400\",\"2000000000\",\"2500000000\",\"30000000\",\"105000000\",\"90000000000\",\"200084200\",\"72000000\",\"100000000\",\"105000000\",\"50000000000\",\"0\",\"340282367\",\"30000000\",\"2000000000\",\"10000000\",\"100000000\",\"120000000\",\"100000000\",\"19276800\",\"30000000\",\" 75000000\",\"60000000\",\"18900000\",\"50000000000\",\"54000000\",\"18898187.6216583\",\"21000000\",\"200000000000\",\"5000000000\",\"137500000\",\"1100000000\",\"100000000\",\"21000000\",\"9507271\",\"17405891.19707116\",\"86712634466\",\"10500000000\",\"61599965\",\"0\",\"20000000\",\"84000000\",\"100000000\",\"100000000\",\"48252000\",\"4200000\",\"88888888\",\"91388946\",\"45000000000\",\"27000000\",\"21000000000\",\"400000000\",\"1800000000\",\"15733333\",\"27000000\",\"24000000\",\"21000000\",\"25000000000\",\"100000000\",\"1200000000\",\"60000000\",\"156306732.71\",\"21000000\",\"200000000\",\"100000000\",\"21000000\",\"14788275.991\",\"9000000000\",\"350000000\",\"45000000\",\"280000000\",\"31800000\",\"144000000\",\"500000000\",\"30000000000\",\"210000000\",\"660000000\",\"210000000\",\"85000000000\",\"12500000\",\"10000000000\",\"27716121\",\"20000000\",\"550000000\",\"999481516\",\"50000000000\",\"150000000\",\"4999999999\",\"50000000\",\" 90000000000\",\"19800000\",\"21000000\",\"120000000\",\"500000000\",\"64000000\",\"900000000\",\"4000000\",\"21000000\",\"23000000\",\"20166000\",\"23000000\",\"25000000\",\"1618033\",\"30000000\",\"1000000000000\",\"16600000\",\"232000000\",\"336000000\",\"10000000000\",\"100000000\",\"1100000000\",\"800000000\",\"5200000000\",\"840000000\",\"40000000\",\"18406979840\",\"500000000\",\"19340594\",\"252460800\",\"25000000\",\"60000000\",\"124000000\",\"1000000000\",\"6500000000\",\"1000000000\",\"21000000\",\"25000000\",\"50000000\",\"3000000\",\"5000000\",\"70000000\",\"500000000\",\"300000000\",\"21000000\",\"88000000\",\"30000000\",\"100000000\",\"100000000\",\"200000000\",\"80000000\",\"18400000\",\"45000000\",\"5121951220\",\"21000000\",\"26280000\",\"21000000\",\"18000000\",\"26000000\",\"10500000\",\"600000518\",\"150000000\",\"184000000000\",\"10200000000\",\"44000000\",\"168000000\",\"100000000\",\"1000000000\",\"84000000\",\"90000000\",\"92000000000\",\"650000000 \",\"100262205\",\"18081806 \",\"22075700\",\"21000000\",\"21000000\",\"82546564\",\"21000000\",\"5151000\",\"16880000000\",\"52500000\",\"100000000\",\"22105263\",\"1000000000\",\"1750000000\",\"88188888\",\"210000000\",\"184470000000\",\"55000000\",\"50000000\",\"260000000\",\"210000000\",\"2100000000\",\"366000000\",\"100000000\",\"25000000\",\"18000000000\",\"1000000000\",\"100000000\",\"1000000000\",\"7600000000\",\"50000000\",\"84000000\",\"21000000\",\"70000000000\",\"0\",\"8080000000\",\"54000000\",\"105120001.44\",\"25228800\",\"105000000\",\"21000000\",\"120000000\",\"21000000\",\"262800000\",\"19035999\",\"30886000\",\"13370000\",\"74800000000\",\"100000000\",\"19700000\",\"84000000\",\"500000000\",\"5000000000\",\"420000000\",\"64000000\",\"2100000\",\"168000000\",\"30000000\",\"1000000000\",\"35000000000\",\"98100000000\",\"0\",\"4000000000\",\"200000000\",\"7000000000\",\"54256119\",\"21000000\",\"0\",\"500000000\",\"1000000000\",\"10500000000\",\"190000000\",\"1000000000\",\"42000000\",\"15000000\",\"50000000000\",\"400000000\",\"105000000\",\"208000000\",\"160000000\",\"9000000\",\"5000000\",\"182000000\",\"16504333\",\"105000000\",\"159918400\",\"10008835635\",\"300000000\",\"60168145\",\"2800000\",\"120000\",\"2100000000\",\"0\",\"24487944\",\"0\",\"1000000000\",\"100000000\",\"8634140\",\"990000000000\",\"1000000000\",\"2000000000\",\"250000000\",\"1400222610\",\"21000000\",\"1000000\"],\"TotalCoinsMined\":{\"__ndarray__\":\"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\",\"dtype\":\"float64\",\"order\":\"little\",\"shape\":[532]}},\"selected\":{\"id\":\"1657\"},\"selection_policy\":{\"id\":\"1692\"}},\"id\":\"1656\",\"type\":\"ColumnDataSource\"},{\"attributes\":{\"editor\":{\"id\":\"1674\"},\"field\":\"TotalCoinSupply\",\"formatter\":{\"id\":\"1673\"},\"title\":\"TotalCoinSupply\"},\"id\":\"1675\",\"type\":\"TableColumn\"},{\"attributes\":{},\"id\":\"1684\",\"type\":\"IntEditor\"},{\"attributes\":{},\"id\":\"1674\",\"type\":\"StringEditor\"},{\"attributes\":{\"editor\":{\"id\":\"1684\"},\"field\":\"Class\",\"formatter\":{\"id\":\"1683\"},\"title\":\"Class\"},\"id\":\"1685\",\"type\":\"TableColumn\"},{\"attributes\":{\"editor\":{\"id\":\"1669\"},\"field\":\"ProofType\",\"formatter\":{\"id\":\"1668\"},\"title\":\"ProofType\"},\"id\":\"1670\",\"type\":\"TableColumn\"},{\"attributes\":{},\"id\":\"1657\",\"type\":\"Selection\"},{\"attributes\":{},\"id\":\"1669\",\"type\":\"StringEditor\"},{\"attributes\":{\"margin\":[5,5,5,5],\"name\":\"HSpacer02883\",\"sizing_mode\":\"stretch_width\"},\"id\":\"1695\",\"type\":\"Spacer\"},{\"attributes\":{\"editor\":{\"id\":\"1664\"},\"field\":\"Algorithm\",\"formatter\":{\"id\":\"1663\"},\"title\":\"Algorithm\"},\"id\":\"1665\",\"type\":\"TableColumn\"},{\"attributes\":{},\"id\":\"1658\",\"type\":\"StringFormatter\"},{\"attributes\":{},\"id\":\"1668\",\"type\":\"StringFormatter\"},{\"attributes\":{},\"id\":\"1683\",\"type\":\"NumberFormatter\"},{\"attributes\":{\"source\":{\"id\":\"1656\"}},\"id\":\"1690\",\"type\":\"CDSView\"},{\"attributes\":{\"columns\":[{\"id\":\"1660\"},{\"id\":\"1665\"},{\"id\":\"1670\"},{\"id\":\"1675\"},{\"id\":\"1680\"},{\"id\":\"1685\"}],\"height\":300,\"reorderable\":false,\"source\":{\"id\":\"1656\"},\"view\":{\"id\":\"1690\"},\"width\":700},\"id\":\"1688\",\"type\":\"DataTable\"},{\"attributes\":{},\"id\":\"1659\",\"type\":\"StringEditor\"},{\"attributes\":{},\"id\":\"1679\",\"type\":\"NumberEditor\"},{\"attributes\":{},\"id\":\"1673\",\"type\":\"StringFormatter\"},{\"attributes\":{\"editor\":{\"id\":\"1659\"},\"field\":\"CoinName\",\"formatter\":{\"id\":\"1658\"},\"title\":\"CoinName\"},\"id\":\"1660\",\"type\":\"TableColumn\"}],\"root_ids\":[\"1654\"]},\"title\":\"Bokeh Application\",\"version\":\"2.3.2\"}};\n",
       "    var render_items = [{\"docid\":\"7c2e9802-09a2-4a0b-a7f7-c7f47f63b603\",\"root_ids\":[\"1654\"],\"roots\":{\"1654\":\"b550b024-acb2-463b-9645-69a7bb959b81\"}}];\n",
       "    root.Bokeh.embed.embed_items_notebook(docs_json, render_items);\n",
       "  }\n",
       "  if (root.Bokeh !== undefined && root.Bokeh.Panel !== undefined) {\n",
       "    embed_document(root);\n",
       "  } else {\n",
       "    var attempts = 0;\n",
       "    var timer = setInterval(function(root) {\n",
       "      if (root.Bokeh !== undefined && root.Bokeh.Panel !== undefined) {\n",
       "        clearInterval(timer);\n",
       "        embed_document(root);\n",
       "      } else if (document.readyState == \"complete\") {\n",
       "        attempts++;\n",
       "        if (attempts > 200) {\n",
       "          clearInterval(timer);\n",
       "          console.log(\"Bokeh: ERROR: Unable to run BokehJS code because BokehJS library is missing\");\n",
       "        }\n",
       "      }\n",
       "    }, 25, root)\n",
       "  }\n",
       "})(window);</script>"
      ],
      "text/plain": [
       ":Table   [CoinName,Algorithm,ProofType,TotalCoinSupply,TotalCoinsMined,Class]"
      ]
     },
     "execution_count": 45,
     "metadata": {
      "application/vnd.holoviews_exec.v0+json": {
       "id": "1654"
      }
     },
     "output_type": "execute_result"
    }
   ],
   "source": [
    "# Table with tradable cryptos\n",
    "tradable_cryptos = clustered_df.hvplot.table(columns=[\"CoinName\", \"Algorithm\", \"ProofType\", \"TotalCoinSupply\", \"TotalCoinsMined\", \"Class\"])\n",
    "tradable_cryptos"
   ]
  },
  {
   "cell_type": "code",
   "execution_count": 46,
   "metadata": {},
   "outputs": [
    {
     "name": "stdout",
     "output_type": "stream",
     "text": [
      "The total number of tradable cryptocurrencies is 532\n"
     ]
    }
   ],
   "source": [
    "# Print the total number of tradable cryptocurrencies\n",
    "print(f\"The total number of tradable cryptocurrencies is {len(clustered_df.index)}\")"
   ]
  },
  {
   "cell_type": "markdown",
   "metadata": {},
   "source": [
    "#### Scatter Plot with Tradable Cryptocurrencies"
   ]
  },
  {
   "cell_type": "code",
   "execution_count": 47,
   "metadata": {},
   "outputs": [],
   "source": [
    "# Scale data to create the scatter plot\n",
    "clustered_df[\"TotalCoinSupply\"] = clustered_df[\"TotalCoinSupply\"].astype(float)/100000000\n",
    "clustered_df[\"TotalCoinsMined\"] = clustered_df[\"TotalCoinsMined\"].astype(float)/100000000"
   ]
  },
  {
   "cell_type": "code",
   "execution_count": 48,
   "metadata": {},
   "outputs": [
    {
     "data": {},
     "metadata": {},
     "output_type": "display_data"
    },
    {
     "data": {
      "application/vnd.holoviews_exec.v0+json": "",
      "text/html": [
       "<div id='1707'>\n",
       "\n",
       "\n",
       "\n",
       "\n",
       "\n",
       "  <div class=\"bk-root\" id=\"862ddaec-c70b-4fa8-a9d5-5f6bac5077fa\" data-root-id=\"1707\"></div>\n",
       "</div>\n",
       "<script type=\"application/javascript\">(function(root) {\n",
       "  function embed_document(root) {\n",
       "    var docs_json = {\"9af83dec-5057-4e4d-9a9f-98000c1b1f78\":{\"defs\":[{\"extends\":null,\"module\":null,\"name\":\"ReactiveHTML1\",\"overrides\":[],\"properties\":[]},{\"extends\":null,\"module\":null,\"name\":\"FlexBox1\",\"overrides\":[],\"properties\":[{\"default\":\"flex-start\",\"kind\":null,\"name\":\"align_content\"},{\"default\":\"flex-start\",\"kind\":null,\"name\":\"align_items\"},{\"default\":\"row\",\"kind\":null,\"name\":\"flex_direction\"},{\"default\":\"wrap\",\"kind\":null,\"name\":\"flex_wrap\"},{\"default\":\"flex-start\",\"kind\":null,\"name\":\"justify_content\"}]},{\"extends\":null,\"module\":null,\"name\":\"TemplateActions1\",\"overrides\":[],\"properties\":[{\"default\":0,\"kind\":null,\"name\":\"open_modal\"},{\"default\":0,\"kind\":null,\"name\":\"close_modal\"}]},{\"extends\":null,\"module\":null,\"name\":\"MaterialTemplateActions1\",\"overrides\":[],\"properties\":[{\"default\":0,\"kind\":null,\"name\":\"open_modal\"},{\"default\":0,\"kind\":null,\"name\":\"close_modal\"}]}],\"roots\":{\"references\":[{\"attributes\":{},\"id\":\"1736\",\"type\":\"ResetTool\"},{\"attributes\":{},\"id\":\"1734\",\"type\":\"WheelZoomTool\"},{\"attributes\":{},\"id\":\"1733\",\"type\":\"PanTool\"},{\"attributes\":{\"overlay\":{\"id\":\"1737\"}},\"id\":\"1735\",\"type\":\"BoxZoomTool\"},{\"attributes\":{\"label\":{\"value\":\"1\"},\"renderers\":[{\"id\":\"1778\"}]},\"id\":\"1792\",\"type\":\"LegendItem\"},{\"attributes\":{\"data_source\":{\"id\":\"1772\"},\"glyph\":{\"id\":\"1775\"},\"hover_glyph\":null,\"muted_glyph\":{\"id\":\"1777\"},\"nonselection_glyph\":{\"id\":\"1776\"},\"selection_glyph\":{\"id\":\"1793\"},\"view\":{\"id\":\"1779\"}},\"id\":\"1778\",\"type\":\"GlyphRenderer\"},{\"attributes\":{},\"id\":\"1819\",\"type\":\"Selection\"},{\"attributes\":{\"fill_color\":{\"value\":\"#30a2da\"},\"line_color\":{\"value\":\"#30a2da\"},\"size\":{\"value\":5.477225575051661},\"x\":{\"field\":\"TotalCoinsMined\"},\"y\":{\"field\":\"TotalCoinSupply\"}},\"id\":\"1754\",\"type\":\"Scatter\"},{\"attributes\":{\"label\":{\"value\":\"0\"},\"renderers\":[{\"id\":\"1757\"}]},\"id\":\"1770\",\"type\":\"LegendItem\"},{\"attributes\":{\"angle\":{\"value\":0.0},\"fill_alpha\":{\"value\":1.0},\"fill_color\":{\"value\":\"#30a2da\"},\"hatch_alpha\":{\"value\":1.0},\"hatch_color\":{\"value\":\"black\"},\"hatch_scale\":{\"value\":12.0},\"hatch_weight\":{\"value\":1.0},\"line_alpha\":{\"value\":1.0},\"line_cap\":{\"value\":\"butt\"},\"line_color\":{\"value\":\"#30a2da\"},\"line_dash\":{\"value\":[]},\"line_dash_offset\":{\"value\":0},\"line_join\":{\"value\":\"bevel\"},\"line_width\":{\"value\":1},\"marker\":{\"value\":\"circle\"},\"size\":{\"value\":5.477225575051661},\"x\":{\"field\":\"TotalCoinsMined\"},\"y\":{\"field\":\"TotalCoinSupply\"}},\"id\":\"1771\",\"type\":\"Scatter\"},{\"attributes\":{\"source\":{\"id\":\"1751\"}},\"id\":\"1758\",\"type\":\"CDSView\"},{\"attributes\":{\"angle\":{\"value\":0.0},\"fill_alpha\":{\"value\":1.0},\"fill_color\":{\"value\":\"#fc4f30\"},\"hatch_alpha\":{\"value\":1.0},\"hatch_color\":{\"value\":\"black\"},\"hatch_scale\":{\"value\":12.0},\"hatch_weight\":{\"value\":1.0},\"line_alpha\":{\"value\":1.0},\"line_cap\":{\"value\":\"butt\"},\"line_color\":{\"value\":\"#fc4f30\"},\"line_dash\":{\"value\":[]},\"line_dash_offset\":{\"value\":0},\"line_join\":{\"value\":\"bevel\"},\"line_width\":{\"value\":1},\"marker\":{\"value\":\"circle\"},\"size\":{\"value\":5.477225575051661},\"x\":{\"field\":\"TotalCoinsMined\"},\"y\":{\"field\":\"TotalCoinSupply\"}},\"id\":\"1793\",\"type\":\"Scatter\"},{\"attributes\":{\"click_policy\":\"mute\",\"items\":[{\"id\":\"1770\"},{\"id\":\"1792\"},{\"id\":\"1816\"},{\"id\":\"1842\"}],\"location\":[0,0],\"title\":\"Class\"},\"id\":\"1769\",\"type\":\"Legend\"},{\"attributes\":{\"fill_alpha\":{\"value\":0.2},\"fill_color\":{\"value\":\"#fc4f30\"},\"line_alpha\":{\"value\":0.2},\"line_color\":{\"value\":\"#fc4f30\"},\"size\":{\"value\":5.477225575051661},\"x\":{\"field\":\"TotalCoinsMined\"},\"y\":{\"field\":\"TotalCoinSupply\"}},\"id\":\"1777\",\"type\":\"Scatter\"},{\"attributes\":{\"data\":{\"Class\":[0,0,0,0,0,0,0,0,0,0,0,0,0,0,0,0,0,0,0,0,0,0,0,0,0,0,0,0,0,0,0,0,0,0,0,0,0,0,0,0,0,0,0,0,0,0,0,0,0,0,0,0,0,0,0,0,0,0,0,0,0,0,0,0,0,0,0,0,0,0,0,0,0,0,0,0,0,0,0,0,0,0,0,0,0,0,0,0,0,0,0,0,0,0,0,0,0,0,0,0,0,0,0,0,0,0,0,0,0,0,0,0,0,0,0,0,0,0,0,0,0,0,0,0,0,0,0,0,0,0,0,0,0,0,0,0,0,0,0,0,0,0,0,0,0,0,0,0,0,0,0,0,0,0,0,0,0,0,0,0,0,0,0,0,0,0,0,0,0,0,0,0,0,0,0,0,0,0,0,0,0,0,0,0,0,0,0,0,0,0,0,0,0,0,0,0,0,0,0,0,0,0,0,0,0,0,0,0,0,0,0,0,0,0,0,0,0,0,0,0,0,0,0,0,0,0,0,0,0,0,0,0,0,0,0,0,0,0,0,0,0,0,0,0,0,0,0,0,0,0,0,0,0,0,0,0,0,0,0,0,0,0,0,0,0,0,0,0,0,0,0,0,0,0,0,0,0,0,0,0,0,0,0,0,0,0,0,0],\"CoinName\":[\"42 Coin\",\"404Coin\",\"EliteCoin\",\"Dash\",\"Bitshares\",\"BitcoinDark\",\"PayCoin\",\"KoboCoin\",\"Aurora Coin\",\"BlueCoin\",\"EnergyCoin\",\"BitBar\",\"CryptoBullion\",\"CasinoCoin\",\"Diamond\",\"Exclusive Coin\",\"FlutterCoin\",\"HoboNickels\",\"HyperStake\",\"IOCoin\",\"MaxCoin\",\"MintCoin\",\"MazaCoin\",\"Nautilus Coin\",\"NavCoin\",\"OpalCoin\",\"Orbitcoin\",\"PotCoin\",\"PhoenixCoin\",\"Reddcoin\",\"SuperCoin\",\"SyncCoin\",\"TeslaCoin\",\"TittieCoin\",\"TorCoin\",\"UnitaryStatus Dollar\",\"UltraCoin\",\"VeriCoin\",\"X11 Coin\",\"Crypti\",\"StealthCoin\",\"ZCC Coin\",\"BurstCoin\",\"StorjCoin\",\"Neutron\",\"FairCoin\",\"RubyCoin\",\"Kore\",\"Dnotes\",\"8BIT Coin\",\"Sativa Coin\",\"Ucoin\",\"Vtorrent\",\"IslaCoin\",\"Nexus\",\"Droidz\",\"Squall Coin\",\"Diggits\",\"Paycon\",\"Emercoin\",\"EverGreenCoin\",\"Decred\",\"EDRCoin\",\"Hitcoin\",\"DubaiCoin\",\"PWR Coin\",\"BillaryCoin\",\"GPU Coin\",\"EuropeCoin\",\"ZeitCoin\",\"SwingCoin\",\"SafeExchangeCoin\",\"Nebuchadnezzar\",\"Ratecoin\",\"Revenu\",\"Clockcoin\",\"VIP Tokens\",\"BitSend\",\"Let it Ride\",\"PutinCoin\",\"iBankCoin\",\"Frankywillcoin\",\"MudraCoin\",\"Lutetium Coin\",\"GoldBlocks\",\"CarterCoin\",\"BitTokens\",\"MustangCoin\",\"ZoneCoin\",\"RootCoin\",\"BitCurrency\",\"Swiscoin\",\"BuzzCoin\",\"Opair\",\"PesoBit\",\"Halloween Coin\",\"CoffeeCoin\",\"RoyalCoin\",\"GanjaCoin V2\",\"TeamUP\",\"LanaCoin\",\"ARK\",\"InsaneCoin\",\"EmberCoin\",\"XenixCoin\",\"FreeCoin\",\"PLNCoin\",\"AquariusCoin\",\"Creatio\",\"Eternity\",\"Eurocoin\",\"BitcoinFast\",\"Stakenet\",\"BitConnect Coin\",\"MoneyCoin\",\"Enigma\",\"Russiacoin\",\"PandaCoin\",\"GameUnits\",\"GAKHcoin\",\"Allsafe\",\"LiteCreed\",\"Klingon Empire Darsek\",\"Internet of People\",\"KushCoin\",\"Printerium\",\"Impeach\",\"Zilbercoin\",\"FirstCoin\",\"FindCoin\",\"OpenChat\",\"RenosCoin\",\"VirtacoinPlus\",\"TajCoin\",\"Impact\",\"Atmos\",\"HappyCoin\",\"MacronCoin\",\"Condensate\",\"Independent Money System\",\"ArgusCoin\",\"LomoCoin\",\"ProCurrency\",\"GoldReserve\",\"GrowthCoin\",\"Phreak\",\"Degas Coin\",\"HTML5 Coin\",\"Ultimate Secure Cash\",\"QTUM\",\"Espers\",\"Denarius\",\"Virta Unique Coin\",\"Bitcoin Planet\",\"BritCoin\",\"Linda\",\"DeepOnion\",\"Signatum\",\"Cream\",\"Monoeci\",\"Draftcoin\",\"Vechain\",\"Stakecoin\",\"CoinonatX\",\"Ethereum Dark\",\"Obsidian\",\"Cardano\",\"Regalcoin\",\"TrezarCoin\",\"TerraNovaCoin\",\"Rupee\",\"WomenCoin\",\"Theresa May Coin\",\"NamoCoin\",\"LUXCoin\",\"Xios\",\"Bitcloud 2.0\",\"KekCoin\",\"BlackholeCoin\",\"Infinity Economics\",\"Magnet\",\"Lamden Tau\",\"Electra\",\"Bitcoin Diamond\",\"Cash & Back Coin\",\"Bulwark\",\"Kalkulus\",\"GermanCoin\",\"LiteCoin Ultra\",\"PhantomX\",\"Digiwage\",\"Trollcoin\",\"Litecoin Plus\",\"Monkey Project\",\"TokenPay\",\"1717 Masonic Commemorative Token\",\"My Big Coin\",\"Unified Society USDEX\",\"Tokyo Coin\",\"Stipend\",\"Pushi\",\"Ellerium\",\"Velox\",\"Ontology\",\"Bitspace\",\"Briacoin\",\"Ignition\",\"MedicCoin\",\"Bitcoin Green\",\"Deviant Coin\",\"Abjcoin\",\"Semux\",\"Carebit\",\"Zealium\",\"Proton\",\"iDealCash\",\"Bitcoin Incognito\",\"HollyWoodCoin\",\"Swisscoin\",\"Xt3ch\",\"TheVig\",\"EmaratCoin\",\"Dekado\",\"Lynx\",\"Poseidon Quark\",\"BitcoinWSpectrum\",\"Muse\",\"Trivechain\",\"Dystem\",\"Giant\",\"Peony Coin\",\"Absolute Coin\",\"Vitae\",\"TPCash\",\"ARENON\",\"EUNO\",\"MMOCoin\",\"Ketan\",\"XDNA\",\"PAXEX\",\"ThunderStake\",\"Kcash\",\"Bettex coin\",\"BitMoney\",\"Junson Ming Chan Coin\",\"HerbCoin\",\"PirateCash\",\"Oduwa\",\"Galilel\",\"Crypto Sports\",\"Credit\",\"Dash Platinum\",\"Nasdacoin\",\"Beetle Coin\",\"Titan Coin\",\"Award\",\"Insane Coin\",\"ALAX\",\"LiteDoge\",\"TruckCoin\",\"OrangeCoin\",\"BitstarCoin\",\"NeosCoin\",\"HyperCoin\",\"PinkCoin\",\"AudioCoin\",\"IncaKoin\",\"Piggy Coin\",\"Genstake\",\"XiaoMiCoin\",\"CapriCoin\",\" ClubCoin\",\"Radium\",\"Creditbit \",\"OKCash\",\"Lisk\",\"HiCoin\",\"WhiteCoin\",\"FriendshipCoin\",\"Triangles Coin\",\"EOS\",\"Oxycoin\",\"TigerCash\",\"Particl\",\"Nxt\",\"ZEPHYR\",\"Gapcoin\",\"BitcoinPlus\"],\"TotalCoinSupply\":{\"__ndarray__\":\"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\",\"dtype\":\"float64\",\"order\":\"little\",\"shape\":[288]},\"TotalCoinsMined\":{\"__ndarray__\":\"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\",\"dtype\":\"float64\",\"order\":\"little\",\"shape\":[288]}},\"selected\":{\"id\":\"1752\"},\"selection_policy\":{\"id\":\"1767\"}},\"id\":\"1751\",\"type\":\"ColumnDataSource\"},{\"attributes\":{\"margin\":[5,5,5,5],\"name\":\"HSpacer03078\",\"sizing_mode\":\"stretch_width\"},\"id\":\"1708\",\"type\":\"Spacer\"},{\"attributes\":{},\"id\":\"1814\",\"type\":\"UnionRenderers\"},{\"attributes\":{\"fill_alpha\":{\"value\":0.1},\"fill_color\":{\"value\":\"#30a2da\"},\"line_alpha\":{\"value\":0.1},\"line_color\":{\"value\":\"#30a2da\"},\"size\":{\"value\":5.477225575051661},\"x\":{\"field\":\"TotalCoinsMined\"},\"y\":{\"field\":\"TotalCoinSupply\"}},\"id\":\"1755\",\"type\":\"Scatter\"},{\"attributes\":{\"end\":10324.168011566911,\"reset_end\":10324.168011566911,\"reset_start\":-424.28087675042156,\"start\":-424.28087675042156,\"tags\":[[[\"TotalCoinsMined\",\"TotalCoinsMined\",null]]]},\"id\":\"1709\",\"type\":\"Range1d\"},{\"attributes\":{\"label\":{\"value\":\"2\"},\"renderers\":[{\"id\":\"1800\"}]},\"id\":\"1816\",\"type\":\"LegendItem\"},{\"attributes\":{\"below\":[{\"id\":\"1724\"}],\"center\":[{\"id\":\"1727\"},{\"id\":\"1731\"}],\"height\":300,\"left\":[{\"id\":\"1728\"}],\"margin\":[5,5,5,5],\"min_border_bottom\":10,\"min_border_left\":10,\"min_border_right\":10,\"min_border_top\":10,\"renderers\":[{\"id\":\"1757\"},{\"id\":\"1778\"},{\"id\":\"1800\"},{\"id\":\"1824\"}],\"right\":[{\"id\":\"1769\"}],\"sizing_mode\":\"fixed\",\"title\":{\"id\":\"1716\"},\"toolbar\":{\"id\":\"1738\"},\"width\":700,\"x_range\":{\"id\":\"1709\"},\"x_scale\":{\"id\":\"1720\"},\"y_range\":{\"id\":\"1710\"},\"y_scale\":{\"id\":\"1722\"}},\"id\":\"1715\",\"subtype\":\"Figure\",\"type\":\"Plot\"},{\"attributes\":{},\"id\":\"1790\",\"type\":\"UnionRenderers\"},{\"attributes\":{\"bottom_units\":\"screen\",\"fill_alpha\":0.5,\"fill_color\":\"lightgrey\",\"left_units\":\"screen\",\"level\":\"overlay\",\"line_alpha\":1.0,\"line_color\":\"black\",\"line_dash\":[4,4],\"line_width\":2,\"right_units\":\"screen\",\"syncable\":false,\"top_units\":\"screen\"},\"id\":\"1737\",\"type\":\"BoxAnnotation\"},{\"attributes\":{\"active_multi\":null,\"tools\":[{\"id\":\"1711\"},{\"id\":\"1732\"},{\"id\":\"1733\"},{\"id\":\"1734\"},{\"id\":\"1735\"},{\"id\":\"1736\"}]},\"id\":\"1738\",\"type\":\"Toolbar\"},{\"attributes\":{},\"id\":\"1745\",\"type\":\"AllLabels\"},{\"attributes\":{\"children\":[{\"id\":\"1708\"},{\"id\":\"1715\"},{\"id\":\"1988\"}],\"margin\":[0,0,0,0],\"name\":\"Row03074\",\"tags\":[\"embedded\"]},\"id\":\"1707\",\"type\":\"Row\"},{\"attributes\":{\"source\":{\"id\":\"1772\"}},\"id\":\"1779\",\"type\":\"CDSView\"},{\"attributes\":{},\"id\":\"1748\",\"type\":\"AllLabels\"},{\"attributes\":{\"fill_alpha\":{\"value\":0.2},\"fill_color\":{\"value\":\"#e5ae38\"},\"line_alpha\":{\"value\":0.2},\"line_color\":{\"value\":\"#e5ae38\"},\"size\":{\"value\":5.477225575051661},\"x\":{\"field\":\"TotalCoinsMined\"},\"y\":{\"field\":\"TotalCoinSupply\"}},\"id\":\"1799\",\"type\":\"Scatter\"},{\"attributes\":{\"margin\":[5,5,5,5],\"name\":\"HSpacer03079\",\"sizing_mode\":\"stretch_width\"},\"id\":\"1988\",\"type\":\"Spacer\"},{\"attributes\":{},\"id\":\"1795\",\"type\":\"Selection\"},{\"attributes\":{\"text_color\":\"black\",\"text_font_size\":\"12pt\"},\"id\":\"1716\",\"type\":\"Title\"},{\"attributes\":{\"source\":{\"id\":\"1794\"}},\"id\":\"1801\",\"type\":\"CDSView\"},{\"attributes\":{\"angle\":{\"value\":0.0},\"fill_alpha\":{\"value\":1.0},\"fill_color\":{\"value\":\"#e5ae38\"},\"hatch_alpha\":{\"value\":1.0},\"hatch_color\":{\"value\":\"black\"},\"hatch_scale\":{\"value\":12.0},\"hatch_weight\":{\"value\":1.0},\"line_alpha\":{\"value\":1.0},\"line_cap\":{\"value\":\"butt\"},\"line_color\":{\"value\":\"#e5ae38\"},\"line_dash\":{\"value\":[]},\"line_dash_offset\":{\"value\":0},\"line_join\":{\"value\":\"bevel\"},\"line_width\":{\"value\":1},\"marker\":{\"value\":\"circle\"},\"size\":{\"value\":5.477225575051661},\"x\":{\"field\":\"TotalCoinsMined\"},\"y\":{\"field\":\"TotalCoinSupply\"}},\"id\":\"1817\",\"type\":\"Scatter\"},{\"attributes\":{\"fill_alpha\":{\"value\":0.1},\"fill_color\":{\"value\":\"#e5ae38\"},\"line_alpha\":{\"value\":0.1},\"line_color\":{\"value\":\"#e5ae38\"},\"size\":{\"value\":5.477225575051661},\"x\":{\"field\":\"TotalCoinsMined\"},\"y\":{\"field\":\"TotalCoinSupply\"}},\"id\":\"1798\",\"type\":\"Scatter\"},{\"attributes\":{},\"id\":\"1747\",\"type\":\"BasicTickFormatter\"},{\"attributes\":{\"axis\":{\"id\":\"1724\"},\"grid_line_color\":null,\"ticker\":null},\"id\":\"1727\",\"type\":\"Grid\"},{\"attributes\":{\"end\":11000.0,\"reset_end\":11000.0,\"reset_start\":-1000.0,\"start\":-1000.0,\"tags\":[[[\"TotalCoinSupply\",\"TotalCoinSupply\",null]]]},\"id\":\"1710\",\"type\":\"Range1d\"},{\"attributes\":{\"data_source\":{\"id\":\"1794\"},\"glyph\":{\"id\":\"1797\"},\"hover_glyph\":null,\"muted_glyph\":{\"id\":\"1799\"},\"nonselection_glyph\":{\"id\":\"1798\"},\"selection_glyph\":{\"id\":\"1817\"},\"view\":{\"id\":\"1801\"}},\"id\":\"1800\",\"type\":\"GlyphRenderer\"},{\"attributes\":{\"data_source\":{\"id\":\"1751\"},\"glyph\":{\"id\":\"1754\"},\"hover_glyph\":null,\"muted_glyph\":{\"id\":\"1756\"},\"nonselection_glyph\":{\"id\":\"1755\"},\"selection_glyph\":{\"id\":\"1771\"},\"view\":{\"id\":\"1758\"}},\"id\":\"1757\",\"type\":\"GlyphRenderer\"},{\"attributes\":{},\"id\":\"1720\",\"type\":\"LinearScale\"},{\"attributes\":{\"fill_color\":{\"value\":\"#6d904f\"},\"line_color\":{\"value\":\"#6d904f\"},\"size\":{\"value\":5.477225575051661},\"x\":{\"field\":\"TotalCoinsMined\"},\"y\":{\"field\":\"TotalCoinSupply\"}},\"id\":\"1821\",\"type\":\"Scatter\"},{\"attributes\":{\"label\":{\"value\":\"3\"},\"renderers\":[{\"id\":\"1824\"}]},\"id\":\"1842\",\"type\":\"LegendItem\"},{\"attributes\":{},\"id\":\"1725\",\"type\":\"BasicTicker\"},{\"attributes\":{\"source\":{\"id\":\"1818\"}},\"id\":\"1825\",\"type\":\"CDSView\"},{\"attributes\":{},\"id\":\"1752\",\"type\":\"Selection\"},{\"attributes\":{},\"id\":\"1722\",\"type\":\"LinearScale\"},{\"attributes\":{\"fill_alpha\":{\"value\":0.1},\"fill_color\":{\"value\":\"#fc4f30\"},\"line_alpha\":{\"value\":0.1},\"line_color\":{\"value\":\"#fc4f30\"},\"size\":{\"value\":5.477225575051661},\"x\":{\"field\":\"TotalCoinsMined\"},\"y\":{\"field\":\"TotalCoinSupply\"}},\"id\":\"1776\",\"type\":\"Scatter\"},{\"attributes\":{\"fill_alpha\":{\"value\":0.1},\"fill_color\":{\"value\":\"#6d904f\"},\"line_alpha\":{\"value\":0.1},\"line_color\":{\"value\":\"#6d904f\"},\"size\":{\"value\":5.477225575051661},\"x\":{\"field\":\"TotalCoinsMined\"},\"y\":{\"field\":\"TotalCoinSupply\"}},\"id\":\"1822\",\"type\":\"Scatter\"},{\"attributes\":{\"axis_label\":\"TotalCoinSupply\",\"formatter\":{\"id\":\"1750\"},\"major_label_policy\":{\"id\":\"1748\"},\"ticker\":{\"id\":\"1729\"}},\"id\":\"1728\",\"type\":\"LinearAxis\"},{\"attributes\":{\"angle\":{\"value\":0.0},\"fill_alpha\":{\"value\":1.0},\"fill_color\":{\"value\":\"#6d904f\"},\"hatch_alpha\":{\"value\":1.0},\"hatch_color\":{\"value\":\"black\"},\"hatch_scale\":{\"value\":12.0},\"hatch_weight\":{\"value\":1.0},\"line_alpha\":{\"value\":1.0},\"line_cap\":{\"value\":\"butt\"},\"line_color\":{\"value\":\"#6d904f\"},\"line_dash\":{\"value\":[]},\"line_dash_offset\":{\"value\":0},\"line_join\":{\"value\":\"bevel\"},\"line_width\":{\"value\":1},\"marker\":{\"value\":\"circle\"},\"size\":{\"value\":5.477225575051661},\"x\":{\"field\":\"TotalCoinsMined\"},\"y\":{\"field\":\"TotalCoinSupply\"}},\"id\":\"1843\",\"type\":\"Scatter\"},{\"attributes\":{\"axis_label\":\"TotalCoinsMined\",\"formatter\":{\"id\":\"1747\"},\"major_label_policy\":{\"id\":\"1745\"},\"ticker\":{\"id\":\"1725\"}},\"id\":\"1724\",\"type\":\"LinearAxis\"},{\"attributes\":{\"data_source\":{\"id\":\"1818\"},\"glyph\":{\"id\":\"1821\"},\"hover_glyph\":null,\"muted_glyph\":{\"id\":\"1823\"},\"nonselection_glyph\":{\"id\":\"1822\"},\"selection_glyph\":{\"id\":\"1843\"},\"view\":{\"id\":\"1825\"}},\"id\":\"1824\",\"type\":\"GlyphRenderer\"},{\"attributes\":{\"fill_color\":{\"value\":\"#fc4f30\"},\"line_color\":{\"value\":\"#fc4f30\"},\"size\":{\"value\":5.477225575051661},\"x\":{\"field\":\"TotalCoinsMined\"},\"y\":{\"field\":\"TotalCoinSupply\"}},\"id\":\"1775\",\"type\":\"Scatter\"},{\"attributes\":{},\"id\":\"1729\",\"type\":\"BasicTicker\"},{\"attributes\":{\"axis\":{\"id\":\"1728\"},\"dimension\":1,\"grid_line_color\":null,\"ticker\":null},\"id\":\"1731\",\"type\":\"Grid\"},{\"attributes\":{\"data\":{\"Class\":[2],\"CoinName\":[\"BitTorrent\"],\"TotalCoinSupply\":{\"__ndarray__\":\"AAAAAABWw0A=\",\"dtype\":\"float64\",\"order\":\"little\",\"shape\":[1]},\"TotalCoinsMined\":{\"__ndarray__\":\"C7KejfFVw0A=\",\"dtype\":\"float64\",\"order\":\"little\",\"shape\":[1]}},\"selected\":{\"id\":\"1795\"},\"selection_policy\":{\"id\":\"1814\"}},\"id\":\"1794\",\"type\":\"ColumnDataSource\"},{\"attributes\":{\"fill_color\":{\"value\":\"#e5ae38\"},\"line_color\":{\"value\":\"#e5ae38\"},\"size\":{\"value\":5.477225575051661},\"x\":{\"field\":\"TotalCoinsMined\"},\"y\":{\"field\":\"TotalCoinSupply\"}},\"id\":\"1797\",\"type\":\"Scatter\"},{\"attributes\":{},\"id\":\"1840\",\"type\":\"UnionRenderers\"},{\"attributes\":{\"fill_alpha\":{\"value\":0.2},\"fill_color\":{\"value\":\"#6d904f\"},\"line_alpha\":{\"value\":0.2},\"line_color\":{\"value\":\"#6d904f\"},\"size\":{\"value\":5.477225575051661},\"x\":{\"field\":\"TotalCoinsMined\"},\"y\":{\"field\":\"TotalCoinSupply\"}},\"id\":\"1823\",\"type\":\"Scatter\"},{\"attributes\":{},\"id\":\"1767\",\"type\":\"UnionRenderers\"},{\"attributes\":{},\"id\":\"1773\",\"type\":\"Selection\"},{\"attributes\":{},\"id\":\"1750\",\"type\":\"BasicTickFormatter\"},{\"attributes\":{\"fill_alpha\":{\"value\":0.2},\"fill_color\":{\"value\":\"#30a2da\"},\"line_alpha\":{\"value\":0.2},\"line_color\":{\"value\":\"#30a2da\"},\"size\":{\"value\":5.477225575051661},\"x\":{\"field\":\"TotalCoinsMined\"},\"y\":{\"field\":\"TotalCoinSupply\"}},\"id\":\"1756\",\"type\":\"Scatter\"},{\"attributes\":{\"data\":{\"Class\":[3,3,3,3,3],\"CoinName\":[\"BiblePay\",\"LitecoinCash\",\"Poa Network\",\"Acute Angle Cloud\",\"Waves\"],\"TotalCoinSupply\":{\"__ndarray__\":\"AAAAAAAASkDNzMzMzMwgQH/C2a1lMgRAAAAAAAAAJEAAAAAAAADwPw==\",\"dtype\":\"float64\",\"order\":\"little\",\"shape\":[5]},\"TotalCoinsMined\":{\"__ndarray__\":\"euAK6424MUDlMB/7CIkZQPrMYRC7WwBAAAAAAAAAJEAAAAAAAADwPw==\",\"dtype\":\"float64\",\"order\":\"little\",\"shape\":[5]}},\"selected\":{\"id\":\"1819\"},\"selection_policy\":{\"id\":\"1840\"}},\"id\":\"1818\",\"type\":\"ColumnDataSource\"},{\"attributes\":{\"data\":{\"Class\":[1,1,1,1,1,1,1,1,1,1,1,1,1,1,1,1,1,1,1,1,1,1,1,1,1,1,1,1,1,1,1,1,1,1,1,1,1,1,1,1,1,1,1,1,1,1,1,1,1,1,1,1,1,1,1,1,1,1,1,1,1,1,1,1,1,1,1,1,1,1,1,1,1,1,1,1,1,1,1,1,1,1,1,1,1,1,1,1,1,1,1,1,1,1,1,1,1,1,1,1,1,1,1,1,1,1,1,1,1,1,1,1,1,1,1,1,1,1,1,1,1,1,1,1,1,1,1,1,1,1,1,1,1,1,1,1,1,1,1,1,1,1,1,1,1,1,1,1,1,1,1,1,1,1,1,1,1,1,1,1,1,1,1,1,1,1,1,1,1,1,1,1,1,1,1,1,1,1,1,1,1,1,1,1,1,1,1,1,1,1,1,1,1,1,1,1,1,1,1,1,1,1,1,1,1,1,1,1,1,1,1,1,1,1,1,1,1,1,1,1,1,1,1,1,1,1,1,1,1,1,1,1,1,1,1,1,1,1],\"CoinName\":[\"Bitcoin\",\"Ethereum\",\"Litecoin\",\"Monero\",\"Ethereum Classic\",\"ZCash\",\"DigiByte\",\"ProsperCoin\",\"Spreadcoin\",\"Argentum\",\"MyriadCoin\",\"MoonCoin\",\"ZetaCoin\",\"SexCoin\",\"Quatloo\",\"QuarkCoin\",\"Riecoin\",\"Digitalcoin \",\"Catcoin\",\"CannaCoin\",\"CryptCoin\",\"Verge\",\"DevCoin\",\"EarthCoin\",\"E-Gulden\",\"Einsteinium\",\"Emerald\",\"Franko\",\"FeatherCoin\",\"GrandCoin\",\"GlobalCoin\",\"GoldCoin\",\"Infinite Coin\",\"IXcoin\",\"KrugerCoin\",\"LuckyCoin\",\"Litebar \",\"MegaCoin\",\"MediterraneanCoin\",\"MinCoin\",\"NobleCoin\",\"Namecoin\",\"NyanCoin\",\"RonPaulCoin\",\"StableCoin\",\"SmartCoin\",\"SysCoin\",\"TigerCoin\",\"TerraCoin\",\"UnbreakableCoin\",\"Unobtanium\",\"UroCoin\",\"ViaCoin\",\"Vertcoin\",\"WorldCoin\",\"JouleCoin\",\"ByteCoin\",\"DigitalNote \",\"MonaCoin\",\"Gulden\",\"PesetaCoin\",\"Wild Beast Coin\",\"Flo\",\"ArtByte\",\"Folding Coin\",\"Unitus\",\"CypherPunkCoin\",\"OmniCron\",\"GreenCoin\",\"Cryptonite\",\"MasterCoin\",\"SoonCoin\",\"1Credit\",\"MarsCoin \",\"Crypto\",\"Anarchists Prime\",\"BowsCoin\",\"Song Coin\",\"BitZeny\",\"Expanse\",\"Siacoin\",\"MindCoin\",\"I0coin\",\"Revolution VR\",\"HOdlcoin\",\"Gamecredits\",\"CarpeDiemCoin\",\"Adzcoin\",\"SoilCoin\",\"YoCoin\",\"SibCoin\",\"Francs\",\"BolivarCoin\",\"Omni\",\"PizzaCoin\",\"Komodo\",\"Karbo\",\"ZayedCoin\",\"Circuits of Value\",\"DopeCoin\",\"DollarCoin\",\"Shilling\",\"ZCoin\",\"Elementrem\",\"ZClassic\",\"KiloCoin\",\"ArtexCoin\",\"Kurrent\",\"Cannabis Industry Coin\",\"OsmiumCoin\",\"Bikercoins\",\"HexxCoin\",\"PacCoin\",\"Citadel\",\"BeaverCoin\",\"VaultCoin\",\"Zero\",\"Canada eCoin\",\"Zoin\",\"DubaiCoin\",\"EB3coin\",\"Coinonat\",\"BenjiRolls\",\"ILCoin\",\"EquiTrader\",\"Quantum Resistant Ledger\",\"Dynamic\",\"Nano\",\"ChanCoin\",\"Dinastycoin\",\"DigitalPrice\",\"Unify\",\"SocialCoin\",\"ArcticCoin\",\"DAS\",\"LeviarCoin\",\"Bitcore\",\"gCn Coin\",\"SmartCash\",\"Onix\",\"Bitcoin Cash\",\"Sojourn Coin\",\"NewYorkCoin\",\"FrazCoin\",\"Kronecoin\",\"AdCoin\",\"Linx\",\"Sumokoin\",\"BitcoinZ\",\"Elements\",\"VIVO Coin\",\"Bitcoin Gold\",\"Pirl\",\"eBoost\",\"Pura\",\"Innova\",\"Ellaism\",\"GoByte\",\"SHIELD\",\"UltraNote\",\"BitCoal\",\"DaxxCoin\",\"AC3\",\"Lethean\",\"PopularCoin\",\"Photon\",\"Sucre\",\"SparksPay\",\"GunCoin\",\"IrishCoin\",\"Pioneer Coin\",\"UnitedBitcoin\",\"Interzone\",\"TurtleCoin\",\"MUNcoin\",\"Niobio Cash\",\"ShareChain\",\"Travelflex\",\"KREDS\",\"BitFlip\",\"LottoCoin\",\"Crypto Improvement Fund\",\"Callisto Network\",\"BitTube\",\"Poseidon\",\"Aidos Kuneen\",\"Bitrolium\",\"Alpenschillling\",\"FuturoCoin\",\"Monero Classic\",\"Jumpcoin\",\"Infinex\",\"KEYCO\",\"GINcoin\",\"PlatinCoin\",\"Loki\",\"Newton Coin\",\"MassGrid\",\"PluraCoin\",\"Motion\",\"PlusOneCoin\",\"Axe\",\"HexCoin\",\"Webchain\",\"Ryo\",\"Urals Coin\",\"Qwertycoin\",\"Project Pai\",\"Azart\",\"Xchange\",\"CrypticCoin\",\"Actinium\",\"Bitcoin SV\",\"FREDEnergy\",\"Universal Molecule\",\"Lithium\",\"Exosis\",\"Block-Logic\",\"Beam\",\"Bithereum\",\"SLICE\",\"BLAST\",\"Bitcoin Rhodium\",\"GlobalToken\",\"SolarCoin\",\"UFO Coin\",\"BlakeCoin\",\"Crypto Escudo\",\"Crown Coin\",\"SmileyCoin\",\"Groestlcoin\",\"Bata\",\"Pakcoin\",\"JoinCoin\",\"Vollar\",\"Reality Clash\",\"Beldex\",\"Horizen\"],\"TotalCoinSupply\":{\"__ndarray__\":\"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\",\"dtype\":\"float64\",\"order\":\"little\",\"shape\":[238]},\"TotalCoinsMined\":{\"__ndarray__\":\"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\",\"dtype\":\"float64\",\"order\":\"little\",\"shape\":[238]}},\"selected\":{\"id\":\"1773\"},\"selection_policy\":{\"id\":\"1790\"}},\"id\":\"1772\",\"type\":\"ColumnDataSource\"},{\"attributes\":{},\"id\":\"1732\",\"type\":\"SaveTool\"},{\"attributes\":{\"callback\":null,\"renderers\":[{\"id\":\"1757\"},{\"id\":\"1778\"},{\"id\":\"1800\"},{\"id\":\"1824\"}],\"tags\":[\"hv_created\"],\"tooltips\":[[\"Class\",\"@{Class}\"],[\"TotalCoinsMined\",\"@{TotalCoinsMined}\"],[\"TotalCoinSupply\",\"@{TotalCoinSupply}\"],[\"CoinName\",\"@{CoinName}\"]]},\"id\":\"1711\",\"type\":\"HoverTool\"}],\"root_ids\":[\"1707\"]},\"title\":\"Bokeh Application\",\"version\":\"2.3.2\"}};\n",
       "    var render_items = [{\"docid\":\"9af83dec-5057-4e4d-9a9f-98000c1b1f78\",\"root_ids\":[\"1707\"],\"roots\":{\"1707\":\"862ddaec-c70b-4fa8-a9d5-5f6bac5077fa\"}}];\n",
       "    root.Bokeh.embed.embed_items_notebook(docs_json, render_items);\n",
       "  }\n",
       "  if (root.Bokeh !== undefined && root.Bokeh.Panel !== undefined) {\n",
       "    embed_document(root);\n",
       "  } else {\n",
       "    var attempts = 0;\n",
       "    var timer = setInterval(function(root) {\n",
       "      if (root.Bokeh !== undefined && root.Bokeh.Panel !== undefined) {\n",
       "        clearInterval(timer);\n",
       "        embed_document(root);\n",
       "      } else if (document.readyState == \"complete\") {\n",
       "        attempts++;\n",
       "        if (attempts > 200) {\n",
       "          clearInterval(timer);\n",
       "          console.log(\"Bokeh: ERROR: Unable to run BokehJS code because BokehJS library is missing\");\n",
       "        }\n",
       "      }\n",
       "    }, 25, root)\n",
       "  }\n",
       "})(window);</script>"
      ],
      "text/plain": [
       ":NdOverlay   [Class]\n",
       "   :Scatter   [TotalCoinsMined]   (TotalCoinSupply,CoinName)"
      ]
     },
     "execution_count": 48,
     "metadata": {
      "application/vnd.holoviews_exec.v0+json": {
       "id": "1707"
      }
     },
     "output_type": "execute_result"
    }
   ],
   "source": [
    "# Plot the scatter with x=\"TotalCoinsMined\" and y=\"TotalCoinSupply\"\n",
    "clustered_df.hvplot.scatter(\n",
    "    x=\"TotalCoinsMined\", \n",
    "    y=\"TotalCoinSupply\", \n",
    "    by=\"Class\",\n",
    "    hover_cols=[\"CoinName\"]\n",
    ")"
   ]
  },
  {
   "cell_type": "code",
   "execution_count": null,
   "metadata": {},
   "outputs": [],
   "source": []
  },
  {
   "cell_type": "code",
   "execution_count": null,
   "metadata": {},
   "outputs": [],
   "source": []
  }
 ],
 "metadata": {
  "file_extension": ".py",
  "kernelspec": {
   "display_name": "Python [conda env:alpacaenv]",
   "language": "python",
   "name": "conda-env-alpacaenv-py"
  },
  "language_info": {
   "codemirror_mode": {
    "name": "ipython",
    "version": 3
   },
   "file_extension": ".py",
   "mimetype": "text/x-python",
   "name": "python",
   "nbconvert_exporter": "python",
   "pygments_lexer": "ipython3",
   "version": "3.7.10"
  },
  "mimetype": "text/x-python",
  "name": "python",
  "npconvert_exporter": "python",
  "pygments_lexer": "ipython3",
  "version": 3
 },
 "nbformat": 4,
 "nbformat_minor": 4
}
